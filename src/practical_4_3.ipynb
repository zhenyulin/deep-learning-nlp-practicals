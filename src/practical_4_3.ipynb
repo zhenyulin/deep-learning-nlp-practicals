{
 "cells": [
  {
   "cell_type": "code",
   "execution_count": 30,
   "metadata": {},
   "outputs": [],
   "source": [
    "#\n",
    "# Content Summary Model - Seq2Seq with Attention\n",
    "#"
   ]
  },
  {
   "cell_type": "code",
   "execution_count": 31,
   "metadata": {},
   "outputs": [],
   "source": [
    "# TODO\n",
    "# - implement the evaluation metrics\n",
    "# - implement beam search in generator\n",
    "# - compare GRU and BI-GRU in performance\n",
    "# - compare LSTM and GRU in performance\n",
    "# - use CNN as compressor\n",
    "# - try pretrain compressor and generator on language model\n",
    "# - use a concatenated vocab encoder/decoder for compressor and generator"
   ]
  },
  {
   "cell_type": "code",
   "execution_count": 32,
   "metadata": {},
   "outputs": [],
   "source": [
    "#\n",
    "# Hyperparam\n",
    "#\n",
    "PROJECT_PATH = \".\"\n",
    "\n",
    "DATASET_SIZE = 2500\n",
    "BATCH_SIZE = 40\n",
    "FILTERED_DATASET_SIZE = DATASET_SIZE\n",
    "BATCHES_PER_EPOCH = FILTERED_DATASET_SIZE // BATCH_SIZE\n",
    "\n",
    "MAX_CONTENT_LENGTH = 4000\n",
    "CONTENT_SEGMENT_LENGTH = 100\n",
    "CONTENT_NUM_SEGMENT = MAX_CONTENT_LENGTH // CONTENT_SEGMENT_LENGTH\n",
    "\n",
    "MAX_SUMMARY_LENGTH = 151\n",
    "SUMMARY_MINI_BATCH_LENGTH = 3\n",
    "SUMMARY_NUM_MINI_BATCH = (MAX_SUMMARY_LENGTH - 1) // SUMMARY_MINI_BATCH_LENGTH\n",
    "\n",
    "EMBEDDING_SIZE = 50\n",
    "RNN_SIZE = 128\n",
    "\n",
    "EPOCHS = 10"
   ]
  },
  {
   "cell_type": "code",
   "execution_count": 33,
   "metadata": {
    "scrolled": true
   },
   "outputs": [],
   "source": [
    "import time\n",
    "import numpy as np\n",
    "import tensorflow as tf\n",
    "\n",
    "from tqdm import tqdm\n",
    "from pprint import pprint\n",
    "\n",
    "from lib.data import load_TED_dataset\n",
    "from lib.text import (\n",
    "    build_encoder_decoder_from_vocab,\n",
    "    flat_clip_in_words,\n",
    ")"
   ]
  },
  {
   "cell_type": "code",
   "execution_count": 34,
   "metadata": {
    "scrolled": true
   },
   "outputs": [],
   "source": [
    "# TabNine::sem"
   ]
  },
  {
   "cell_type": "code",
   "execution_count": 35,
   "metadata": {
    "scrolled": true
   },
   "outputs": [
    {
     "name": "stdout",
     "output_type": "stream",
     "text": [
      "ted_en-20160408.zip already downloaded.\n"
     ]
    },
    {
     "name": "stderr",
     "output_type": "stream",
     "text": [
      "\n",
      "  0%|          | 0/2085 [00:00<?, ?it/s]\u001b[A\n",
      "  3%|▎         | 60/2085 [00:00<00:03, 596.58it/s]\u001b[A\n",
      "  6%|▌         | 123/2085 [00:00<00:03, 603.79it/s]\u001b[A\n",
      "  9%|▉         | 184/2085 [00:00<00:03, 605.36it/s]\u001b[A\n",
      " 12%|█▏        | 246/2085 [00:00<00:03, 600.95it/s]\u001b[A\n",
      " 15%|█▍        | 311/2085 [00:00<00:02, 611.28it/s]\u001b[A\n",
      " 18%|█▊        | 378/2085 [00:00<00:02, 626.02it/s]\u001b[A\n",
      " 21%|██        | 439/2085 [00:00<00:02, 619.64it/s]\u001b[A\n",
      " 24%|██▍       | 503/2085 [00:00<00:02, 624.66it/s]\u001b[A\n",
      " 27%|██▋       | 569/2085 [00:00<00:02, 632.02it/s]\u001b[A\n",
      " 30%|███       | 632/2085 [00:01<00:02, 624.65it/s]\u001b[A\n",
      " 33%|███▎      | 693/2085 [00:01<00:02, 574.90it/s]\u001b[A\n",
      " 36%|███▌      | 751/2085 [00:01<00:02, 573.79it/s]\u001b[A\n",
      " 39%|███▉      | 818/2085 [00:01<00:02, 597.67it/s]\u001b[A\n",
      " 42%|████▏     | 878/2085 [00:01<00:02, 587.86it/s]\u001b[A\n",
      " 45%|████▌     | 939/2085 [00:01<00:01, 593.35it/s]\u001b[A\n",
      " 48%|████▊     | 999/2085 [00:01<00:01, 593.57it/s]\u001b[A\n",
      " 51%|█████     | 1059/2085 [00:01<00:01, 581.05it/s]\u001b[A\n",
      " 54%|█████▎    | 1118/2085 [00:01<00:01, 559.25it/s]\u001b[A\n",
      " 57%|█████▋    | 1183/2085 [00:01<00:01, 583.14it/s]\u001b[A\n",
      " 60%|█████▉    | 1244/2085 [00:02<00:01, 589.96it/s]\u001b[A\n",
      " 63%|██████▎   | 1304/2085 [00:02<00:01, 581.65it/s]\u001b[A\n",
      " 65%|██████▌   | 1363/2085 [00:02<00:01, 582.47it/s]\u001b[A\n",
      " 68%|██████▊   | 1422/2085 [00:02<00:01, 561.03it/s]\u001b[A\n",
      " 71%|███████   | 1479/2085 [00:02<00:01, 549.46it/s]\u001b[A\n",
      " 74%|███████▎  | 1535/2085 [00:02<00:01, 519.67it/s]\u001b[A\n",
      " 76%|███████▋  | 1591/2085 [00:02<00:00, 530.89it/s]\u001b[A\n",
      " 79%|███████▉  | 1656/2085 [00:02<00:00, 557.55it/s]\u001b[A\n",
      " 82%|████████▏ | 1713/2085 [00:02<00:00, 538.31it/s]\u001b[A\n",
      " 85%|████████▍ | 1768/2085 [00:03<00:00, 493.12it/s]\u001b[A\n",
      " 87%|████████▋ | 1819/2085 [00:03<00:00, 478.48it/s]\u001b[A\n",
      " 90%|████████▉ | 1868/2085 [00:03<00:00, 476.88it/s]\u001b[A\n",
      " 92%|█████████▏| 1920/2085 [00:03<00:00, 486.59it/s]\u001b[A\n",
      " 94%|█████████▍| 1970/2085 [00:03<00:00, 475.75it/s]\u001b[A\n",
      " 97%|█████████▋| 2018/2085 [00:03<00:00, 468.79it/s]\u001b[A\n",
      "100%|██████████| 2085/2085 [00:03<00:00, 550.76it/s]\u001b[A\n",
      "\n",
      "  0%|          | 0/2085 [00:00<?, ?it/s]\u001b[A\n",
      "100%|██████████| 2085/2085 [00:00<00:00, 17139.71it/s]\u001b[A"
     ]
    },
    {
     "name": "stdout",
     "output_type": "stream",
     "text": [
      "Jenni Chang: When I told my parents I was gay, the first thing they said to me was, \"We're bringing you back to Taiwan.\"\n",
      "(Laughter)\n",
      "In their minds, my sexual orientation was America's fault. The West had corrupted me with divergent ideas, and if only my parents had never left Taiwan, this would not have happened to their only daughter. In truth, I wondered if they were right.\n",
      "Of course, there are gay people in Asia, just as there are gay people in every part of the world. But is the idea of living an \"out\" life, in the \"I'm gay, this is my spouse, and we're proud of our lives together\" kind of way just a Western idea?\n",
      "If I had grown up in Taiwan, or any place outside of the West, would I have found models of happy, thriving LGBT people?\n",
      "Lisa Dazols: I had similar notions. As an HIV social worker in San Francisco, I had met many gay immigrants. They told me their stories of persecution in their home countries, just for being gay, and the reasons why they escaped to the US. I saw how this had beaten them down. After 10 years of doing this kind of work, I needed better stories for myself. I knew the world was far from perfect, but surely not every gay story was tragic.\n",
      "JC: So as a couple, we both had a need to find stories of hope. So we set off on a mission to travel the world and look for the people we finally termed as the \"Supergays.\"\n",
      "(Laughter)\n",
      "These would be the LGBT individuals who were doing something extraordinary in the world. They would be courageous, resilient, and most of all, proud of who they were. They would be the kind of person that I aspire to be. Our plan was to share their stories to the world through film.\n",
      "LD: There was just one problem. We had zero reporting and zero filmmaking experience.\n",
      "(Laughter)\n",
      "We didn't even know where to find the Supergays, so we just had to trust that we'd figure it all out along the way. So we picked 15 countries in Asia, Africa and South America, countries outside the West that varied in terms of LGBT rights. We bought a camcorder, ordered a book on how to make a documentary --\n",
      "(Laughter)\n",
      "you can learn a lot these days -- and set off on an around-the-world trip.\n",
      "JC: One of the first countries that we traveled to was Nepal. Despite widespread poverty, a decade-long civil war, and now recently, a devastating earthquake, Nepal has made significant strides in the fight for equality. One of the key figures in the movement is Bhumika Shrestha. A beautiful, vibrant transgendered woman, Bhumika has had to overcome being expelled from school and getting incarcerated because of her gender presentation. But, in 2007, Bhumika and Nepal's LGBT rights organization successfully petitioned the Nepali Supreme Court to protect against LGBT discrimination.\n",
      "Here's Bhumika:\n",
      "(Video) BS: What I'm most proud of? I'm a transgendered person. I'm so proud of my life. On December 21, 2007, the supreme court gave the decision for the Nepal government to give transgender identity cards and same-sex marriage.\n",
      "LD: I can appreciate Bhumika's confidence on a daily basis. Something as simple as using a public restroom can be a huge challenge when you don't fit in to people's strict gender expectations. Traveling throughout Asia, I tended to freak out women in public restrooms. They weren't used to seeing someone like me. I had to come up with a strategy, so that I could just pee in peace.\n",
      "(Laughter)\n",
      "So anytime I would enter a restroom, I would thrust out my chest to show my womanly parts, and try to be as non-threatening as possible. Putting out my hands and saying, \"Hello\", just so that people could hear my feminine voice. This all gets pretty exhausting, but it's just who I am. I can't be anything else.\n",
      "JC: After Nepal, we traveled to India. On one hand, India is a Hindu society, without a tradition of homophobia. On the other hand, it is also a society with a deeply patriarchal system, which rejects anything that threatens the male-female order. When we spoke to activists, they told us that empowerment begins with ensuring proper gender equality, where the women's status is established in society. And in that way, the status of LGBT people can be affirmed as well.\n",
      "LD: There we met Prince Manvendra. He's the world's first openly gay prince. Prince Manvendra came out on the \"Oprah Winfrey Show,\" very internationally. His parents disowned him and accused him of bringing great shame to the royal family. We sat down with Prince Manvendra and talked to him about why he decided to come out so very publicly.\n",
      "Here he is:\n",
      "(Video) Prince Manvendra: I felt there was a lot of need to break this stigma and discrimination which is existing in our society. And that instigated me to come out openly and talk about myself. Whether we are gay, we are lesbian, we are transgender, bisexual or whatever sexual minority we come from, we have to all unite and fight for our rights. Gay rights cannot be won in the court rooms, but in the hearts and the minds of the people.\n",
      "JC: While getting my hair cut, the woman cutting my hair asked me, \"Do you have a husband?\" Now, this was a dreaded question that I got asked a lot by locals while traveling. When I explained to her that I was with a woman instead of a man, she was incredulous, and she asked me a lot of questions about my parents' reactions and whether I was sad that I'd never be able to have children. I told her that there are no limitations to my life and that Lisa and I do plan to have a family some day. Now, this woman was ready to write me off as yet another crazy Westerner. She couldn't imagine that such a phenomenon could happen in her own country. That is, until I showed her the photos of the Supergays that we interviewed in India. She recognized Prince Manvendra from television and soon I had an audience of other hairdressers interested in meeting me.\n",
      "(Laughter)\n",
      "And in that ordinary afternoon, I had the chance to introduce an entire beauty salon to the social changes that were happening in their own country.\n",
      "LD: From India, we traveled to East Africa, a region known for intolerance towards LGBT people. In Kenya, 89 percent of people who come out to their families are disowned. Homosexual acts are a crime and can lead to incarceration. In Kenya, we met the soft-spoken David Kuria. David had a huge mission of wanting to work for the poor and improve his own government. So he decided to run for senate. He became Kenya's first openly gay political candidate. David wanted to run his campaign without denying the reality of who he was. But we were worried for his safety because he started to receive death threats.\n",
      "(Video) David Kuria: At that point, I was really scared because they were actually asking for me to be killed. And, yeah, there are some people out there who do it and they feel that they are doing a religious obligation.\n",
      "JC: David wasn't ashamed of who he was. Even in the face of threats, he stayed authentic.\n",
      "LD: At the opposite end of the spectrum is Argentina. Argentina's a country where 92 percent of the population identifies as Catholic. Yet, Argentina has LGBT laws that are even more progressive than here in the US. In 2010, Argentina became the first country in Latin America and the 10th in the world to adopt marriage equality.\n",
      "There, we met María Rachid. María was a driving force behind that movement.\n",
      "María Rachid (Spanish): I always say that, in reality, the effects of marriage equality are not only for those couples that get married. They are for a lot of people that, even though they may never get married, will be perceived differently by their coworkers, their families and neighbors, from the national state's message of equality. I feel very proud of Argentina because Argentina today is a model of equality. And hopefully soon, the whole world will have the same rights.\n",
      "JC: When we made the visit to my ancestral lands, I wish I could have shown my parents what we found there. Because here is who we met:\n",
      "(Video) One, two, three. Welcome gays to Shanghai!\n",
      "(Laughter)\n",
      "A whole community of young, beautiful Chinese LGBT people. Sure, they had their struggles. But they were fighting it out. In Shanghai, I had the chance to speak to a local lesbian group and tell them our story in my broken Mandarin Chinese. In Taipei, each time we got onto the metro, we saw yet another lesbian couple holding hands. And we learned that Asia's largest LGBT pride event happens just blocks away from where my grandparents live. If only my parents knew.\n",
      "LD: By the time we finished our not-so-straight journey around the world,\n",
      "(Laughter)\n",
      "we had traveled 50,000 miles and logged 120 hours of video footage. We traveled to 15 countries and interviewed 50 Supergays. Turns out, it wasn't hard to find them at all.\n",
      "JC: Yes, there are still tragedies that happen on the bumpy road to equality. And let's not forget that 75 countries still criminalize homosexuality today. But there are also stories of hope and courage in every corner of the world. What we ultimately took away from our journey is, equality is not a Western invention.\n",
      "LD: One of the key factors in this equality movement is momentum, momentum as more and more people embrace their full selves and use whatever opportunities they have to change their part of the world, and momentum as more and more countries find models of equality in one another. When Nepal protected against LGBT discrimination, India pushed harder. When Argentina embraced marriage equality, Uruguay and Brazil followed. When Ireland said yes to equality,\n",
      "(Applause)\n",
      "the world stopped to notice. When the US Supreme Court makes a statement to the world that we can all be proud of.\n",
      "(Applause)\n",
      "JC: As we reviewed our footage, what we realized is that we were watching a love story. It wasn't a love story that was expected of me, but it is one filled with more freedom, adventure and love than I could have ever possibly imagined. One year after returning home from our trip, marriage equality came to California. And in the end, we believe, love will win out.\n",
      "(Video) By the power vested in me, by the state of California and by God Almighty, I now pronounce you spouses for life. You may kiss.\n",
      "(Applause)\n",
      "TED Talk Subtitles and Transcript: As a gay couple in San Francisco, Jenni Chang and Lisa Dazols had a relatively easy time living the way they wanted. But outside the bubble of the Bay Area, what was life like for people still lacking basic rights? They set off on a world tour in search of \"Supergays,\" LGBT people who were doing something extraordinary in the world. In 15 countries across Africa, Asia and South America -- from India, recently home to the world's first openly gay prince, to Argentina, the first country in Latin America to grant marriage equality -- they found the inspiring stories and the courageous, resilient and proud Supergays they had been looking for.\n",
      "(['_BOC_', '_BOS_', 'when', 'i', 'told', 'my', 'parents', 'i', 'was', 'gay', 'the', 'first', 'thing', 'they', 'said', 'to', 'me', 'was', 'we', 're', 'bringing', 'you', 'back', 'to', 'taiwan', '_EOS_', '_BOS_', '_EOS_', '_BOS_', '_EOS_', '_BOS_', 'in', 'their', 'minds', 'my', 'sexual', 'orientation', 'was', 'america', 's', 'fault', '_EOS_', '_BOS_', 'the', 'west', 'had', 'corrupted', 'me', 'with', 'divergent', 'ideas', 'and', 'if', 'only', 'my', 'parents', 'had', 'never', 'left', 'taiwan', 'this', 'would', 'not', 'have', 'happened', 'to', 'their', 'only', 'daughter', '_EOS_', '_BOS_', 'in', 'truth', 'i', 'wondered', 'if', 'they', 'were', 'right', '_EOS_', '_BOS_', '_EOS_', '_BOS_', 'of', 'course', 'there', 'are', 'gay', 'people', 'in', 'asia', 'just', 'as', 'there', 'are', 'gay', 'people', 'in', 'every', 'part', 'of', 'the', 'world', '_EOS_', '_BOS_', 'but', 'is', 'the', 'idea', 'of', 'living', 'an', 'out', 'life', 'in', 'the', 'i', 'm', 'gay', 'this', 'is', 'my', 'spouse', 'and', 'we', 're', 'proud', 'of', 'our', 'lives', 'together', 'kind', 'of', 'way', 'just', 'a', 'western', 'idea', '_EOS_', '_BOS_', '_EOS_', '_BOS_', 'if', 'i', 'had', 'grown', 'up', 'in', 'taiwan', 'or', 'any', 'place', 'outside', 'of', 'the', 'west', 'would', 'i', 'have', 'found', 'models', 'of', 'happy', 'thriving', 'lgbt', 'people', '_EOS_', '_BOS_', '_EOS_', '_BOS_', 'i', 'had', 'similar', 'notions', '_EOS_', '_BOS_', 'as', 'an', 'hiv', 'social', 'worker', 'in', 'san', 'francisco', 'i', 'had', 'met', 'many', 'gay', 'immigrants', '_EOS_', '_BOS_', 'they', 'told', 'me', 'their', 'stories', 'of', 'persecution', 'in', 'their', 'home', 'countries', 'just', 'for', 'being', 'gay', 'and', 'the', 'reasons', 'why', 'they', 'escaped', 'to', 'the', 'us', '_EOS_', '_BOS_', 'i', 'saw', 'how', 'this', 'had', 'beaten', 'them', 'down', '_EOS_', '_BOS_', 'after', '10', 'years', 'of', 'doing', 'this', 'kind', 'of', 'work', 'i', 'needed', 'better', 'stories', 'for', 'myself', '_EOS_', '_BOS_', 'i', 'knew', 'the', 'world', 'was', 'far', 'from', 'perfect', 'but', 'surely', 'not', 'every', 'gay', 'story', 'was', 'tragic', '_EOS_', '_BOS_', '_EOS_', '_BOS_', 'so', 'as', 'a', 'couple', 'we', 'both', 'had', 'a', 'need', 'to', 'find', 'stories', 'of', 'hope', '_EOS_', '_BOS_', 'so', 'we', 'set', 'off', 'on', 'a', 'mission', 'to', 'travel', 'the', 'world', 'and', 'look', 'for', 'the', 'people', 'we', 'finally', 'termed', 'as', 'the', 'supergays', '_EOS_', '_BOS_', '_EOS_', '_BOS_', '_EOS_', '_BOS_', 'these', 'would', 'be', 'the', 'lgbt', 'individuals', 'who', 'were', 'doing', 'something', 'extraordinary', 'in', 'the', 'world', '_EOS_', '_BOS_', 'they', 'would', 'be', 'courageous', 'resilient', 'and', 'most', 'of', 'all', 'proud', 'of', 'who', 'they', 'were', '_EOS_', '_BOS_', 'they', 'would', 'be', 'the', 'kind', 'of', 'person', 'that', 'i', 'aspire', 'to', 'be', '_EOS_', '_BOS_', 'our', 'plan', 'was', 'to', 'share', 'their', 'stories', 'to', 'the', 'world', 'through', 'film', '_EOS_', '_BOS_', '_EOS_', '_BOS_', 'there', 'was', 'just', 'one', 'problem', '_EOS_', '_BOS_', 'we', 'had', 'zero', 'reporting', 'and', 'zero', 'filmmaking', 'experience', '_EOS_', '_BOS_', '_EOS_', '_BOS_', '_EOS_', '_BOS_', 'we', 'didn', 't', 'even', 'know', 'where', 'to', 'find', 'the', 'supergays', 'so', 'we', 'just', 'had', 'to', 'trust', 'that', 'we', 'd', 'figure', 'it', 'all', 'out', 'along', 'the', 'way', '_EOS_', '_BOS_', 'so', 'we', 'picked', '15', 'countries', 'in', 'asia', 'africa', 'and', 'south', 'america', 'countries', 'outside', 'the', 'west', 'that', 'varied', 'in', 'terms', 'of', 'lgbt', 'rights', '_EOS_', '_BOS_', 'we', 'bought', 'a', 'camcorder', 'ordered', 'a', 'book', 'on', 'how', 'to', 'make', 'a', 'documentary', '_EOS_', '_BOS_', '_EOS_', '_BOS_', 'you', 'can', 'learn', 'a', 'lot', 'these', 'days', 'and', 'set', 'off', 'on', 'an', 'around', 'the', 'world', 'trip', '_EOS_', '_BOS_', '_EOS_', '_BOS_', 'one', 'of', 'the', 'first', 'countries', 'that', 'we', 'traveled', 'to', 'was', 'nepal', '_EOS_', '_BOS_', 'despite', 'widespread', 'poverty', 'a', 'decade', 'long', 'civil', 'war', 'and', 'now', 'recently', 'a', 'devastating', 'earthquake', 'nepal', 'has', 'made', 'significant', 'strides', 'in', 'the', 'fight', 'for', 'equality', '_EOS_', '_BOS_', 'one', 'of', 'the', 'key', 'figures', 'in', 'the', 'movement', 'is', 'bhumika', 'shrestha', '_EOS_', '_BOS_', 'a', 'beautiful', 'vibrant', 'transgendered', 'woman', 'bhumika', 'has', 'had', 'to', 'overcome', 'being', 'expelled', 'from', 'school', 'and', 'getting', 'incarcerated', 'because', 'of', 'her', 'gender', 'presentation', '_EOS_', '_BOS_', 'but', 'in', '2007', 'bhumika', 'and', 'nepal', 's', 'lgbt', 'rights', 'organization', 'successfully', 'petitioned', 'the', 'nepali', 'supreme', 'court', 'to', 'protect', 'against', 'lgbt', 'discrimination', '_EOS_', '_BOS_', '_EOS_', '_BOS_', '_EOS_', '_BOS_', 'what', 'i', 'm', 'most', 'proud', 'of', '_EOS_', '_BOS_', 'i', 'm', 'a', 'transgendered', 'person', '_EOS_', '_BOS_', 'i', 'm', 'so', 'proud', 'of', 'my', 'life', '_EOS_', '_BOS_', 'on', 'december', '21', '2007', 'the', 'supreme', 'court', 'gave', 'the', 'decision', 'for', 'the', 'nepal', 'government', 'to', 'give', 'transgender', 'identity', 'cards', 'and', 'same', 'sex', 'marriage', '_EOS_', '_BOS_', '_EOS_', '_BOS_', 'i', 'can', 'appreciate', 'bhumika', 's', 'confidence', 'on', 'a', 'daily', 'basis', '_EOS_', '_BOS_', 'something', 'as', 'simple', 'as', 'using', 'a', 'public', 'restroom', 'can', 'be', 'a', 'huge', 'challenge', 'when', 'you', 'don', 't', 'fit', 'in', 'to', 'people', 's', 'strict', 'gender', 'expectations', '_EOS_', '_BOS_', 'traveling', 'throughout', 'asia', 'i', 'tended', 'to', 'freak', 'out', 'women', 'in', 'public', 'restrooms', '_EOS_', '_BOS_', 'they', 'weren', 't', 'used', 'to', 'seeing', 'someone', 'like', 'me', '_EOS_', '_BOS_', 'i', 'had', 'to', 'come', 'up', 'with', 'a', 'strategy', 'so', 'that', 'i', 'could', 'just', 'pee', 'in', 'peace', '_EOS_', '_BOS_', '_EOS_', '_BOS_', '_EOS_', '_BOS_', 'so', 'anytime', 'i', 'would', 'enter', 'a', 'restroom', 'i', 'would', 'thrust', 'out', 'my', 'chest', 'to', 'show', 'my', 'womanly', 'parts', 'and', 'try', 'to', 'be', 'as', 'non', 'threatening', 'as', 'possible', '_EOS_', '_BOS_', 'putting', 'out', 'my', 'hands', 'and', 'saying', 'hello', 'just', 'so', 'that', 'people', 'could', 'hear', 'my', 'feminine', 'voice', '_EOS_', '_BOS_', 'this', 'all', 'gets', 'pretty', 'exhausting', 'but', 'it', 's', 'just', 'who', 'i', 'am', '_EOS_', '_BOS_', 'i', 'can', 't', 'be', 'anything', 'else', '_EOS_', '_BOS_', '_EOS_', '_BOS_', 'after', 'nepal', 'we', 'traveled', 'to', 'india', '_EOS_', '_BOS_', 'on', 'one', 'hand', 'india', 'is', 'a', 'hindu', 'society', 'without', 'a', 'tradition', 'of', 'homophobia', '_EOS_', '_BOS_', 'on', 'the', 'other', 'hand', 'it', 'is', 'also', 'a', 'society', 'with', 'a', 'deeply', 'patriarchal', 'system', 'which', 'rejects', 'anything', 'that', 'threatens', 'the', 'male', 'female', 'order', '_EOS_', '_BOS_', 'when', 'we', 'spoke', 'to', 'activists', 'they', 'told', 'us', 'that', 'empowerment', 'begins', 'with', 'ensuring', 'proper', 'gender', 'equality', 'where', 'the', 'women', 's', 'status', 'is', 'established', 'in', 'society', '_EOS_', '_BOS_', 'and', 'in', 'that', 'way', 'the', 'status', 'of', 'lgbt', 'people', 'can', 'be', 'affirmed', 'as', 'well', '_EOS_', '_BOS_', '_EOS_', '_BOS_', 'there', 'we', 'met', 'prince', 'manvendra', '_EOS_', '_BOS_', 'he', 's', 'the', 'world', 's', 'first', 'openly', 'gay', 'prince', '_EOS_', '_BOS_', 'prince', 'manvendra', 'came', 'out', 'on', 'the', 'oprah', 'winfrey', 'show', 'very', 'internationally', '_EOS_', '_BOS_', 'his', 'parents', 'disowned', 'him', 'and', 'accused', 'him', 'of', 'bringing', 'great', 'shame', 'to', 'the', 'royal', 'family', '_EOS_', '_BOS_', 'we', 'sat', 'down', 'with', 'prince', 'manvendra', 'and', 'talked', 'to', 'him', 'about', 'why', 'he', 'decided', 'to', 'come', 'out', 'so', 'very', 'publicly', '_EOS_', '_BOS_', '_EOS_', '_BOS_', '_EOS_', '_BOS_', 'i', 'felt', 'there', 'was', 'a', 'lot', 'of', 'need', 'to', 'break', 'this', 'stigma', 'and', 'discrimination', 'which', 'is', 'existing', 'in', 'our', 'society', '_EOS_', '_BOS_', 'and', 'that', 'instigated', 'me', 'to', 'come', 'out', 'openly', 'and', 'talk', 'about', 'myself', '_EOS_', '_BOS_', 'whether', 'we', 'are', 'gay', 'we', 'are', 'lesbian', 'we', 'are', 'transgender', 'bisexual', 'or', 'whatever', 'sexual', 'minority', 'we', 'come', 'from', 'we', 'have', 'to', 'all', 'unite', 'and', 'fight', 'for', 'our', 'rights', '_EOS_', '_BOS_', 'gay', 'rights', 'cannot', 'be', 'won', 'in', 'the', 'court', 'rooms', 'but', 'in', 'the', 'hearts', 'and', 'the', 'minds', 'of', 'the', 'people', '_EOS_', '_BOS_', '_EOS_', '_BOS_', 'while', 'getting', 'my', 'hair', 'cut', 'the', 'woman', 'cutting', 'my', 'hair', 'asked', 'me', 'do', 'you', 'have', 'a', 'husband', '_EOS_', '_BOS_', 'now', 'this', 'was', 'a', 'dreaded', 'question', 'that', 'i', 'got', 'asked', 'a', 'lot', 'by', 'locals', 'while', 'traveling', '_EOS_', '_BOS_', 'when', 'i', 'explained', 'to', 'her', 'that', 'i', 'was', 'with', 'a', 'woman', 'instead', 'of', 'a', 'man', 'she', 'was', 'incredulous', 'and', 'she', 'asked', 'me', 'a', 'lot', 'of', 'questions', 'about', 'my', 'parents', 'reactions', 'and', 'whether', 'i', 'was', 'sad', 'that', 'i', 'd', 'never', 'be', 'able', 'to', 'have', 'children', '_EOS_', '_BOS_', 'i', 'told', 'her', 'that', 'there', 'are', 'no', 'limitations', 'to', 'my', 'life', 'and', 'that', 'lisa', 'and', 'i', 'do', 'plan', 'to', 'have', 'a', 'family', 'some', 'day', '_EOS_', '_BOS_', 'now', 'this', 'woman', 'was', 'ready', 'to', 'write', 'me', 'off', 'as', 'yet', 'another', 'crazy', 'westerner', '_EOS_', '_BOS_', 'she', 'couldn', 't', 'imagine', 'that', 'such', 'a', 'phenomenon', 'could', 'happen', 'in', 'her', 'own', 'country', '_EOS_', '_BOS_', 'that', 'is', 'until', 'i', 'showed', 'her', 'the', 'photos', 'of', 'the', 'supergays', 'that', 'we', 'interviewed', 'in', 'india', '_EOS_', '_BOS_', 'she', 'recognized', 'prince', 'manvendra', 'from', 'television', 'and', 'soon', 'i', 'had', 'an', 'audience', 'of', 'other', 'hairdressers', 'interested', 'in', 'meeting', 'me', '_EOS_', '_BOS_', '_EOS_', '_BOS_', '_EOS_', '_BOS_', 'and', 'in', 'that', 'ordinary', 'afternoon', 'i', 'had', 'the', 'chance', 'to', 'introduce', 'an', 'entire', 'beauty', 'salon', 'to', 'the', 'social', 'changes', 'that', 'were', 'happening', 'in', 'their', 'own', 'country', '_EOS_', '_BOS_', '_EOS_', '_BOS_', 'from', 'india', 'we', 'traveled', 'to', 'east', 'africa', 'a', 'region', 'known', 'for', 'intolerance', 'towards', 'lgbt', 'people', '_EOS_', '_BOS_', 'in', 'kenya', '89', 'percent', 'of', 'people', 'who', 'come', 'out', 'to', 'their', 'families', 'are', 'disowned', '_EOS_', '_BOS_', 'homosexual', 'acts', 'are', 'a', 'crime', 'and', 'can', 'lead', 'to', 'incarceration', '_EOS_', '_BOS_', 'in', 'kenya', 'we', 'met', 'the', 'soft', 'spoken', 'david', 'kuria', '_EOS_', '_BOS_', 'david', 'had', 'a', 'huge', 'mission', 'of', 'wanting', 'to', 'work', 'for', 'the', 'poor', 'and', 'improve', 'his', 'own', 'government', '_EOS_', '_BOS_', 'so', 'he', 'decided', 'to', 'run', 'for', 'senate', '_EOS_', '_BOS_', 'he', 'became', 'kenya', 's', 'first', 'openly', 'gay', 'political', 'candidate', '_EOS_', '_BOS_', 'david', 'wanted', 'to', 'run', 'his', 'campaign', 'without', 'denying', 'the', 'reality', 'of', 'who', 'he', 'was', '_EOS_', '_BOS_', 'but', 'we', 'were', 'worried', 'for', 'his', 'safety', 'because', 'he', 'started', 'to', 'receive', 'death', 'threats', '_EOS_', '_BOS_', '_EOS_', '_BOS_', 'at', 'that', 'point', 'i', 'was', 'really', 'scared', 'because', 'they', 'were', 'actually', 'asking', 'for', 'me', 'to', 'be', 'killed', '_EOS_', '_BOS_', 'and', 'yeah', 'there', 'are', 'some', 'people', 'out', 'there', 'who', 'do', 'it', 'and', 'they', 'feel', 'that', 'they', 'are', 'doing', 'a', 'religious', 'obligation', '_EOS_', '_BOS_', '_EOS_', '_BOS_', 'david', 'wasn', 't', 'ashamed', 'of', 'who', 'he', 'was', '_EOS_', '_BOS_', 'even', 'in', 'the', 'face', 'of', 'threats', 'he', 'stayed', 'authentic', '_EOS_', '_BOS_', '_EOS_', '_BOS_', 'at', 'the', 'opposite', 'end', 'of', 'the', 'spectrum', 'is', 'argentina', '_EOS_', '_BOS_', 'argentina', 's', 'a', 'country', 'where', '92', 'percent', 'of', 'the', 'population', 'identifies', 'as', 'catholic', '_EOS_', '_BOS_', 'yet', 'argentina', 'has', 'lgbt', 'laws', 'that', 'are', 'even', 'more', 'progressive', 'than', 'here', 'in', 'the', 'us', '_EOS_', '_BOS_', 'in', '2010', 'argentina', 'became', 'the', 'first', 'country', 'in', 'latin', 'america', 'and', 'the', '10th', 'in', 'the', 'world', 'to', 'adopt', 'marriage', 'equality', '_EOS_', '_BOS_', '_EOS_', '_BOS_', 'there', 'we', 'met', 'mar', 'a', 'rachid', '_EOS_', '_BOS_', 'mar', 'a', 'was', 'a', 'driving', 'force', 'behind', 'that', 'movement', '_EOS_', '_BOS_', '_EOS_', '_BOS_', 'i', 'always', 'say', 'that', 'in', 'reality', 'the', 'effects', 'of', 'marriage', 'equality', 'are', 'not', 'only', 'for', 'those', 'couples', 'that', 'get', 'married', '_EOS_', '_BOS_', 'they', 'are', 'for', 'a', 'lot', 'of', 'people', 'that', 'even', 'though', 'they', 'may', 'never', 'get', 'married', 'will', 'be', 'perceived', 'differently', 'by', 'their', 'coworkers', 'their', 'families', 'and', 'neighbors', 'from', 'the', 'national', 'state', 's', 'message', 'of', 'equality', '_EOS_', '_BOS_', 'i', 'feel', 'very', 'proud', 'of', 'argentina', 'because', 'argentina', 'today', 'is', 'a', 'model', 'of', 'equality', '_EOS_', '_BOS_', 'and', 'hopefully', 'soon', 'the', 'whole', 'world', 'will', 'have', 'the', 'same', 'rights', '_EOS_', '_BOS_', '_EOS_', '_BOS_', 'when', 'we', 'made', 'the', 'visit', 'to', 'my', 'ancestral', 'lands', 'i', 'wish', 'i', 'could', 'have', 'shown', 'my', 'parents', 'what', 'we', 'found', 'there', '_EOS_', '_BOS_', 'because', 'here', 'is', 'who', 'we', 'met', '_EOS_', '_BOS_', 'one', 'two', 'three', '_EOS_', '_BOS_', 'welcome', 'gays', 'to', 'shanghai', '_EOS_', '_BOS_', '_EOS_', '_BOS_', '_EOS_', '_BOS_', 'a', 'whole', 'community', 'of', 'young', 'beautiful', 'chinese', 'lgbt', 'people', '_EOS_', '_BOS_', 'sure', 'they', 'had', 'their', 'struggles', '_EOS_', '_BOS_', 'but', 'they', 'were', 'fighting', 'it', 'out', '_EOS_', '_BOS_', 'in', 'shanghai', 'i', 'had', 'the', 'chance', 'to', 'speak', 'to', 'a', 'local', 'lesbian', 'group', 'and', 'tell', 'them', 'our', 'story', 'in', 'my', 'broken', 'mandarin', 'chinese', '_EOS_', '_BOS_', 'in', 'taipei', 'each', 'time', 'we', 'got', 'onto', 'the', 'metro', 'we', 'saw', 'yet', 'another', 'lesbian', 'couple', 'holding', 'hands', '_EOS_', '_BOS_', 'and', 'we', 'learned', 'that', 'asia', 's', 'largest', 'lgbt', 'pride', 'event', 'happens', 'just', 'blocks', 'away', 'from', 'where', 'my', 'grandparents', 'live', '_EOS_', '_BOS_', 'if', 'only', 'my', 'parents', 'knew', '_EOS_', '_BOS_', '_EOS_', '_BOS_', 'by', 'the', 'time', 'we', 'finished', 'our', 'not', 'so', 'straight', 'journey', 'around', 'the', 'world', '_EOS_', '_BOS_', '_EOS_', '_BOS_', 'we', 'had', 'traveled', '50', '000', 'miles', 'and', 'logged', '120', 'hours', 'of', 'video', 'footage', '_EOS_', '_BOS_', 'we', 'traveled', 'to', '15', 'countries', 'and', 'interviewed', '50', 'supergays', '_EOS_', '_BOS_', 'turns', 'out', 'it', 'wasn', 't', 'hard', 'to', 'find', 'them', 'at', 'all', '_EOS_', '_BOS_', '_EOS_', '_BOS_', 'yes', 'there', 'are', 'still', 'tragedies', 'that', 'happen', 'on', 'the', 'bumpy', 'road', 'to', 'equality', '_EOS_', '_BOS_', 'and', 'let', 's', 'not', 'forget', 'that', '75', 'countries', 'still', 'criminalize', 'homosexuality', 'today', '_EOS_', '_BOS_', 'but', 'there', 'are', 'also', 'stories', 'of', 'hope', 'and', 'courage', 'in', 'every', 'corner', 'of', 'the', 'world', '_EOS_', '_BOS_', 'what', 'we', 'ultimately', 'took', 'away', 'from', 'our', 'journey', 'is', 'equality', 'is', 'not', 'a', 'western', 'invention', '_EOS_', '_BOS_', '_EOS_', '_BOS_', 'one', 'of', 'the', 'key', 'factors', 'in', 'this', 'equality', 'movement', 'is', 'momentum', 'momentum', 'as', 'more', 'and', 'more', 'people', 'embrace', 'their', 'full', 'selves', 'and', 'use', 'whatever', 'opportunities', 'they', 'have', 'to', 'change', 'their', 'part', 'of', 'the', 'world', 'and', 'momentum', 'as', 'more', 'and', 'more', 'countries', 'find', 'models', 'of', 'equality', 'in', 'one', 'another', '_EOS_', '_BOS_', 'when', 'nepal', 'protected', 'against', 'lgbt', 'discrimination', 'india', 'pushed', 'harder', '_EOS_', '_BOS_', 'when', 'argentina', 'embraced', 'marriage', 'equality', 'uruguay', 'and', 'brazil', 'followed', '_EOS_', '_BOS_', 'when', 'ireland', 'said', 'yes', 'to', 'equality', '_EOS_', '_BOS_', '_EOS_', '_BOS_', 'the', 'world', 'stopped', 'to', 'notice', '_EOS_', '_BOS_', 'when', 'the', 'us', 'supreme', 'court', 'makes', 'a', 'statement', 'to', 'the', 'world', 'that', 'we', 'can', 'all', 'be', 'proud', 'of', '_EOS_', '_BOS_', '_EOS_', '_BOS_', '_EOS_', '_BOS_', 'as', 'we', 'reviewed', 'our', 'footage', 'what', 'we', 'realized', 'is', 'that', 'we', 'were', 'watching', 'a', 'love', 'story', '_EOS_', '_BOS_', 'it', 'wasn', 't', 'a', 'love', 'story', 'that', 'was', 'expected', 'of', 'me', 'but', 'it', 'is', 'one', 'filled', 'with', 'more', 'freedom', 'adventure', 'and', 'love', 'than', 'i', 'could', 'have', 'ever', 'possibly', 'imagined', '_EOS_', '_BOS_', 'one', 'year', 'after', 'returning', 'home', 'from', 'our', 'trip', 'marriage', 'equality', 'came', 'to', 'california', '_EOS_', '_BOS_', 'and', 'in', 'the', 'end', 'we', 'believe', 'love', 'will', 'win', 'out', '_EOS_', '_BOS_', '_EOS_', '_BOS_', 'by', 'the', 'power', 'vested', 'in', 'me', 'by', 'the', 'state', 'of', 'california', 'and', 'by', 'god', 'almighty', 'i', 'now', 'pronounce', 'you', 'spouses', 'for', 'life', '_EOS_', '_BOS_', 'you', 'may', 'kiss', '_EOS_', '_BOS_', '_EOS_', '_BOS_', '_EOS_', '_EOC_'], ['_BOC_', '_BOS_', 'as', 'a', 'gay', 'couple', 'in', 'san', 'francisco', 'jenni', 'chang', 'and', 'lisa', 'dazols', 'had', 'a', 'relatively', 'easy', 'time', 'living', 'the', 'way', 'they', 'wanted', '_EOS_', '_BOS_', 'but', 'outside', 'the', 'bubble', 'of', 'the', 'bay', 'area', 'what', 'was', 'life', 'like', 'for', 'people', 'still', 'lacking', 'basic', 'rights', '_EOS_', '_BOS_', 'they', 'set', 'off', 'on', 'a', 'world', 'tour', 'in', 'search', 'of', 'supergays', 'lgbt', 'people', 'who', 'were', 'doing', 'something', 'extraordinary', 'in', 'the', 'world', '_EOS_', '_BOS_', 'in', '15', 'countries', 'across', 'africa', 'asia', 'and', 'south', 'america', 'from', 'india', 'recently', 'home', 'to', 'the', 'world', 's', 'first', 'openly', 'gay', 'prince', 'to', 'argentina', 'the', 'first', 'country', 'in', 'latin', 'america', 'to', 'grant', 'marriage', 'equality', 'they', 'found', 'the', 'inspiring', 'stories', 'and', 'the', 'courageous', 'resilient', 'and', 'proud', 'supergays', 'they', 'had', 'been', 'looking', 'for', '_EOS_', '_BOS_', '_EOS_', '_EOC_'])\n"
     ]
    },
    {
     "name": "stderr",
     "output_type": "stream",
     "text": [
      "\n"
     ]
    }
   ],
   "source": [
    "#\n",
    "# Load and Preprocess Dataset\n",
    "#\n",
    "content_text, summary_text = load_TED_dataset(\n",
    "    include_summary=True, project_path=PROJECT_PATH\n",
    ")\n",
    "\n",
    "flattened_content = [\n",
    "    flat_clip_in_words(clip) for clip in tqdm(content_text[:DATASET_SIZE])\n",
    "]\n",
    "# filter out the prefix(TED subtitles and translation...) in summary\n",
    "flattened_summary = [\n",
    "    flat_clip_in_words(clip[35:]) for clip in tqdm(summary_text[:DATASET_SIZE])\n",
    "]\n",
    "\n",
    "flattened_content_summary = list(zip(flattened_content, flattened_summary))\n",
    "\n",
    "print(content_text[91])\n",
    "print(summary_text[91])\n",
    "print(flattened_content_summary[91])"
   ]
  },
  {
   "cell_type": "code",
   "execution_count": 36,
   "metadata": {},
   "outputs": [
    {
     "data": {
      "text/plain": [
       "<matplotlib.axes._subplots.AxesSubplot at 0x7f388e8b5eb8>"
      ]
     },
     "execution_count": 36,
     "metadata": {},
     "output_type": "execute_result"
    },
    {
     "data": {
      "image/png": "[encoded data removed]",
      "text/plain": [
       "<Figure size 576x288 with 1 Axes>"
      ]
     },
     "metadata": {
      "needs_background": "light"
     },
     "output_type": "display_data"
    },
    {
     "data": {
      "image/png": "[encoded data removed]",
      "text/plain": [
       "<Figure size 576x288 with 1 Axes>"
      ]
     },
     "metadata": {
      "needs_background": "light"
     },
     "output_type": "display_data"
    }
   ],
   "source": [
    "#\n",
    "# Inspect Dataset\n",
    "#\n",
    "# 1) check if there's extreme outliners (content with no length)\n",
    "# 2) check the length distribution to choose a length cap to make padding efficient\n",
    "\n",
    "import seaborn as sns\n",
    "import matplotlib.pyplot as plt\n",
    "\n",
    "plt.figure(figsize=(8, 4))\n",
    "sns.distplot([len(clip) for clip in flattened_content], axlabel=\"flattened_content\")\n",
    "\n",
    "plt.figure(figsize=(8, 4))\n",
    "sns.distplot([len(clip) for clip in flattened_summary], axlabel=\"flattened_summary\")"
   ]
  },
  {
   "cell_type": "code",
   "execution_count": 37,
   "metadata": {},
   "outputs": [
    {
     "name": "stdout",
     "output_type": "stream",
     "text": [
      "1883\n",
      "47\n"
     ]
    }
   ],
   "source": [
    "#\n",
    "# Filter Dataset\n",
    "#\n",
    "# This intends to improve dataset quality and training efficiency\n",
    "# 1) remove short content (input sequence) so that input has sufficient information\n",
    "# 2) cap the max length of content to reduce the amount of padding needed to match input\n",
    "# 3) remove short summary (output sequence) so that output has sufficient quality\n",
    "\n",
    "filtered_flattened_content_summary = list(\n",
    "    filter(\n",
    "        lambda pair: len(pair[0]) in range(200, MAX_CONTENT_LENGTH + 1)\n",
    "        and len(pair[1]) in range(25, MAX_SUMMARY_LENGTH + 1),\n",
    "        flattened_content_summary,\n",
    "    )\n",
    ")\n",
    "\n",
    "FILTERED_DATASET_SIZE = len(filtered_flattened_content_summary)\n",
    "BATCHES_PER_EPOCH = FILTERED_DATASET_SIZE // BATCH_SIZE\n",
    "\n",
    "print(FILTERED_DATASET_SIZE)\n",
    "print(BATCHES_PER_EPOCH)\n",
    "\n",
    "filtered_flattened_content = [\n",
    "    content for (content, summary) in filtered_flattened_content_summary\n",
    "]\n",
    "filtered_flattened_summary = [\n",
    "    summary for (content, summary) in filtered_flattened_content_summary\n",
    "]"
   ]
  },
  {
   "cell_type": "code",
   "execution_count": 38,
   "metadata": {
    "scrolled": true
   },
   "outputs": [],
   "source": [
    "#\n",
    "# word level encoding\n",
    "#"
   ]
  },
  {
   "cell_type": "code",
   "execution_count": 39,
   "metadata": {
    "scrolled": true
   },
   "outputs": [
    {
     "name": "stdout",
     "output_type": "stream",
     "text": [
      "51048\n",
      "51048\n",
      "12868\n",
      "12868\n"
     ]
    }
   ],
   "source": [
    "#\n",
    "# Build Encoder, Decoder\n",
    "#\n",
    "content_vocab = set([word for clip in filtered_flattened_content for word in clip])\n",
    "summary_vocab = set([word for clip in filtered_flattened_summary for word in clip])\n",
    "\n",
    "content_encoder, content_decoder = build_encoder_decoder_from_vocab(content_vocab)\n",
    "summary_encoder, summary_decoder = build_encoder_decoder_from_vocab(summary_vocab)\n",
    "\n",
    "print(len(content_encoder))\n",
    "print(len(content_decoder))\n",
    "print(len(summary_encoder))\n",
    "print(len(summary_decoder))"
   ]
  },
  {
   "cell_type": "code",
   "execution_count": 40,
   "metadata": {},
   "outputs": [
    {
     "name": "stderr",
     "output_type": "stream",
     "text": [
      "\n",
      "  0%|          | 0/1883 [00:00<?, ?it/s]\u001b[A\n",
      " 24%|██▎       | 443/1883 [00:00<00:00, 4428.37it/s]\u001b[A\n",
      " 49%|████▊     | 916/1883 [00:00<00:00, 4511.42it/s]\u001b[A\n",
      " 71%|███████   | 1331/1883 [00:00<00:00, 4394.36it/s]\u001b[A\n",
      "100%|██████████| 1883/1883 [00:00<00:00, 4129.19it/s]\u001b[A\n",
      "\n",
      "  0%|          | 0/1883 [00:00<?, ?it/s]\u001b[A\n",
      " 27%|██▋       | 515/1883 [00:00<00:00, 5144.80it/s]\u001b[A\n",
      " 54%|█████▍    | 1025/1883 [00:00<00:00, 5128.28it/s]\u001b[A\n",
      "100%|██████████| 1883/1883 [00:00<00:00, 4888.06it/s]\u001b[A\n",
      "\n",
      "100%|██████████| 1883/1883 [00:00<00:00, 125856.52it/s]\n",
      "\n",
      "100%|██████████| 1883/1883 [00:00<00:00, 36390.37it/s]\n"
     ]
    },
    {
     "name": "stdout",
     "output_type": "stream",
     "text": [
      "(40, 4000) (40, 151)\n"
     ]
    }
   ],
   "source": [
    "#\n",
    "# Encode dataset\n",
    "#\n",
    "# Here custom encoder and padding are used as they allow more controls\n",
    "def encode_clips(clips, encoder):\n",
    "    return [[encoder[word] for word in clip] for clip in tqdm(clips)]\n",
    "\n",
    "\n",
    "def pad_clips(encoded_clips, set_length=0):\n",
    "    longest_clip_length = max([len([word for word in clip]) for clip in encoded_clips])\n",
    "    padded_length = set_length if set_length > 0 else longest_clip_length\n",
    "\n",
    "    return [\n",
    "        np.append(encoded_clip, np.zeros(padded_length - len(encoded_clip), dtype=int))\n",
    "        for encoded_clip in tqdm(encoded_clips)\n",
    "    ]\n",
    "\n",
    "\n",
    "encoded_content = pad_clips(\n",
    "    encode_clips(filtered_flattened_content, content_encoder),\n",
    "    set_length=MAX_CONTENT_LENGTH,\n",
    ")\n",
    "\n",
    "encoded_summary = pad_clips(\n",
    "    encode_clips(filtered_flattened_summary, summary_encoder),\n",
    "    set_length=MAX_SUMMARY_LENGTH,\n",
    ")\n",
    "\n",
    "dataset = (\n",
    "    tf.data.Dataset.from_tensor_slices((encoded_content, encoded_summary))\n",
    "    .shuffle(DATASET_SIZE)\n",
    "    .batch(BATCH_SIZE, drop_remainder=True)\n",
    ")\n",
    "\n",
    "example_content, example_summary = next(iter(dataset))\n",
    "print(example_content.shape, example_summary.shape)"
   ]
  },
  {
   "cell_type": "code",
   "execution_count": 41,
   "metadata": {},
   "outputs": [],
   "source": [
    "#\n",
    "# Model - input sequence compressor\n",
    "#\n",
    "class SourceCompressor(tf.keras.Model):\n",
    "    def __init__(self, source_encoder_size, embedding_size, rnn_units):\n",
    "        super(SourceCompressor, self).__init__()\n",
    "\n",
    "        self.rnn_units = rnn_units\n",
    "\n",
    "        self.embedding_layer = tf.keras.layers.Embedding(\n",
    "            source_encoder_size, embedding_size\n",
    "        )\n",
    "        self.gru_layer = tf.keras.layers.GRU(\n",
    "            rnn_units, return_sequences=True, return_state=True,\n",
    "        )\n",
    "\n",
    "    def init_state(self, batch_size):\n",
    "        return tf.zeros((batch_size, self.rnn_units))\n",
    "\n",
    "    def call(self, input_x, initial_state):\n",
    "        input_x_embedding = self.embedding_layer(input_x)\n",
    "        state_history, final_state = self.gru_layer(\n",
    "            input_x_embedding, initial_state=initial_state\n",
    "        )\n",
    "        return state_history, final_state"
   ]
  },
  {
   "cell_type": "code",
   "execution_count": 42,
   "metadata": {},
   "outputs": [],
   "source": [
    "def segmented_source_compressor(\n",
    "    source_input,\n",
    "    source_compressor,\n",
    "    segment_length=CONTENT_SEGMENT_LENGTH,\n",
    "    reverse=False,\n",
    "    stateful=True,\n",
    "    show_progress=False,\n",
    "):\n",
    "    \"\"\"\n",
    "    @input: source_input = tf.Tensor[batch_size, clip_length]\n",
    "    \n",
    "    @internal: segment_histories = tf.TensorArray[num_segment, batch_size, segment_length, hidden_size]\n",
    "    @internal: segment_compressed = tf.TensorArray[num_segment, batch_size, hidden_size]\n",
    "    \n",
    "    @output: segment_histories = tf.Tensor[batch_size, num_segment, segment_length, hidden_size]\n",
    "    @output: segment_compressed = tf.Tensor[batch_size, num_segment, hidden_size]\n",
    "    \"\"\"\n",
    "    (batch_size, clip_length) = source_input.shape\n",
    "    num_segment = clip_length // segment_length\n",
    "\n",
    "    segment_histories = tf.TensorArray(tf.float32, size=num_segment)\n",
    "    segment_states = tf.TensorArray(tf.float32, size=num_segment)\n",
    "\n",
    "    compressor_state = source_compressor.init_state(batch_size)\n",
    "\n",
    "    source_input_for_segment = (\n",
    "        tf.reverse(source_input, axis=[1]) if reverse else source_input\n",
    "    )\n",
    "\n",
    "    for i in tqdm(tf.range(num_segment)) if show_progress else tf.range(num_segment):\n",
    "\n",
    "        segment = source_input_for_segment[\n",
    "            :, i * segment_length : (i + 1) * segment_length\n",
    "        ]\n",
    "\n",
    "        (history, state) = source_compressor(segment, compressor_state)\n",
    "\n",
    "        segment_histories = segment_histories.write(i, history)\n",
    "        segment_states = segment_states.write(i, state)\n",
    "\n",
    "        if stateful:\n",
    "            # pass over state between segments for truncated BPTT\n",
    "            compressor_state = state\n",
    "\n",
    "    return (\n",
    "        tf.transpose(segment_histories.stack(), [1, 0, 2, 3]),\n",
    "        tf.transpose(segment_states.stack(), [1, 0, 2]),\n",
    "    )"
   ]
  },
  {
   "cell_type": "code",
   "execution_count": 43,
   "metadata": {},
   "outputs": [],
   "source": [
    "content_compressor = SourceCompressor(len(content_encoder), EMBEDDING_SIZE, RNN_SIZE)"
   ]
  },
  {
   "cell_type": "code",
   "execution_count": 44,
   "metadata": {},
   "outputs": [
    {
     "name": "stdout",
     "output_type": "stream",
     "text": [
      "(40, 4000)\n"
     ]
    }
   ],
   "source": [
    "(sample_source, sample_target) = next(iter(dataset))\n",
    "\n",
    "print(sample_source.shape)"
   ]
  },
  {
   "cell_type": "code",
   "execution_count": 45,
   "metadata": {},
   "outputs": [
    {
     "name": "stderr",
     "output_type": "stream",
     "text": [
      "\n",
      "  0%|          | 0/40 [00:00<?, ?it/s]\u001b[A\n",
      " 40%|████      | 16/40 [00:00<00:00, 157.48it/s]\u001b[A\n",
      "100%|██████████| 40/40 [00:00<00:00, 173.58it/s]\u001b[A"
     ]
    },
    {
     "name": "stdout",
     "output_type": "stream",
     "text": [
      "0.23648858070373535\n",
      "(40, 40, 100, 128)\n",
      "(40, 40, 128)\n"
     ]
    },
    {
     "name": "stderr",
     "output_type": "stream",
     "text": [
      "\n"
     ]
    }
   ],
   "source": [
    "start = time.time()\n",
    "\n",
    "(\n",
    "    sample_source_segment_histories,\n",
    "    sample_source_segment_states,\n",
    ") = segmented_source_compressor(\n",
    "    sample_source, content_compressor, show_progress=True, reverse=True\n",
    ")\n",
    "\n",
    "print(time.time() - start)\n",
    "\n",
    "print((sample_source_segment_histories).shape)\n",
    "print((sample_source_segment_states).shape)"
   ]
  },
  {
   "cell_type": "code",
   "execution_count": 46,
   "metadata": {},
   "outputs": [],
   "source": [
    "#\n",
    "# Model - Attnetion Mechanism\n",
    "#\n",
    "\n",
    "\n",
    "class Attention(tf.keras.layers.Layer):\n",
    "    def __init__(self, units):\n",
    "        super(Attention, self).__init__()\n",
    "\n",
    "        self.W1 = tf.keras.layers.Dense(units)\n",
    "        self.W2 = tf.keras.layers.Dense(units)\n",
    "        self.V = tf.keras.layers.Dense(1)\n",
    "\n",
    "    def process_history(self, history):\n",
    "        \"\"\"\n",
    "        @input: histories = tf.Tensor(batch_size, sequence_length, hidden_size)\n",
    "        @weights: W2 = (hidden_size, attention_units)\n",
    "        @internal: self.history_in_attention = (batch_size, sequence_length, attention_units\n",
    "        \"\"\"\n",
    "        self.history = history\n",
    "        self.history_in_attention = self.W2(history)\n",
    "\n",
    "    def call(self, query_state, return_vector=True):\n",
    "        \"\"\"\n",
    "        @input: query_state = tf.Tensor(batch_size, hidden_size)\n",
    "        \n",
    "        @weights: W1 = (hidden_size, attention_units)\n",
    "        @weights: V = (attention_units, 1)\n",
    "        \n",
    "        @internal: query_state_in_attention = tf.Tensor(batch_size, 1, attention_units)\n",
    "        @internal: self.history_in_attention = tf.Tensor(batch_size, sequence_length, attention_units)\n",
    "        @internal: attention_state = (batch_size, sequence_length, attention_units)\n",
    "        @internal: attention_score = (batch_size, sequence_length, 1)\n",
    "        @internal: context_state = (batch_size, sequence_length, hidden_size)\n",
    "        \n",
    "        @output: attention_weights = (batch_size, sequence_length, 1)\n",
    "        @output: attention_vector = (batch_size, hidden_size)\n",
    "        \"\"\"\n",
    "        # this is to match the query_state.shape with histories.shape\n",
    "        query_state_in_attention = self.W1(tf.expand_dims(query_state, 1))\n",
    "\n",
    "        # model interactions of attentions between query state and histories as addition\n",
    "        # normalise to (-1,1) with tanh\n",
    "        # [1, attention_units] is broadcasted to [sequence_length, attention_units]\n",
    "        # after addition: [sequence_length, attention_units]\n",
    "        attention_state = tf.nn.tanh(\n",
    "            query_state_in_attention + self.history_in_attention\n",
    "        )\n",
    "        attention_score = self.V(attention_state)\n",
    "        attention_weights = tf.nn.softmax(attention_score, axis=1)\n",
    "\n",
    "        if return_vector:\n",
    "            context_state = attention_weights * self.history\n",
    "            attention_vector = tf.reduce_sum(context_state, axis=1)\n",
    "            return attention_weights, attention_vector\n",
    "\n",
    "        return attention_weights"
   ]
  },
  {
   "cell_type": "code",
   "execution_count": 47,
   "metadata": {},
   "outputs": [],
   "source": [
    "# 2D/Nested Attention\n",
    "\n",
    "# Given that query_state from the generator will be of shape (batch_size, hidden_size), the 2DAttention\n",
    "# layer is learning the interaction between query_state and histories in 2D shape.\n",
    "\n",
    "# One way to do it is to broadcast the query state over both dimensions (batch_size, 1, 1, hidden_size)\n",
    "# and adding it to all states in the history after weights, then reshaped to (batch_size, 1x1, hidden_size)\n",
    "# to be output to V to produce attention_score; This way the attention is equivelant to reshape the history\n",
    "# to 1D while utilised the truncated BPTT in the compressor to avoid vanishing gradient.\n",
    "\n",
    "# The first way doesn't utilise the relationship present between states in the history. By firstly \n",
    "# learning the interactions between the sampled states (segment end) and its segmeng histories as\n",
    "# a set of attention_weights(segment_weights). And we can compress the histories further down to \n",
    "# (batch_size, num_segment) attention vectors(segment_attention_vectors).\n",
    "# Then by learning the interaction between query state and sample states as another set of attention\n",
    "# weights(state_weights). We can then construct the final attention_vector by \n",
    "#    sum(state_weights * segment_attention_vectors )\n",
    "#    equivalent to sum(segment_weights * state_weights * histories)\n",
    "# While the (sample state ~ segment history) interactions remain unchange in one set of history, this\n",
    "# nested attention structure can potentially be computationally more efficient.\n",
    "# Here we need to use 2 sets of weights as they are learning the interactions of different sets of\n",
    "# variables."
   ]
  },
  {
   "cell_type": "code",
   "execution_count": 48,
   "metadata": {},
   "outputs": [],
   "source": [
    "#\n",
    "# Model - nested attention\n",
    "#\n",
    "\n",
    "\n",
    "class NestedAttention(tf.keras.Model):\n",
    "    def __init__(self, attention_units):\n",
    "        \"\"\"\n",
    "        @input: attention_units = attention_size: size of the attention matrix\n",
    "        \"\"\"\n",
    "        super(NestedAttention, self).__init__()\n",
    "\n",
    "        self.state_to_segment_attention = Attention(attention_units)\n",
    "        self.state_to_states_attention = Attention(attention_units)\n",
    "\n",
    "    def process_history_attention(self, segment_states, segment_histories):\n",
    "        \"\"\"\n",
    "        @input: segment_states = tf.Tensor(batch_size, num_segment, hidden_size)\n",
    "        @input: segment_histories = tf.Tensor(batch_size, num_segment, segment_length, hidden_size)\n",
    "\n",
    "        @internal: state_to_segment_attention_weights = tf.TensorArray[num_segment, batch_size, segment_length, 1]\n",
    "\n",
    "        @output: state_to_segment_attention_weights = tf.Tensor[batch_size, num_segment, segment_length, 1]\n",
    "        @output*: state_to_segment_attention_vectors = tf.Tensor(batch_size, num_segment, hidden_size)\n",
    "        \"\"\"\n",
    "\n",
    "        (batch_size, num_segment, _) = segment_states.shape\n",
    "\n",
    "        state_to_segment_attention_weights = tf.TensorArray(\n",
    "            tf.float32, size=num_segment\n",
    "        )\n",
    "        state_to_segment_attention_vectors = tf.TensorArray(\n",
    "            tf.float32, size=num_segment\n",
    "        )\n",
    "\n",
    "        for i in tf.range(num_segment):\n",
    "            self.state_to_segment_attention.process_history(segment_histories[:, i])\n",
    "            attention_weights, attention_vector = self.state_to_segment_attention(\n",
    "                segment_states[:, i]\n",
    "            )\n",
    "            state_to_segment_attention_weights = state_to_segment_attention_weights.write(\n",
    "                i, attention_weights\n",
    "            )\n",
    "            state_to_segment_attention_vectors = state_to_segment_attention_vectors.write(\n",
    "                i, attention_vector\n",
    "            )\n",
    "\n",
    "        self.state_to_segment_attention_weights = tf.transpose(\n",
    "            state_to_segment_attention_weights.stack(), [1, 0, 2, 3]\n",
    "        )\n",
    "        self.state_to_segment_attention_vectors = tf.transpose(\n",
    "            state_to_segment_attention_vectors.stack(), [1, 0, 2]\n",
    "        )\n",
    "\n",
    "        self.state_to_states_attention.process_history(segment_states)\n",
    "\n",
    "        self.state_history = segment_states\n",
    "        self.segment_histories = segment_histories\n",
    "\n",
    "    def call(self, query_state):\n",
    "        \"\"\"\n",
    "        @input:query_state = tf.Tensor(batch_size, hidden_size)\n",
    "        \n",
    "        @internal: state_history = (batch_size, num_segment, attention_units)\n",
    "        \n",
    "        @internal: state_to_states_attention_weights = (batch_size, num_segment, 1)\n",
    "        @internal: self.state_to_segment_attention_weights = (batch_size, num_segment, sequence_length, 1)\n",
    "        \n",
    "        @output: combined_attention_weights = (batch_size, num_segment, segment_length, 1)\n",
    "        @internal: self.segment_histories = (batch_size, num_segment, segment_length, hidden_size)\n",
    "        \n",
    "        @internal: context_state = (batch_size, num_segment, segment_length, hidden_size)\n",
    "        \n",
    "        @output: combined_attention_vectors = (batch_size, hidden_size)\n",
    "        \"\"\"\n",
    "        state_to_states_attention_weights = self.state_to_states_attention(\n",
    "            query_state, return_vector=False\n",
    "        )\n",
    "\n",
    "        # broadcast state_attention_weights to shape\n",
    "        # [batch_size, num_segment, 1(segment_length), 1]\n",
    "        # to mach self.state_to_segment_attention_weights\n",
    "        # [batch_size, num_segment, segment_length, 1]\n",
    "        # this applies segment_weight to weights across segment_length\n",
    "        # otherwise multiply would be\n",
    "        # [batch_size, num_segment, 1] * [num_segment, segment_length, 1]\n",
    "        # for each batch in self.state_to_segment_attention_weights\n",
    "        combined_attention_weights = tf.math.multiply(\n",
    "            tf.expand_dims(state_to_states_attention_weights, axis=-1),\n",
    "            self.state_to_segment_attention_weights,\n",
    "        )\n",
    "        context_state = tf.math.multiply(\n",
    "            state_to_states_attention_weights, self.state_to_segment_attention_vectors\n",
    "        )\n",
    "        combined_attention_vectors = tf.reduce_sum(context_state, 1)\n",
    "\n",
    "        return combined_attention_weights, combined_attention_vectors"
   ]
  },
  {
   "cell_type": "code",
   "execution_count": 49,
   "metadata": {},
   "outputs": [],
   "source": [
    "nested_attention = NestedAttention(RNN_SIZE)"
   ]
  },
  {
   "cell_type": "code",
   "execution_count": 50,
   "metadata": {},
   "outputs": [
    {
     "name": "stdout",
     "output_type": "stream",
     "text": [
      "0.3996577262878418\n",
      "(40, 40, 100, 1)\n",
      "(40, 128)\n"
     ]
    }
   ],
   "source": [
    "start = time.time()\n",
    "query_state = sample_source_segment_states[:, -1]\n",
    "nested_attention.process_history_attention(\n",
    "    sample_source_segment_states, sample_source_segment_histories\n",
    ")\n",
    "\n",
    "for n in range(100):\n",
    "    (attention_weights, context_vector) = nested_attention(query_state)\n",
    "\n",
    "print(time.time() - start)\n",
    "print(attention_weights.shape)\n",
    "print(context_vector.shape)"
   ]
  },
  {
   "cell_type": "code",
   "execution_count": 51,
   "metadata": {},
   "outputs": [],
   "source": [
    "#\n",
    "# Model - output sequence generator\n",
    "#\n",
    "\n",
    "\n",
    "class TargetGenerator(tf.keras.Model):\n",
    "    def __init__(self, target_decoder_size, embedding_size, rnn_units):\n",
    "        super(TargetGenerator, self).__init__()\n",
    "\n",
    "        self.rnn_units = rnn_units\n",
    "\n",
    "        self.embedding_layer = tf.keras.layers.Embedding(\n",
    "            target_decoder_size, embedding_size\n",
    "        )\n",
    "        self.gru_layer = tf.keras.layers.GRU(rnn_units, return_state=True)\n",
    "        self.output_layer = tf.keras.layers.Dense(target_decoder_size)\n",
    "\n",
    "    def call(self, input_x, context_vector, input_state=None):\n",
    "        \"\"\"\n",
    "        @input: input_x = tf.Tensor(batch_size, sequence_length, 1)\n",
    "        @input: context_vector = tf.Tensor(batch_size, hidden_size)\n",
    "        \n",
    "        @internal: input_x_embedding = tf.Tensor(batch_size, sequence_length, embedding_size)\n",
    "        @internal: input_x_embedding_with_context = tf.Tensor(batch_size, sequence_length, embedding_size + hidden_size\n",
    "        \n",
    "        @output: output = (batch_size, sequence_length, embedding_size)\n",
    "        @output: state = (batch_size, hidden_size)\n",
    "        \"\"\"\n",
    "        input_x_embedding = self.embedding_layer(input_x)\n",
    "        # match context_vector shape to (batch_size, sequence_length(1), hidden_size)\n",
    "        input_x_embedding_with_context = tf.concat(\n",
    "            [tf.expand_dims(context_vector, 1), input_x_embedding], axis=-1\n",
    "        )\n",
    "        _, state = self.gru_layer(\n",
    "            input_x_embedding_with_context, initial_state=input_state\n",
    "        )\n",
    "\n",
    "        output = self.output_layer(state)\n",
    "\n",
    "        return output, state"
   ]
  },
  {
   "cell_type": "code",
   "execution_count": 52,
   "metadata": {},
   "outputs": [],
   "source": [
    "summary_generator = TargetGenerator(len(summary_decoder), EMBEDDING_SIZE, RNN_SIZE)"
   ]
  },
  {
   "cell_type": "code",
   "execution_count": 53,
   "metadata": {},
   "outputs": [
    {
     "name": "stderr",
     "output_type": "stream",
     "text": [
      "\n",
      "  0%|          | 0/40 [00:00<?, ?it/s]\u001b[A\n",
      " 40%|████      | 16/40 [00:00<00:00, 159.32it/s]\u001b[A\n",
      "100%|██████████| 40/40 [00:00<00:00, 172.26it/s]\u001b[A"
     ]
    },
    {
     "name": "stdout",
     "output_type": "stream",
     "text": [
      "0.23523211479187012\n",
      "(40, 12868)\n",
      "(40, 128)\n"
     ]
    },
    {
     "name": "stderr",
     "output_type": "stream",
     "text": [
      "\n"
     ]
    }
   ],
   "source": [
    "generator_input = tf.convert_to_tensor([[summary_encoder[\"_BOC_\"]]] * BATCH_SIZE)\n",
    "input_state = sample_source_segment_states[:, -1]\n",
    "\n",
    "\n",
    "start = time.time()\n",
    "sample_output = []\n",
    "for _ in tqdm(tf.range(40)):\n",
    "    (attention_weights, context_vector) = nested_attention(input_state)\n",
    "    generated_output, generator_state = summary_generator(\n",
    "        generator_input, context_vector, input_state\n",
    "    )\n",
    "    input_state = generator_state\n",
    "\n",
    "\n",
    "print(time.time() - start)\n",
    "print(generated_output.shape)\n",
    "print(generator_state.shape)"
   ]
  },
  {
   "cell_type": "code",
   "execution_count": 54,
   "metadata": {},
   "outputs": [],
   "source": [
    "#\n",
    "# Loss Function\n",
    "#\n",
    "\n",
    "optimizer = tf.keras.optimizers.Adam()\n",
    "loss_method = tf.keras.losses.SparseCategoricalCrossentropy(\n",
    "    from_logits=True, reduction=\"none\"\n",
    ")\n",
    "\n",
    "def loss_function(real, pred):\n",
    "    # mask = [False, False, False, True, False, ...] (one-hot vector)\n",
    "    mask = tf.math.logical_not(tf.math.equal(real, 0))\n",
    "    loss = loss_method(real, pred)\n",
    "    \n",
    "    mask = tf.cast(mask, dtype=loss.dtype)\n",
    "    loss_masked = loss * mask\n",
    "    \n",
    "    return tf.reduce_mean(loss_masked)"
   ]
  },
  {
   "cell_type": "code",
   "execution_count": 55,
   "metadata": {},
   "outputs": [],
   "source": [
    "#\n",
    "# training function\n",
    "#\n",
    "@tf.function\n",
    "def train_batch(\n",
    "    source_sequence, target_sequence, compressor, generator, nested_attention,\n",
    "):\n",
    "    batch_loss = 0.0\n",
    "\n",
    "    with tf.GradientTape() as tape:\n",
    "\n",
    "        (\n",
    "            source_segment_histories,\n",
    "            source_segment_states,\n",
    "        ) = segmented_source_compressor(\n",
    "            source_sequence, content_compressor, reverse=True\n",
    "        )\n",
    "\n",
    "        nested_attention.process_history_attention(\n",
    "            source_segment_states, source_segment_histories\n",
    "        )\n",
    "\n",
    "        last_state = source_segment_states[:, -1]\n",
    "\n",
    "        for i in tf.range(SUMMARY_NUM_MINI_BATCH):\n",
    "            mini_batch_loss = 0.0\n",
    "            # update generator to generate sequence output would \n",
    "            # require truncated sequence input (not depend on each other) \n",
    "            # and concatenating the corresponding context vector\n",
    "            # which is equivalent to increase batch_size while input only one in sequence\n",
    "            for j in tf.range(SUMMARY_MINI_BATCH_LENGTH):\n",
    "                # using teacher forcing during training\n",
    "                t = i * SUMMARY_MINI_BATCH_LENGTH + j\n",
    "                input_t = target_sequence[:, t]\n",
    "                generator_input = tf.expand_dims(input_t, 1)\n",
    "\n",
    "                (_, context_vector) = nested_attention(last_state)\n",
    "                # passing over last_state as input_state to GRU helps reducing the loss\n",
    "                # in the use case of dynamic unrolling\n",
    "                predictions, last_state = generator(\n",
    "                    generator_input, context_vector, last_state\n",
    "                )\n",
    "                target_t = target_sequence[:, t + 1]\n",
    "                # accumulate loss from each step\n",
    "                loss = loss_function(target_t, predictions)\n",
    "\n",
    "                mini_batch_loss += loss\n",
    "                batch_loss += loss\n",
    "\n",
    "            mini_batch_loss_per_step = mini_batch_loss / int(SUMMARY_MINI_BATCH_LENGTH)\n",
    "            # concat all the trainable variables\n",
    "            variables = (\n",
    "                compressor.trainable_variables\n",
    "                + generator.trainable_variables\n",
    "                + nested_attention.trainable_variables\n",
    "            )\n",
    "            gradients = tape.gradient(mini_batch_loss_per_step, variables)\n",
    "            optimizer.apply_gradients(zip(gradients, variables))\n",
    "\n",
    "    batch_loss_per_step = batch_loss / int(\n",
    "        SUMMARY_NUM_MINI_BATCH * SUMMARY_MINI_BATCH_LENGTH\n",
    "    )\n",
    "\n",
    "    return batch_loss_per_step"
   ]
  },
  {
   "cell_type": "code",
   "execution_count": 56,
   "metadata": {},
   "outputs": [],
   "source": [
    "import os\n",
    "\n",
    "MODEL_NAME = \"content_summary\"\n",
    "checkpoint_dir = f\"{PROJECT_PATH}/output/training_checkpoints/{MODEL_NAME}\"\n",
    "checkpoint_prefix = os.path.join(checkpoint_dir, \"ckpt\")\n",
    "checkpoint = tf.train.Checkpoint(\n",
    "    optimizer=optimizer,\n",
    "    content_compressor=content_compressor,\n",
    "    summary_generator=summary_generator,\n",
    "    nested_attention=nested_attention,\n",
    ")"
   ]
  },
  {
   "cell_type": "code",
   "execution_count": 57,
   "metadata": {},
   "outputs": [],
   "source": [
    "def train_model(\n",
    "    dataset, compressor, generator, nested_attention, epochs=EPOCHS,\n",
    "):\n",
    "    for epoch in range(EPOCHS):\n",
    "        start = time.time()\n",
    "        progress = tqdm(total=BATCHES_PER_EPOCH)\n",
    "\n",
    "        epoch_loss = 0\n",
    "\n",
    "        for (n, (source, target)) in enumerate(dataset.take(BATCHES_PER_EPOCH)):\n",
    "            batch_loss = train_batch(\n",
    "                source, target, compressor, generator, nested_attention,\n",
    "            )\n",
    "            epoch_loss += batch_loss\n",
    "            \n",
    "            progress.update(1)\n",
    "\n",
    "        progress.close()\n",
    "        checkpoint.save(file_prefix=checkpoint_prefix)\n",
    "        print(f\"Epoch {epoch + 1} Loss: {epoch_loss/BATCHES_PER_EPOCH:.4f}\")\n",
    "        print(f\"Time taken: { time.time() - start }s\\n\")"
   ]
  },
  {
   "cell_type": "code",
   "execution_count": 60,
   "metadata": {
    "scrolled": true
   },
   "outputs": [
    {
     "name": "stderr",
     "output_type": "stream",
     "text": [
      "\n",
      "  0%|          | 0/47 [00:00<?, ?it/s]\u001b[A\n",
      "  2%|▏         | 1/47 [01:10<53:51, 70.25s/it]\u001b[A\n",
      "  4%|▍         | 2/47 [02:20<52:40, 70.24s/it]\u001b[A\n",
      "  6%|▋         | 3/47 [03:30<51:30, 70.24s/it]\u001b[A\n",
      "  9%|▊         | 4/47 [04:41<50:24, 70.35s/it]\u001b[A\n",
      " 11%|█         | 5/47 [05:51<49:11, 70.28s/it]\u001b[A\n",
      " 13%|█▎        | 6/47 [07:01<47:58, 70.20s/it]\u001b[A\n",
      " 15%|█▍        | 7/47 [08:11<46:46, 70.16s/it]\u001b[A\n",
      " 17%|█▋        | 8/47 [09:21<45:39, 70.25s/it]\u001b[A\n",
      " 19%|█▉        | 9/47 [10:32<44:32, 70.33s/it]\u001b[A\n",
      " 21%|██▏       | 10/47 [11:41<43:12, 70.07s/it]\u001b[A\n",
      " 23%|██▎       | 11/47 [12:51<41:57, 69.93s/it]\u001b[A\n",
      " 26%|██▌       | 12/47 [14:01<40:43, 69.82s/it]\u001b[A\n",
      " 28%|██▊       | 13/47 [15:10<39:33, 69.82s/it]\u001b[A\n",
      " 30%|██▉       | 14/47 [16:20<38:21, 69.73s/it]\u001b[A\n",
      " 32%|███▏      | 15/47 [17:29<37:08, 69.65s/it]\u001b[A\n",
      " 34%|███▍      | 16/47 [18:39<35:55, 69.54s/it]\u001b[A\n",
      " 36%|███▌      | 17/47 [19:48<34:45, 69.53s/it]\u001b[A\n",
      " 38%|███▊      | 18/47 [20:58<33:38, 69.60s/it]\u001b[A\n",
      " 40%|████      | 19/47 [22:07<32:23, 69.41s/it]\u001b[A\n",
      " 43%|████▎     | 20/47 [23:16<31:11, 69.30s/it]\u001b[A\n",
      " 45%|████▍     | 21/47 [24:26<30:10, 69.65s/it]\u001b[A\n",
      " 47%|████▋     | 22/47 [25:38<29:16, 70.27s/it]\u001b[A\n",
      " 49%|████▉     | 23/47 [26:49<28:08, 70.37s/it]\u001b[A\n",
      " 51%|█████     | 24/47 [28:01<27:11, 70.92s/it]\u001b[A\n",
      " 53%|█████▎    | 25/47 [29:11<25:55, 70.70s/it]\u001b[A\n",
      " 55%|█████▌    | 26/47 [30:21<24:38, 70.41s/it]\u001b[A\n",
      " 57%|█████▋    | 27/47 [31:31<23:24, 70.24s/it]\u001b[A\n",
      " 60%|█████▉    | 28/47 [32:40<22:08, 69.90s/it]\u001b[A\n",
      " 62%|██████▏   | 29/47 [33:49<20:53, 69.65s/it]\u001b[A\n",
      " 64%|██████▍   | 30/47 [34:58<19:40, 69.43s/it]\u001b[A\n",
      " 66%|██████▌   | 31/47 [36:07<18:30, 69.40s/it]\u001b[A\n",
      " 68%|██████▊   | 32/47 [37:16<17:18, 69.24s/it]\u001b[A\n",
      " 70%|███████   | 33/47 [38:25<16:07, 69.12s/it]\u001b[A\n",
      " 72%|███████▏  | 34/47 [39:34<14:56, 68.99s/it]\u001b[A\n",
      " 74%|███████▍  | 35/47 [40:43<13:48, 69.02s/it]\u001b[A\n",
      " 77%|███████▋  | 36/47 [41:52<12:40, 69.13s/it]\u001b[A\n",
      " 79%|███████▊  | 37/47 [43:01<11:31, 69.14s/it]\u001b[A\n",
      " 81%|████████  | 38/47 [44:10<10:21, 69.08s/it]\u001b[A\n",
      " 83%|████████▎ | 39/47 [45:19<09:12, 69.01s/it]\u001b[A\n",
      " 85%|████████▌ | 40/47 [46:28<08:03, 69.09s/it]\u001b[A\n",
      " 87%|████████▋ | 41/47 [47:37<06:54, 69.06s/it]\u001b[A\n",
      " 89%|████████▉ | 42/47 [48:46<05:45, 69.10s/it]\u001b[A\n",
      " 91%|█████████▏| 43/47 [49:56<04:36, 69.25s/it]\u001b[A\n",
      " 94%|█████████▎| 44/47 [51:05<03:27, 69.29s/it]\u001b[A\n",
      " 96%|█████████▌| 45/47 [52:15<02:18, 69.29s/it]\u001b[A\n",
      " 98%|█████████▊| 46/47 [53:24<01:09, 69.28s/it]\u001b[A\n",
      "100%|██████████| 47/47 [54:33<00:00, 69.65s/it]\u001b[A\n",
      "\n",
      "  0%|          | 0/47 [00:00<?, ?it/s]\u001b[A"
     ]
    },
    {
     "name": "stdout",
     "output_type": "stream",
     "text": [
      "Epoch 1 Loss: 2.1252\n",
      "Time taken: 3273.739562511444s\n",
      "\n"
     ]
    },
    {
     "name": "stderr",
     "output_type": "stream",
     "text": [
      "\n",
      "  2%|▏         | 1/47 [01:09<53:07, 69.29s/it]\u001b[A\n",
      "  4%|▍         | 2/47 [02:18<52:00, 69.33s/it]\u001b[A\n",
      "  6%|▋         | 3/47 [03:27<50:49, 69.30s/it]\u001b[A\n",
      "  9%|▊         | 4/47 [04:37<49:44, 69.40s/it]\u001b[A\n",
      " 11%|█         | 5/47 [05:46<48:34, 69.38s/it]\u001b[A\n",
      " 13%|█▎        | 6/47 [06:56<47:26, 69.43s/it]\u001b[A\n",
      " 15%|█▍        | 7/47 [08:06<46:18, 69.47s/it]\u001b[A\n",
      " 17%|█▋        | 8/47 [09:16<45:20, 69.76s/it]\u001b[A\n",
      " 19%|█▉        | 9/47 [10:28<44:32, 70.34s/it]\u001b[A\n",
      " 21%|██▏       | 10/47 [11:37<43:13, 70.10s/it]\u001b[A\n",
      " 23%|██▎       | 11/47 [12:47<42:00, 70.02s/it]\u001b[A\n",
      " 26%|██▌       | 12/47 [13:57<40:45, 69.88s/it]\u001b[A\n",
      " 28%|██▊       | 13/47 [15:06<39:33, 69.82s/it]\u001b[A\n",
      " 30%|██▉       | 14/47 [16:17<38:36, 70.20s/it]\u001b[A\n",
      " 32%|███▏      | 15/47 [17:29<37:36, 70.50s/it]\u001b[A\n",
      " 34%|███▍      | 16/47 [18:41<36:45, 71.15s/it]\u001b[A\n",
      " 36%|███▌      | 17/47 [19:53<35:37, 71.26s/it]\u001b[A\n",
      " 38%|███▊      | 18/47 [21:03<34:17, 70.94s/it]\u001b[A\n",
      " 40%|████      | 19/47 [22:13<32:57, 70.62s/it]\u001b[A\n",
      " 43%|████▎     | 20/47 [23:23<31:45, 70.56s/it]\u001b[A\n",
      " 45%|████▍     | 21/47 [24:33<30:30, 70.41s/it]\u001b[A\n",
      " 47%|████▋     | 22/47 [25:44<29:20, 70.41s/it]\u001b[A\n",
      " 49%|████▉     | 23/47 [26:54<28:07, 70.30s/it]\u001b[A\n",
      " 51%|█████     | 24/47 [28:04<26:57, 70.33s/it]\u001b[A\n",
      " 53%|█████▎    | 25/47 [29:14<25:43, 70.17s/it]\u001b[A\n",
      " 55%|█████▌    | 26/47 [30:23<24:28, 69.91s/it]\u001b[A\n",
      " 57%|█████▋    | 27/47 [31:33<23:15, 69.76s/it]\u001b[A\n",
      " 60%|█████▉    | 28/47 [32:43<22:06, 69.80s/it]\u001b[A\n",
      " 62%|██████▏   | 29/47 [33:53<20:57, 69.89s/it]\u001b[A\n",
      " 64%|██████▍   | 30/47 [35:02<19:47, 69.87s/it]\u001b[A\n",
      " 66%|██████▌   | 31/47 [36:13<18:39, 69.98s/it]\u001b[A\n",
      " 68%|██████▊   | 32/47 [37:23<17:30, 70.01s/it]\u001b[A\n",
      " 70%|███████   | 33/47 [38:33<16:20, 70.05s/it]\u001b[A\n",
      " 72%|███████▏  | 34/47 [39:43<15:09, 69.99s/it]\u001b[A\n",
      " 74%|███████▍  | 35/47 [40:52<13:58, 69.91s/it]\u001b[A\n",
      " 77%|███████▋  | 36/47 [42:01<12:46, 69.64s/it]\u001b[A\n",
      " 79%|███████▊  | 37/47 [43:11<11:35, 69.53s/it]\u001b[A\n",
      " 81%|████████  | 38/47 [44:20<10:25, 69.52s/it]\u001b[A\n",
      " 83%|████████▎ | 39/47 [45:29<09:15, 69.41s/it]\u001b[A\n",
      " 85%|████████▌ | 40/47 [46:38<08:04, 69.19s/it]\u001b[A\n",
      " 87%|████████▋ | 41/47 [47:47<06:54, 69.02s/it]\u001b[A\n",
      " 89%|████████▉ | 42/47 [48:56<05:45, 69.10s/it]\u001b[A\n",
      " 91%|█████████▏| 43/47 [50:05<04:36, 69.02s/it]\u001b[A\n",
      " 94%|█████████▎| 44/47 [51:14<03:27, 69.03s/it]\u001b[A\n",
      " 96%|█████████▌| 45/47 [52:23<02:18, 69.03s/it]\u001b[A\n",
      " 98%|█████████▊| 46/47 [53:32<01:09, 69.07s/it]\u001b[A\n",
      "100%|██████████| 47/47 [54:41<00:00, 69.82s/it]\u001b[A\n",
      "\n",
      "  0%|          | 0/47 [00:00<?, ?it/s]\u001b[A"
     ]
    },
    {
     "name": "stdout",
     "output_type": "stream",
     "text": [
      "Epoch 2 Loss: 1.9757\n",
      "Time taken: 3281.8179607391357s\n",
      "\n"
     ]
    },
    {
     "name": "stderr",
     "output_type": "stream",
     "text": [
      "\n",
      "  2%|▏         | 1/47 [01:08<52:34, 68.57s/it]\u001b[A\n",
      "  4%|▍         | 2/47 [02:17<51:29, 68.66s/it]\u001b[A\n",
      "  6%|▋         | 3/47 [03:26<50:24, 68.73s/it]\u001b[A\n",
      "  9%|▊         | 4/47 [04:35<49:24, 68.93s/it]\u001b[A\n",
      " 11%|█         | 5/47 [05:44<48:18, 69.02s/it]\u001b[A\n",
      " 13%|█▎        | 6/47 [06:54<47:14, 69.12s/it]\u001b[A\n",
      " 15%|█▍        | 7/47 [08:03<46:07, 69.19s/it]\u001b[A\n",
      " 17%|█▋        | 8/47 [09:13<45:00, 69.26s/it]\u001b[A\n",
      " 19%|█▉        | 9/47 [10:22<43:53, 69.31s/it]\u001b[A\n",
      " 21%|██▏       | 10/47 [11:31<42:43, 69.29s/it]\u001b[A\n",
      " 23%|██▎       | 11/47 [12:40<41:31, 69.20s/it]\u001b[A\n",
      " 26%|██▌       | 12/47 [13:49<40:21, 69.20s/it]\u001b[A\n",
      " 28%|██▊       | 13/47 [14:59<39:16, 69.31s/it]\u001b[A\n",
      " 30%|██▉       | 14/47 [16:08<38:00, 69.11s/it]\u001b[A\n",
      " 32%|███▏      | 15/47 [17:17<36:50, 69.09s/it]\u001b[A\n",
      " 34%|███▍      | 16/47 [18:25<35:38, 68.98s/it]\u001b[A\n",
      " 36%|███▌      | 17/47 [19:35<34:31, 69.05s/it]\u001b[A\n",
      " 38%|███▊      | 18/47 [20:43<33:20, 68.98s/it]\u001b[A\n",
      " 40%|████      | 19/47 [21:52<32:10, 68.93s/it]\u001b[A\n",
      " 43%|████▎     | 20/47 [23:01<31:00, 68.89s/it]\u001b[A\n",
      " 45%|████▍     | 21/47 [24:10<29:51, 68.89s/it]\u001b[A\n",
      " 47%|████▋     | 22/47 [25:19<28:43, 68.95s/it]\u001b[A\n",
      " 49%|████▉     | 23/47 [26:28<27:33, 68.90s/it]\u001b[A\n",
      " 51%|█████     | 24/47 [27:37<26:26, 68.97s/it]\u001b[A\n",
      " 53%|█████▎    | 25/47 [28:46<25:15, 68.90s/it]\u001b[A\n",
      " 55%|█████▌    | 26/47 [29:55<24:08, 69.00s/it]\u001b[A\n",
      " 57%|█████▋    | 27/47 [31:04<23:00, 69.01s/it]\u001b[A\n",
      " 60%|█████▉    | 28/47 [32:13<21:50, 68.97s/it]\u001b[A\n",
      " 62%|██████▏   | 29/47 [33:21<20:38, 68.79s/it]\u001b[A\n",
      " 64%|██████▍   | 30/47 [34:30<19:29, 68.82s/it]\u001b[A\n",
      " 66%|██████▌   | 31/47 [35:41<18:32, 69.51s/it]\u001b[A\n",
      " 68%|██████▊   | 32/47 [36:51<17:24, 69.60s/it]\u001b[A\n",
      " 70%|███████   | 33/47 [38:00<16:12, 69.48s/it]\u001b[A\n",
      " 72%|███████▏  | 34/47 [39:09<15:01, 69.32s/it]\u001b[A\n",
      " 74%|███████▍  | 35/47 [40:19<13:53, 69.49s/it]\u001b[A\n",
      " 77%|███████▋  | 36/47 [41:28<12:43, 69.44s/it]\u001b[A\n",
      " 79%|███████▊  | 37/47 [42:38<11:34, 69.47s/it]\u001b[A\n",
      " 81%|████████  | 38/47 [43:47<10:24, 69.41s/it]\u001b[A\n",
      " 83%|████████▎ | 39/47 [44:56<09:14, 69.34s/it]\u001b[A\n",
      " 85%|████████▌ | 40/47 [46:06<08:06, 69.48s/it]\u001b[A\n",
      " 87%|████████▋ | 41/47 [47:16<06:57, 69.52s/it]\u001b[A\n",
      " 89%|████████▉ | 42/47 [48:26<05:48, 69.62s/it]\u001b[A\n",
      " 91%|█████████▏| 43/47 [49:35<04:37, 69.50s/it]\u001b[A\n",
      " 94%|█████████▎| 44/47 [50:44<03:28, 69.39s/it]\u001b[A\n",
      " 96%|█████████▌| 45/47 [51:53<02:18, 69.27s/it]\u001b[A\n",
      " 98%|█████████▊| 46/47 [53:02<01:09, 69.16s/it]\u001b[A\n",
      "100%|██████████| 47/47 [54:11<00:00, 69.17s/it]\u001b[A\n",
      "\n",
      "  0%|          | 0/47 [00:00<?, ?it/s]\u001b[A"
     ]
    },
    {
     "name": "stdout",
     "output_type": "stream",
     "text": [
      "Epoch 3 Loss: 1.8433\n",
      "Time taken: 3251.2802391052246s\n",
      "\n"
     ]
    },
    {
     "name": "stderr",
     "output_type": "stream",
     "text": [
      "\n",
      "  2%|▏         | 1/47 [01:08<52:50, 68.92s/it]\u001b[A\n",
      "  4%|▍         | 2/47 [02:17<51:43, 68.97s/it]\u001b[A\n",
      "  6%|▋         | 3/47 [03:26<50:32, 68.92s/it]\u001b[A\n",
      "  9%|▊         | 4/47 [04:35<49:19, 68.82s/it]\u001b[A\n",
      " 11%|█         | 5/47 [05:44<48:12, 68.88s/it]\u001b[A\n",
      " 13%|█▎        | 6/47 [06:53<47:07, 68.98s/it]\u001b[A\n",
      " 15%|█▍        | 7/47 [08:02<45:58, 68.95s/it]\u001b[A\n",
      " 17%|█▋        | 8/47 [09:11<44:52, 69.04s/it]\u001b[A\n",
      " 19%|█▉        | 9/47 [10:20<43:43, 69.03s/it]\u001b[A\n",
      " 21%|██▏       | 10/47 [11:29<42:31, 68.96s/it]\u001b[A\n",
      " 23%|██▎       | 11/47 [12:39<41:28, 69.12s/it]\u001b[A\n",
      " 26%|██▌       | 12/47 [13:48<40:24, 69.27s/it]\u001b[A\n",
      " 28%|██▊       | 13/47 [14:57<39:11, 69.17s/it]\u001b[A\n",
      " 30%|██▉       | 14/47 [16:06<38:01, 69.13s/it]\u001b[A\n",
      " 32%|███▏      | 15/47 [17:16<36:56, 69.28s/it]\u001b[A\n",
      " 34%|███▍      | 16/47 [18:25<35:48, 69.31s/it]\u001b[A\n",
      " 36%|███▌      | 17/47 [19:35<34:40, 69.35s/it]\u001b[A\n",
      " 38%|███▊      | 18/47 [20:43<33:26, 69.19s/it]\u001b[A\n",
      " 40%|████      | 19/47 [21:53<32:18, 69.22s/it]\u001b[A\n",
      " 43%|████▎     | 20/47 [23:02<31:11, 69.32s/it]\u001b[A\n",
      " 45%|████▍     | 21/47 [24:11<30:01, 69.29s/it]\u001b[A\n",
      " 47%|████▋     | 22/47 [25:21<28:51, 69.25s/it]\u001b[A\n",
      " 49%|████▉     | 23/47 [26:30<27:40, 69.17s/it]\u001b[A\n",
      " 51%|█████     | 24/47 [27:39<26:34, 69.30s/it]\u001b[A\n",
      " 53%|█████▎    | 25/47 [28:48<25:23, 69.24s/it]\u001b[A\n",
      " 55%|█████▌    | 26/47 [29:57<24:13, 69.21s/it]\u001b[A\n",
      " 57%|█████▋    | 27/47 [31:06<23:01, 69.06s/it]\u001b[A\n",
      " 60%|█████▉    | 28/47 [32:15<21:51, 69.01s/it]\u001b[A\n",
      " 62%|██████▏   | 29/47 [33:24<20:42, 69.03s/it]\u001b[A\n",
      " 64%|██████▍   | 30/47 [34:33<19:32, 68.96s/it]\u001b[A\n",
      " 66%|██████▌   | 31/47 [35:42<18:23, 68.96s/it]\u001b[A\n",
      " 68%|██████▊   | 32/47 [36:51<17:13, 68.91s/it]\u001b[A\n",
      " 70%|███████   | 33/47 [38:00<16:05, 68.97s/it]\u001b[A\n",
      " 72%|███████▏  | 34/47 [39:09<14:57, 69.01s/it]\u001b[A\n",
      " 74%|███████▍  | 35/47 [40:18<13:48, 69.01s/it]\u001b[A\n",
      " 77%|███████▋  | 36/47 [41:27<12:38, 68.92s/it]\u001b[A\n",
      " 79%|███████▊  | 37/47 [42:35<11:28, 68.84s/it]\u001b[A\n",
      " 81%|████████  | 38/47 [43:44<10:20, 68.93s/it]\u001b[A\n",
      " 83%|████████▎ | 39/47 [44:53<09:10, 68.86s/it]\u001b[A\n",
      " 85%|████████▌ | 40/47 [46:02<08:02, 68.92s/it]\u001b[A\n",
      " 87%|████████▋ | 41/47 [47:11<06:53, 68.89s/it]\u001b[A\n",
      " 89%|████████▉ | 42/47 [48:20<05:45, 69.01s/it]\u001b[A\n",
      " 91%|█████████▏| 43/47 [49:29<04:35, 68.96s/it]\u001b[A\n",
      " 94%|█████████▎| 44/47 [50:38<03:26, 68.92s/it]\u001b[A\n",
      " 96%|█████████▌| 45/47 [51:47<02:17, 68.89s/it]\u001b[A\n",
      " 98%|█████████▊| 46/47 [52:55<01:08, 68.84s/it]\u001b[A\n",
      "100%|██████████| 47/47 [54:05<00:00, 69.06s/it]\u001b[A\n",
      "\n",
      "  0%|          | 0/47 [00:00<?, ?it/s]\u001b[A"
     ]
    },
    {
     "name": "stdout",
     "output_type": "stream",
     "text": [
      "Epoch 4 Loss: 1.7161\n",
      "Time taken: 3245.714179992676s\n",
      "\n"
     ]
    },
    {
     "name": "stderr",
     "output_type": "stream",
     "text": [
      "\n",
      "  2%|▏         | 1/47 [01:09<52:55, 69.02s/it]\u001b[A\n",
      "  4%|▍         | 2/47 [02:18<51:49, 69.09s/it]\u001b[A\n",
      "  6%|▋         | 3/47 [03:27<50:41, 69.13s/it]\u001b[A\n",
      "  9%|▊         | 4/47 [04:36<49:34, 69.18s/it]\u001b[A\n",
      " 11%|█         | 5/47 [05:45<48:24, 69.16s/it]\u001b[A\n",
      " 13%|█▎        | 6/47 [06:54<47:10, 69.05s/it]\u001b[A\n",
      " 15%|█▍        | 7/47 [08:03<46:02, 69.06s/it]\u001b[A\n",
      " 17%|█▋        | 8/47 [09:13<44:56, 69.13s/it]\u001b[A\n",
      " 19%|█▉        | 9/47 [10:23<44:01, 69.50s/it]\u001b[A\n",
      " 21%|██▏       | 10/47 [11:33<42:53, 69.54s/it]\u001b[A\n",
      " 23%|██▎       | 11/47 [12:42<41:44, 69.57s/it]\u001b[A\n",
      " 26%|██▌       | 12/47 [13:52<40:37, 69.63s/it]\u001b[A\n",
      " 28%|██▊       | 13/47 [15:02<39:29, 69.70s/it]\u001b[A\n",
      " 30%|██▉       | 14/47 [16:11<38:17, 69.63s/it]\u001b[A\n",
      " 32%|███▏      | 15/47 [17:20<37:01, 69.43s/it]\u001b[A\n",
      " 34%|███▍      | 16/47 [18:29<35:48, 69.31s/it]\u001b[A\n",
      " 36%|███▌      | 17/47 [19:38<34:35, 69.17s/it]\u001b[A\n",
      " 38%|███▊      | 18/47 [20:48<33:27, 69.23s/it]\u001b[A\n",
      " 40%|████      | 19/47 [21:56<32:15, 69.13s/it]\u001b[A\n",
      " 43%|████▎     | 20/47 [23:05<31:03, 69.02s/it]\u001b[A\n",
      " 45%|████▍     | 21/47 [24:14<29:50, 68.88s/it]\u001b[A\n",
      " 47%|████▋     | 22/47 [25:23<28:45, 69.03s/it]\u001b[A\n",
      " 49%|████▉     | 23/47 [26:32<27:36, 69.03s/it]\u001b[A\n",
      " 51%|█████     | 24/47 [27:41<26:26, 68.97s/it]\u001b[A\n",
      " 53%|█████▎    | 25/47 [28:50<25:15, 68.89s/it]\u001b[A\n",
      " 55%|█████▌    | 26/47 [29:58<24:04, 68.79s/it]\u001b[A\n",
      " 57%|█████▋    | 27/47 [31:08<22:58, 68.94s/it]\u001b[A\n",
      " 60%|█████▉    | 28/47 [32:16<21:48, 68.86s/it]\u001b[A\n",
      " 62%|██████▏   | 29/47 [33:25<20:40, 68.93s/it]\u001b[A\n",
      " 64%|██████▍   | 30/47 [34:34<19:31, 68.91s/it]\u001b[A\n",
      " 66%|██████▌   | 31/47 [35:44<18:26, 69.19s/it]\u001b[A\n",
      " 68%|██████▊   | 32/47 [36:53<17:16, 69.13s/it]\u001b[A\n",
      " 70%|███████   | 33/47 [38:02<16:07, 69.13s/it]\u001b[A\n",
      " 72%|███████▏  | 34/47 [39:11<14:58, 69.14s/it]\u001b[A\n",
      " 74%|███████▍  | 35/47 [40:20<13:47, 68.98s/it]\u001b[A\n",
      " 77%|███████▋  | 36/47 [41:29<12:40, 69.16s/it]\u001b[A\n",
      " 79%|███████▊  | 37/47 [42:39<11:31, 69.13s/it]\u001b[A\n",
      " 81%|████████  | 38/47 [43:48<10:23, 69.23s/it]\u001b[A\n",
      " 83%|████████▎ | 39/47 [44:57<09:14, 69.29s/it]\u001b[A\n",
      " 85%|████████▌ | 40/47 [46:07<08:06, 69.51s/it]\u001b[A\n",
      " 87%|████████▋ | 41/47 [47:17<06:57, 69.52s/it]\u001b[A\n",
      " 89%|████████▉ | 42/47 [48:27<05:47, 69.53s/it]\u001b[A\n",
      " 91%|█████████▏| 43/47 [49:36<04:38, 69.53s/it]\u001b[A\n",
      " 94%|█████████▎| 44/47 [50:45<03:28, 69.48s/it]\u001b[A\n",
      " 96%|█████████▌| 45/47 [51:55<02:19, 69.64s/it]\u001b[A\n",
      " 98%|█████████▊| 46/47 [53:05<01:09, 69.60s/it]\u001b[A\n",
      "100%|██████████| 47/47 [54:14<00:00, 69.25s/it]\u001b[A\n",
      "\n",
      "  0%|          | 0/47 [00:00<?, ?it/s]\u001b[A"
     ]
    },
    {
     "name": "stdout",
     "output_type": "stream",
     "text": [
      "Epoch 5 Loss: 1.5944\n",
      "Time taken: 3255.0351028442383s\n",
      "\n"
     ]
    },
    {
     "name": "stderr",
     "output_type": "stream",
     "text": [
      "\n",
      "  2%|▏         | 1/47 [01:09<53:16, 69.48s/it]\u001b[A\n",
      "  4%|▍         | 2/47 [02:19<52:16, 69.69s/it]\u001b[A\n",
      "  6%|▋         | 3/47 [03:29<51:04, 69.64s/it]\u001b[A\n",
      "  9%|▊         | 4/47 [04:38<49:53, 69.63s/it]\u001b[A\n",
      " 11%|█         | 5/47 [05:48<48:41, 69.56s/it]\u001b[A\n",
      " 13%|█▎        | 6/47 [06:57<47:32, 69.59s/it]\u001b[A\n",
      " 15%|█▍        | 7/47 [08:07<46:27, 69.70s/it]\u001b[A\n",
      " 17%|█▋        | 8/47 [09:17<45:16, 69.64s/it]\u001b[A\n",
      " 19%|█▉        | 9/47 [10:26<44:06, 69.66s/it]\u001b[A\n",
      " 21%|██▏       | 10/47 [11:36<42:54, 69.58s/it]\u001b[A\n",
      " 23%|██▎       | 11/47 [12:46<41:48, 69.69s/it]\u001b[A\n",
      " 26%|██▌       | 12/47 [13:55<40:37, 69.63s/it]\u001b[A\n",
      " 28%|██▊       | 13/47 [15:05<39:26, 69.60s/it]\u001b[A\n",
      " 30%|██▉       | 14/47 [16:14<38:16, 69.61s/it]\u001b[A\n",
      " 32%|███▏      | 15/47 [17:24<37:10, 69.69s/it]\u001b[A\n",
      " 34%|███▍      | 16/47 [18:34<35:59, 69.66s/it]\u001b[A\n",
      " 36%|███▌      | 17/47 [19:43<34:48, 69.61s/it]\u001b[A\n",
      " 38%|███▊      | 18/47 [20:53<33:36, 69.55s/it]\u001b[A\n",
      " 40%|████      | 19/47 [22:02<32:26, 69.53s/it]\u001b[A\n",
      " 43%|████▎     | 20/47 [23:12<31:20, 69.63s/it]\u001b[A\n",
      " 45%|████▍     | 21/47 [24:22<30:09, 69.58s/it]\u001b[A\n",
      " 47%|████▋     | 22/47 [25:31<28:57, 69.50s/it]\u001b[A\n",
      " 49%|████▉     | 23/47 [26:40<27:45, 69.41s/it]\u001b[A\n",
      " 51%|█████     | 24/47 [27:51<26:43, 69.73s/it]\u001b[A\n",
      " 53%|█████▎    | 25/47 [29:00<25:31, 69.63s/it]\u001b[A\n",
      " 55%|█████▌    | 26/47 [30:09<24:20, 69.56s/it]\u001b[A\n",
      " 57%|█████▋    | 27/47 [31:19<23:12, 69.60s/it]\u001b[A\n",
      " 60%|█████▉    | 28/47 [32:29<22:02, 69.59s/it]\u001b[A\n",
      " 62%|██████▏   | 29/47 [33:39<20:54, 69.69s/it]\u001b[A\n",
      " 64%|██████▍   | 30/47 [34:48<19:43, 69.59s/it]\u001b[A\n",
      " 66%|██████▌   | 31/47 [35:57<18:32, 69.54s/it]\u001b[A\n",
      " 68%|██████▊   | 32/47 [37:07<17:21, 69.47s/it]\u001b[A\n",
      " 70%|███████   | 33/47 [38:17<16:14, 69.58s/it]\u001b[A\n",
      " 72%|███████▏  | 34/47 [39:26<15:03, 69.49s/it]\u001b[A\n",
      " 74%|███████▍  | 35/47 [40:35<13:52, 69.36s/it]\u001b[A\n",
      " 77%|███████▋  | 36/47 [41:44<12:42, 69.31s/it]\u001b[A\n",
      " 79%|███████▊  | 37/47 [42:53<11:32, 69.30s/it]\u001b[A\n",
      " 81%|████████  | 38/47 [44:03<10:24, 69.35s/it]\u001b[A\n",
      " 83%|████████▎ | 39/47 [45:12<09:14, 69.27s/it]\u001b[A\n",
      " 85%|████████▌ | 40/47 [46:21<08:04, 69.28s/it]\u001b[A\n",
      " 87%|████████▋ | 41/47 [47:31<06:56, 69.35s/it]\u001b[A\n",
      " 89%|████████▉ | 42/47 [48:40<05:47, 69.41s/it]\u001b[A\n",
      " 91%|█████████▏| 43/47 [49:50<04:37, 69.36s/it]\u001b[A\n",
      " 94%|█████████▎| 44/47 [50:59<03:27, 69.25s/it]\u001b[A\n",
      " 96%|█████████▌| 45/47 [52:08<02:18, 69.27s/it]\u001b[A\n",
      " 98%|█████████▊| 46/47 [53:18<01:09, 69.44s/it]\u001b[A\n",
      "100%|██████████| 47/47 [54:27<00:00, 69.53s/it]\u001b[A\n",
      "\n",
      "  0%|          | 0/47 [00:00<?, ?it/s]\u001b[A"
     ]
    },
    {
     "name": "stdout",
     "output_type": "stream",
     "text": [
      "Epoch 6 Loss: 1.4808\n",
      "Time taken: 3267.8934066295624s\n",
      "\n"
     ]
    },
    {
     "name": "stderr",
     "output_type": "stream",
     "text": [
      "\n",
      "  2%|▏         | 1/47 [01:09<53:02, 69.18s/it]\u001b[A\n",
      "  4%|▍         | 2/47 [02:18<51:53, 69.18s/it]\u001b[A\n",
      "  6%|▋         | 3/47 [03:27<50:45, 69.21s/it]\u001b[A\n",
      "  9%|▊         | 4/47 [04:37<49:40, 69.31s/it]\u001b[A\n",
      " 11%|█         | 5/47 [05:46<48:28, 69.25s/it]\u001b[A\n",
      " 13%|█▎        | 6/47 [06:55<47:20, 69.28s/it]\u001b[A\n",
      " 15%|█▍        | 7/47 [08:04<46:10, 69.27s/it]\u001b[A\n",
      " 17%|█▋        | 8/47 [09:14<45:00, 69.24s/it]\u001b[A\n",
      " 19%|█▉        | 9/47 [10:23<43:54, 69.34s/it]\u001b[A\n",
      " 21%|██▏       | 10/47 [11:33<42:46, 69.35s/it]\u001b[A\n",
      " 23%|██▎       | 11/47 [12:42<41:36, 69.36s/it]\u001b[A\n",
      " 26%|██▌       | 12/47 [13:51<40:26, 69.34s/it]\u001b[A\n",
      " 28%|██▊       | 13/47 [15:01<39:24, 69.54s/it]\u001b[A\n",
      " 30%|██▉       | 14/47 [16:11<38:13, 69.50s/it]\u001b[A\n",
      " 32%|███▏      | 15/47 [17:20<37:03, 69.49s/it]\u001b[A\n",
      " 34%|███▍      | 16/47 [18:30<35:57, 69.59s/it]\u001b[A\n",
      " 36%|███▌      | 17/47 [19:39<34:47, 69.58s/it]\u001b[A\n",
      " 38%|███▊      | 18/47 [20:50<33:42, 69.73s/it]\u001b[A\n",
      " 40%|████      | 19/47 [21:59<32:31, 69.68s/it]\u001b[A\n",
      " 43%|████▎     | 20/47 [23:09<31:19, 69.61s/it]\u001b[A\n",
      " 45%|████▍     | 21/47 [24:18<30:11, 69.69s/it]\u001b[A\n",
      " 47%|████▋     | 22/47 [25:28<29:02, 69.71s/it]\u001b[A\n",
      " 49%|████▉     | 23/47 [26:38<27:57, 69.88s/it]\u001b[A\n",
      " 51%|█████     | 24/47 [27:48<26:48, 69.93s/it]\u001b[A\n",
      " 53%|█████▎    | 25/47 [28:58<25:35, 69.80s/it]\u001b[A\n",
      " 55%|█████▌    | 26/47 [30:07<24:22, 69.65s/it]\u001b[A\n",
      " 57%|█████▋    | 27/47 [31:17<23:13, 69.67s/it]\u001b[A\n",
      " 60%|█████▉    | 28/47 [32:26<22:00, 69.49s/it]\u001b[A\n",
      " 62%|██████▏   | 29/47 [33:35<20:47, 69.30s/it]\u001b[A\n",
      " 64%|██████▍   | 30/47 [34:44<19:38, 69.31s/it]\u001b[A\n",
      " 66%|██████▌   | 31/47 [35:54<18:31, 69.46s/it]\u001b[A\n",
      " 68%|██████▊   | 32/47 [37:03<17:21, 69.44s/it]\u001b[A\n",
      " 70%|███████   | 33/47 [38:13<16:11, 69.36s/it]\u001b[A\n",
      " 72%|███████▏  | 34/47 [39:22<15:00, 69.31s/it]\u001b[A\n",
      " 74%|███████▍  | 35/47 [40:31<13:51, 69.30s/it]\u001b[A\n",
      " 77%|███████▋  | 36/47 [41:40<12:42, 69.31s/it]\u001b[A\n",
      " 79%|███████▊  | 37/47 [42:49<11:31, 69.14s/it]\u001b[A\n",
      " 81%|████████  | 38/47 [43:58<10:21, 69.08s/it]\u001b[A\n",
      " 83%|████████▎ | 39/47 [45:07<09:11, 68.96s/it]\u001b[A\n",
      " 85%|████████▌ | 40/47 [46:16<08:03, 69.02s/it]\u001b[A\n",
      " 87%|████████▋ | 41/47 [47:25<06:53, 68.96s/it]\u001b[A\n",
      " 89%|████████▉ | 42/47 [48:34<05:44, 68.95s/it]\u001b[A\n",
      " 91%|█████████▏| 43/47 [49:42<04:35, 68.87s/it]\u001b[A\n",
      " 94%|█████████▎| 44/47 [50:51<03:26, 68.84s/it]\u001b[A\n",
      " 96%|█████████▌| 45/47 [52:00<02:17, 68.88s/it]\u001b[A\n",
      " 98%|█████████▊| 46/47 [53:09<01:08, 68.81s/it]\u001b[A\n",
      "100%|██████████| 47/47 [54:18<00:00, 69.32s/it]\u001b[A\n",
      "\n",
      "  0%|          | 0/47 [00:00<?, ?it/s]\u001b[A"
     ]
    },
    {
     "name": "stdout",
     "output_type": "stream",
     "text": [
      "Epoch 7 Loss: 1.3795\n",
      "Time taken: 3258.174809217453s\n",
      "\n"
     ]
    },
    {
     "name": "stderr",
     "output_type": "stream",
     "text": [
      "\n",
      "  2%|▏         | 1/47 [01:08<52:47, 68.86s/it]\u001b[A\n",
      "  4%|▍         | 2/47 [02:17<51:41, 68.92s/it]\u001b[A\n",
      "  6%|▋         | 3/47 [03:26<50:31, 68.91s/it]\u001b[A\n",
      "  9%|▊         | 4/47 [04:35<49:24, 68.95s/it]\u001b[A\n",
      " 11%|█         | 5/47 [05:45<48:20, 69.05s/it]\u001b[A\n",
      " 13%|█▎        | 6/47 [06:54<47:12, 69.08s/it]\u001b[A\n",
      " 15%|█▍        | 7/47 [08:03<46:07, 69.18s/it]\u001b[A\n",
      " 17%|█▋        | 8/47 [09:12<44:54, 69.09s/it]\u001b[A\n",
      " 19%|█▉        | 9/47 [10:21<43:48, 69.16s/it]\u001b[A\n",
      " 21%|██▏       | 10/47 [11:31<42:39, 69.18s/it]\u001b[A\n",
      " 23%|██▎       | 11/47 [12:40<41:33, 69.27s/it]\u001b[A\n",
      " 26%|██▌       | 12/47 [13:49<40:25, 69.30s/it]\u001b[A\n",
      " 28%|██▊       | 13/47 [14:59<39:16, 69.31s/it]\u001b[A\n",
      " 30%|██▉       | 14/47 [16:08<38:09, 69.37s/it]\u001b[A\n",
      " 32%|███▏      | 15/47 [17:18<36:58, 69.34s/it]\u001b[A\n",
      " 34%|███▍      | 16/47 [18:27<35:50, 69.37s/it]\u001b[A\n",
      " 36%|███▌      | 17/47 [19:36<34:39, 69.33s/it]\u001b[A\n",
      " 38%|███▊      | 18/47 [20:46<33:32, 69.41s/it]\u001b[A\n",
      " 40%|████      | 19/47 [21:55<32:18, 69.24s/it]\u001b[A\n",
      " 43%|████▎     | 20/47 [23:04<31:12, 69.34s/it]\u001b[A\n",
      " 45%|████▍     | 21/47 [24:13<29:59, 69.21s/it]\u001b[A\n",
      " 47%|████▋     | 22/47 [25:22<28:48, 69.16s/it]\u001b[A\n",
      " 49%|████▉     | 23/47 [26:31<27:37, 69.07s/it]\u001b[A\n",
      " 51%|█████     | 24/47 [27:40<26:29, 69.09s/it]\u001b[A\n",
      " 53%|█████▎    | 25/47 [28:49<25:18, 69.01s/it]\u001b[A\n",
      " 55%|█████▌    | 26/47 [29:58<24:07, 68.91s/it]\u001b[A\n",
      " 57%|█████▋    | 27/47 [31:07<22:58, 68.91s/it]\u001b[A\n",
      " 60%|█████▉    | 28/47 [32:15<21:47, 68.82s/it]\u001b[A\n",
      " 62%|██████▏   | 29/47 [33:24<20:39, 68.84s/it]\u001b[A\n",
      " 64%|██████▍   | 30/47 [34:33<19:28, 68.76s/it]\u001b[A\n",
      " 66%|██████▌   | 31/47 [35:41<18:20, 68.76s/it]\u001b[A\n",
      " 68%|██████▊   | 32/47 [36:50<17:10, 68.67s/it]\u001b[A\n",
      " 70%|███████   | 33/47 [37:59<16:01, 68.70s/it]\u001b[A\n",
      " 72%|███████▏  | 34/47 [39:07<14:53, 68.70s/it]\u001b[A\n",
      " 74%|███████▍  | 35/47 [40:16<13:43, 68.64s/it]\u001b[A\n",
      " 77%|███████▋  | 36/47 [41:25<12:35, 68.68s/it]\u001b[A\n",
      " 79%|███████▊  | 37/47 [42:33<11:26, 68.65s/it]\u001b[A\n",
      " 81%|████████  | 38/47 [43:42<10:18, 68.72s/it]\u001b[A\n",
      " 83%|████████▎ | 39/47 [44:51<09:09, 68.74s/it]\u001b[A\n",
      " 85%|████████▌ | 40/47 [46:00<08:01, 68.73s/it]\u001b[A\n",
      " 87%|████████▋ | 41/47 [47:08<06:52, 68.72s/it]\u001b[A\n",
      " 89%|████████▉ | 42/47 [48:17<05:43, 68.73s/it]\u001b[A\n",
      " 91%|█████████▏| 43/47 [49:26<04:35, 68.82s/it]\u001b[A\n",
      " 94%|█████████▎| 44/47 [50:35<03:26, 68.79s/it]\u001b[A\n",
      " 96%|█████████▌| 45/47 [51:43<02:17, 68.73s/it]\u001b[A\n",
      " 98%|█████████▊| 46/47 [52:52<01:08, 68.72s/it]\u001b[A\n",
      "100%|██████████| 47/47 [54:01<00:00, 68.97s/it]\u001b[A\n",
      "\n",
      "  0%|          | 0/47 [00:00<?, ?it/s]\u001b[A"
     ]
    },
    {
     "name": "stdout",
     "output_type": "stream",
     "text": [
      "Epoch 8 Loss: 1.2828\n",
      "Time taken: 3241.7171471118927s\n",
      "\n"
     ]
    },
    {
     "name": "stderr",
     "output_type": "stream",
     "text": [
      "\n",
      "  2%|▏         | 1/47 [01:08<52:29, 68.46s/it]\u001b[A\n",
      "  4%|▍         | 2/47 [02:17<51:26, 68.58s/it]\u001b[A\n",
      "  6%|▋         | 3/47 [03:26<50:19, 68.62s/it]\u001b[A\n",
      "  9%|▊         | 4/47 [04:34<49:07, 68.55s/it]\u001b[A\n",
      " 11%|█         | 5/47 [05:43<48:03, 68.65s/it]\u001b[A\n",
      " 13%|█▎        | 6/47 [06:51<46:55, 68.66s/it]\u001b[A\n",
      " 15%|█▍        | 7/47 [08:00<45:46, 68.66s/it]\u001b[A"
     ]
    },
    {
     "ename": "KeyboardInterrupt",
     "evalue": "",
     "output_type": "error",
     "traceback": [
      "\u001b[0;31m---------------------------------------------------------------------------\u001b[0m",
      "\u001b[0;31mKeyboardInterrupt\u001b[0m                         Traceback (most recent call last)",
      "\u001b[0;32m<ipython-input-60-fe976888889f>\u001b[0m in \u001b[0;36m<module>\u001b[0;34m\u001b[0m\n\u001b[0;32m----> 1\u001b[0;31m \u001b[0mtrain_model\u001b[0m\u001b[0;34m(\u001b[0m\u001b[0mdataset\u001b[0m\u001b[0;34m,\u001b[0m \u001b[0mcontent_compressor\u001b[0m\u001b[0;34m,\u001b[0m \u001b[0msummary_generator\u001b[0m\u001b[0;34m,\u001b[0m \u001b[0mnested_attention\u001b[0m\u001b[0;34m)\u001b[0m\u001b[0;34m\u001b[0m\u001b[0;34m\u001b[0m\u001b[0m\n\u001b[0m",
      "\u001b[0;32m<ipython-input-57-2b085bd87450>\u001b[0m in \u001b[0;36mtrain_model\u001b[0;34m(dataset, compressor, generator, nested_attention, epochs)\u001b[0m\n\u001b[1;32m     10\u001b[0m         \u001b[0;32mfor\u001b[0m \u001b[0;34m(\u001b[0m\u001b[0mn\u001b[0m\u001b[0;34m,\u001b[0m \u001b[0;34m(\u001b[0m\u001b[0msource\u001b[0m\u001b[0;34m,\u001b[0m \u001b[0mtarget\u001b[0m\u001b[0;34m)\u001b[0m\u001b[0;34m)\u001b[0m \u001b[0;32min\u001b[0m \u001b[0menumerate\u001b[0m\u001b[0;34m(\u001b[0m\u001b[0mdataset\u001b[0m\u001b[0;34m.\u001b[0m\u001b[0mtake\u001b[0m\u001b[0;34m(\u001b[0m\u001b[0mBATCHES_PER_EPOCH\u001b[0m\u001b[0;34m)\u001b[0m\u001b[0;34m)\u001b[0m\u001b[0;34m:\u001b[0m\u001b[0;34m\u001b[0m\u001b[0;34m\u001b[0m\u001b[0m\n\u001b[1;32m     11\u001b[0m             batch_loss = train_batch(\n\u001b[0;32m---> 12\u001b[0;31m                 \u001b[0msource\u001b[0m\u001b[0;34m,\u001b[0m \u001b[0mtarget\u001b[0m\u001b[0;34m,\u001b[0m \u001b[0mcompressor\u001b[0m\u001b[0;34m,\u001b[0m \u001b[0mgenerator\u001b[0m\u001b[0;34m,\u001b[0m \u001b[0mnested_attention\u001b[0m\u001b[0;34m,\u001b[0m\u001b[0;34m\u001b[0m\u001b[0;34m\u001b[0m\u001b[0m\n\u001b[0m\u001b[1;32m     13\u001b[0m             )\n\u001b[1;32m     14\u001b[0m             \u001b[0mepoch_loss\u001b[0m \u001b[0;34m+=\u001b[0m \u001b[0mbatch_loss\u001b[0m\u001b[0;34m\u001b[0m\u001b[0;34m\u001b[0m\u001b[0m\n",
      "\u001b[0;32m/usr/local/lib/python3.6/dist-packages/tensorflow_core/python/eager/def_function.py\u001b[0m in \u001b[0;36m__call__\u001b[0;34m(self, *args, **kwds)\u001b[0m\n\u001b[1;32m    566\u001b[0m         \u001b[0mxla_context\u001b[0m\u001b[0;34m.\u001b[0m\u001b[0mExit\u001b[0m\u001b[0;34m(\u001b[0m\u001b[0;34m)\u001b[0m\u001b[0;34m\u001b[0m\u001b[0;34m\u001b[0m\u001b[0m\n\u001b[1;32m    567\u001b[0m     \u001b[0;32melse\u001b[0m\u001b[0;34m:\u001b[0m\u001b[0;34m\u001b[0m\u001b[0;34m\u001b[0m\u001b[0m\n\u001b[0;32m--> 568\u001b[0;31m       \u001b[0mresult\u001b[0m \u001b[0;34m=\u001b[0m \u001b[0mself\u001b[0m\u001b[0;34m.\u001b[0m\u001b[0m_call\u001b[0m\u001b[0;34m(\u001b[0m\u001b[0;34m*\u001b[0m\u001b[0margs\u001b[0m\u001b[0;34m,\u001b[0m \u001b[0;34m**\u001b[0m\u001b[0mkwds\u001b[0m\u001b[0;34m)\u001b[0m\u001b[0;34m\u001b[0m\u001b[0;34m\u001b[0m\u001b[0m\n\u001b[0m\u001b[1;32m    569\u001b[0m \u001b[0;34m\u001b[0m\u001b[0m\n\u001b[1;32m    570\u001b[0m     \u001b[0;32mif\u001b[0m \u001b[0mtracing_count\u001b[0m \u001b[0;34m==\u001b[0m \u001b[0mself\u001b[0m\u001b[0;34m.\u001b[0m\u001b[0m_get_tracing_count\u001b[0m\u001b[0;34m(\u001b[0m\u001b[0;34m)\u001b[0m\u001b[0;34m:\u001b[0m\u001b[0;34m\u001b[0m\u001b[0;34m\u001b[0m\u001b[0m\n",
      "\u001b[0;32m/usr/local/lib/python3.6/dist-packages/tensorflow_core/python/eager/def_function.py\u001b[0m in \u001b[0;36m_call\u001b[0;34m(self, *args, **kwds)\u001b[0m\n\u001b[1;32m    597\u001b[0m       \u001b[0;31m# In this case we have created variables on the first call, so we run the\u001b[0m\u001b[0;34m\u001b[0m\u001b[0;34m\u001b[0m\u001b[0;34m\u001b[0m\u001b[0m\n\u001b[1;32m    598\u001b[0m       \u001b[0;31m# defunned version which is guaranteed to never create variables.\u001b[0m\u001b[0;34m\u001b[0m\u001b[0;34m\u001b[0m\u001b[0;34m\u001b[0m\u001b[0m\n\u001b[0;32m--> 599\u001b[0;31m       \u001b[0;32mreturn\u001b[0m \u001b[0mself\u001b[0m\u001b[0;34m.\u001b[0m\u001b[0m_stateless_fn\u001b[0m\u001b[0;34m(\u001b[0m\u001b[0;34m*\u001b[0m\u001b[0margs\u001b[0m\u001b[0;34m,\u001b[0m \u001b[0;34m**\u001b[0m\u001b[0mkwds\u001b[0m\u001b[0;34m)\u001b[0m  \u001b[0;31m# pylint: disable=not-callable\u001b[0m\u001b[0;34m\u001b[0m\u001b[0;34m\u001b[0m\u001b[0m\n\u001b[0m\u001b[1;32m    600\u001b[0m     \u001b[0;32melif\u001b[0m \u001b[0mself\u001b[0m\u001b[0;34m.\u001b[0m\u001b[0m_stateful_fn\u001b[0m \u001b[0;32mis\u001b[0m \u001b[0;32mnot\u001b[0m \u001b[0;32mNone\u001b[0m\u001b[0;34m:\u001b[0m\u001b[0;34m\u001b[0m\u001b[0;34m\u001b[0m\u001b[0m\n\u001b[1;32m    601\u001b[0m       \u001b[0;31m# Release the lock early so that multiple threads can perform the call\u001b[0m\u001b[0;34m\u001b[0m\u001b[0;34m\u001b[0m\u001b[0;34m\u001b[0m\u001b[0m\n",
      "\u001b[0;32m/usr/local/lib/python3.6/dist-packages/tensorflow_core/python/eager/function.py\u001b[0m in \u001b[0;36m__call__\u001b[0;34m(self, *args, **kwargs)\u001b[0m\n\u001b[1;32m   2361\u001b[0m     \u001b[0;32mwith\u001b[0m \u001b[0mself\u001b[0m\u001b[0;34m.\u001b[0m\u001b[0m_lock\u001b[0m\u001b[0;34m:\u001b[0m\u001b[0;34m\u001b[0m\u001b[0;34m\u001b[0m\u001b[0m\n\u001b[1;32m   2362\u001b[0m       \u001b[0mgraph_function\u001b[0m\u001b[0;34m,\u001b[0m \u001b[0margs\u001b[0m\u001b[0;34m,\u001b[0m \u001b[0mkwargs\u001b[0m \u001b[0;34m=\u001b[0m \u001b[0mself\u001b[0m\u001b[0;34m.\u001b[0m\u001b[0m_maybe_define_function\u001b[0m\u001b[0;34m(\u001b[0m\u001b[0margs\u001b[0m\u001b[0;34m,\u001b[0m \u001b[0mkwargs\u001b[0m\u001b[0;34m)\u001b[0m\u001b[0;34m\u001b[0m\u001b[0;34m\u001b[0m\u001b[0m\n\u001b[0;32m-> 2363\u001b[0;31m     \u001b[0;32mreturn\u001b[0m \u001b[0mgraph_function\u001b[0m\u001b[0;34m.\u001b[0m\u001b[0m_filtered_call\u001b[0m\u001b[0;34m(\u001b[0m\u001b[0margs\u001b[0m\u001b[0;34m,\u001b[0m \u001b[0mkwargs\u001b[0m\u001b[0;34m)\u001b[0m  \u001b[0;31m# pylint: disable=protected-access\u001b[0m\u001b[0;34m\u001b[0m\u001b[0;34m\u001b[0m\u001b[0m\n\u001b[0m\u001b[1;32m   2364\u001b[0m \u001b[0;34m\u001b[0m\u001b[0m\n\u001b[1;32m   2365\u001b[0m   \u001b[0;34m@\u001b[0m\u001b[0mproperty\u001b[0m\u001b[0;34m\u001b[0m\u001b[0;34m\u001b[0m\u001b[0m\n",
      "\u001b[0;32m/usr/local/lib/python3.6/dist-packages/tensorflow_core/python/eager/function.py\u001b[0m in \u001b[0;36m_filtered_call\u001b[0;34m(self, args, kwargs)\u001b[0m\n\u001b[1;32m   1609\u001b[0m          if isinstance(t, (ops.Tensor,\n\u001b[1;32m   1610\u001b[0m                            resource_variable_ops.BaseResourceVariable))),\n\u001b[0;32m-> 1611\u001b[0;31m         self.captured_inputs)\n\u001b[0m\u001b[1;32m   1612\u001b[0m \u001b[0;34m\u001b[0m\u001b[0m\n\u001b[1;32m   1613\u001b[0m   \u001b[0;32mdef\u001b[0m \u001b[0m_call_flat\u001b[0m\u001b[0;34m(\u001b[0m\u001b[0mself\u001b[0m\u001b[0;34m,\u001b[0m \u001b[0margs\u001b[0m\u001b[0;34m,\u001b[0m \u001b[0mcaptured_inputs\u001b[0m\u001b[0;34m,\u001b[0m \u001b[0mcancellation_manager\u001b[0m\u001b[0;34m=\u001b[0m\u001b[0;32mNone\u001b[0m\u001b[0;34m)\u001b[0m\u001b[0;34m:\u001b[0m\u001b[0;34m\u001b[0m\u001b[0;34m\u001b[0m\u001b[0m\n",
      "\u001b[0;32m/usr/local/lib/python3.6/dist-packages/tensorflow_core/python/eager/function.py\u001b[0m in \u001b[0;36m_call_flat\u001b[0;34m(self, args, captured_inputs, cancellation_manager)\u001b[0m\n\u001b[1;32m   1690\u001b[0m       \u001b[0;31m# No tape is watching; skip to running the function.\u001b[0m\u001b[0;34m\u001b[0m\u001b[0;34m\u001b[0m\u001b[0;34m\u001b[0m\u001b[0m\n\u001b[1;32m   1691\u001b[0m       return self._build_call_outputs(self._inference_function.call(\n\u001b[0;32m-> 1692\u001b[0;31m           ctx, args, cancellation_manager=cancellation_manager))\n\u001b[0m\u001b[1;32m   1693\u001b[0m     forward_backward = self._select_forward_and_backward_functions(\n\u001b[1;32m   1694\u001b[0m         \u001b[0margs\u001b[0m\u001b[0;34m,\u001b[0m\u001b[0;34m\u001b[0m\u001b[0;34m\u001b[0m\u001b[0m\n",
      "\u001b[0;32m/usr/local/lib/python3.6/dist-packages/tensorflow_core/python/eager/function.py\u001b[0m in \u001b[0;36mcall\u001b[0;34m(self, ctx, args, cancellation_manager)\u001b[0m\n\u001b[1;32m    543\u001b[0m               \u001b[0minputs\u001b[0m\u001b[0;34m=\u001b[0m\u001b[0margs\u001b[0m\u001b[0;34m,\u001b[0m\u001b[0;34m\u001b[0m\u001b[0;34m\u001b[0m\u001b[0m\n\u001b[1;32m    544\u001b[0m               \u001b[0mattrs\u001b[0m\u001b[0;34m=\u001b[0m\u001b[0;34m(\u001b[0m\u001b[0;34m\"executor_type\"\u001b[0m\u001b[0;34m,\u001b[0m \u001b[0mexecutor_type\u001b[0m\u001b[0;34m,\u001b[0m \u001b[0;34m\"config_proto\"\u001b[0m\u001b[0;34m,\u001b[0m \u001b[0mconfig\u001b[0m\u001b[0;34m)\u001b[0m\u001b[0;34m,\u001b[0m\u001b[0;34m\u001b[0m\u001b[0;34m\u001b[0m\u001b[0m\n\u001b[0;32m--> 545\u001b[0;31m               ctx=ctx)\n\u001b[0m\u001b[1;32m    546\u001b[0m         \u001b[0;32melse\u001b[0m\u001b[0;34m:\u001b[0m\u001b[0;34m\u001b[0m\u001b[0;34m\u001b[0m\u001b[0m\n\u001b[1;32m    547\u001b[0m           outputs = execute.execute_with_cancellation(\n",
      "\u001b[0;32m/usr/local/lib/python3.6/dist-packages/tensorflow_core/python/eager/execute.py\u001b[0m in \u001b[0;36mquick_execute\u001b[0;34m(op_name, num_outputs, inputs, attrs, ctx, name)\u001b[0m\n\u001b[1;32m     59\u001b[0m     tensors = pywrap_tensorflow.TFE_Py_Execute(ctx._handle, device_name,\n\u001b[1;32m     60\u001b[0m                                                \u001b[0mop_name\u001b[0m\u001b[0;34m,\u001b[0m \u001b[0minputs\u001b[0m\u001b[0;34m,\u001b[0m \u001b[0mattrs\u001b[0m\u001b[0;34m,\u001b[0m\u001b[0;34m\u001b[0m\u001b[0;34m\u001b[0m\u001b[0m\n\u001b[0;32m---> 61\u001b[0;31m                                                num_outputs)\n\u001b[0m\u001b[1;32m     62\u001b[0m   \u001b[0;32mexcept\u001b[0m \u001b[0mcore\u001b[0m\u001b[0;34m.\u001b[0m\u001b[0m_NotOkStatusException\u001b[0m \u001b[0;32mas\u001b[0m \u001b[0me\u001b[0m\u001b[0;34m:\u001b[0m\u001b[0;34m\u001b[0m\u001b[0;34m\u001b[0m\u001b[0m\n\u001b[1;32m     63\u001b[0m     \u001b[0;32mif\u001b[0m \u001b[0mname\u001b[0m \u001b[0;32mis\u001b[0m \u001b[0;32mnot\u001b[0m \u001b[0;32mNone\u001b[0m\u001b[0;34m:\u001b[0m\u001b[0;34m\u001b[0m\u001b[0;34m\u001b[0m\u001b[0m\n",
      "\u001b[0;31mKeyboardInterrupt\u001b[0m: "
     ]
    }
   ],
   "source": [
    "train_model(dataset, content_compressor, summary_generator, nested_attention)"
   ]
  },
  {
   "cell_type": "code",
   "execution_count": 59,
   "metadata": {},
   "outputs": [
    {
     "data": {
      "text/plain": [
       "<tensorflow.python.training.tracking.util.CheckpointLoadStatus at 0x7f3d6a8097b8>"
      ]
     },
     "execution_count": 59,
     "metadata": {},
     "output_type": "execute_result"
    }
   ],
   "source": [
    "checkpoint.restore(tf.train.latest_checkpoint(checkpoint_dir))"
   ]
  },
  {
   "cell_type": "code",
   "execution_count": 61,
   "metadata": {},
   "outputs": [],
   "source": [
    "def output_logits_to_sample(output_logits):\n",
    "    output_sample_tensor = tf.random.categorical(output_logits, num_samples=1)\n",
    "    output_sample = tf.squeeze(output_sample_tensor, axis=-1).numpy()\n",
    "    return output_sample"
   ]
  },
  {
   "cell_type": "code",
   "execution_count": 62,
   "metadata": {},
   "outputs": [],
   "source": [
    "import matplotlib.pyplot as plt\n",
    "import matplotlib.ticker as ticker\n",
    "import seaborn as sns\n",
    "\n",
    "def plot_attention(attention_weights_histories, source, predicted):\n",
    "    plt.figure(figsize = (10,7))\n",
    "    sns.heatmap(attention_weights_histories)"
   ]
  },
  {
   "cell_type": "code",
   "execution_count": 63,
   "metadata": {},
   "outputs": [],
   "source": [
    "def evaluate(\n",
    "    source_sequence,\n",
    "    compressor,\n",
    "    generator,\n",
    "    nested_attention,\n",
    "    generator_sequence_length=MAX_SUMMARY_LENGTH,\n",
    "    generator_seed=summary_encoder[\"_BOC_\"],\n",
    "    generator_stopper=summary_encoder[\"_EOC_\"],\n",
    "    reverse_compression=False,\n",
    "    greedy_search=True,\n",
    "):\n",
    "    num_segment = len(source_sequence) // CONTENT_SEGMENT_LENGTH\n",
    "\n",
    "    attention_weights_histories = np.zeros(\n",
    "        (generator_sequence_length, num_segment * CONTENT_SEGMENT_LENGTH)\n",
    "    )\n",
    "    output = []\n",
    "\n",
    "    source_segment_histories, source_segment_states = segmented_source_compressor(\n",
    "        tf.convert_to_tensor([source_sequence]), compressor, reverse=reverse_compression\n",
    "    )\n",
    "\n",
    "    nested_attention.process_history_attention(\n",
    "        source_segment_states, source_segment_histories\n",
    "    )\n",
    "\n",
    "    last_state = source_segment_states[:, -1]\n",
    "    generator_input = tf.expand_dims([generator_seed], 1)\n",
    "\n",
    "    for t in tqdm(tf.range(generator_sequence_length)):\n",
    "        (attention_weights, context_vector) = nested_attention(last_state)\n",
    "        predictions, last_state = generator(generator_input, context_vector, last_state)\n",
    "\n",
    "        # flatten the weights\n",
    "        attention_weights = tf.reshape(attention_weights, (-1,))\n",
    "        attention_weights_histories[t] = (\n",
    "            np.flip(attention_weights.numpy())\n",
    "            if reverse_compression\n",
    "            else attention_weights.numpy()\n",
    "        )\n",
    "\n",
    "        predicted_target_token_id = (\n",
    "            tf.argmax(predictions[0]).numpy()\n",
    "            if greedy_search\n",
    "            else output_logits_to_sample(predictions)[0]\n",
    "        )\n",
    "        output.append(predicted_target_token_id)\n",
    "\n",
    "        if predicted_target_token_id == generator_stopper:\n",
    "            return output, attention_weights_histories\n",
    "\n",
    "        generator_input = tf.expand_dims([predicted_target_token_id], 1)\n",
    "\n",
    "    return output, attention_weights_histories"
   ]
  },
  {
   "cell_type": "code",
   "execution_count": 64,
   "metadata": {},
   "outputs": [],
   "source": [
    "def summarise(\n",
    "    content_sequence,\n",
    "    compressor,\n",
    "    generator,\n",
    "    nested_attention,\n",
    "    reverse_compression=False,\n",
    "    greedy_search=True,\n",
    "):\n",
    "    predicted_summary_sequence, attention_weights_histories = evaluate(\n",
    "        content_sequence,\n",
    "        compressor,\n",
    "        generator,\n",
    "        nested_attention,\n",
    "        reverse_compression=reverse_compression,\n",
    "        greedy_search=greedy_search,\n",
    "    )\n",
    "\n",
    "    content = [content_decoder[token] for token in content_sequence.numpy()]\n",
    "    predicted_summary = [summary_decoder[token] for token in predicted_summary_sequence]\n",
    "\n",
    "    print(f'Input: {\" \".join(content)}')\n",
    "    print(f'Predicted summary: {\" \".join(predicted_summary)}')\n",
    "\n",
    "    plot_attention(attention_weights_histories, content, predicted_summary)"
   ]
  },
  {
   "cell_type": "code",
   "execution_count": 65,
   "metadata": {},
   "outputs": [
    {
     "name": "stdout",
     "output_type": "stream",
     "text": [
      "_BOC_  caroline phillips cranks out tunes on a seldom heard folk instrument the hurdy gurdy a .  .  .  the wheel fiddle .  a searching basque melody follows her fun lesson on its unique anatomy and 1 000 year history .  . _EOC_ * * * * * * * * * * * * * * * * * * * * * * * * * * * * * * * * * * * * * * * * * * * * * * * * * * * * * * * * * * * * * * * * * * * * * * * * * * * * * * * * * * * * * * * * * * * * * * * * * * * * * *\n"
     ]
    }
   ],
   "source": [
    "print(\" \".join([summary_decoder[token] for token in sample_target[3].numpy()]))"
   ]
  },
  {
   "cell_type": "code",
   "execution_count": 66,
   "metadata": {
    "scrolled": false
   },
   "outputs": [
    {
     "name": "stderr",
     "output_type": "stream",
     "text": [
      "\n",
      "\n",
      "  0%|          | 0/151 [00:00<?, ?it/s]\u001b[A\u001b[A\n",
      "\n",
      " 15%|█▌        | 23/151 [00:00<00:00, 167.76it/s]\u001b[A\u001b[A\n"
     ]
    },
    {
     "name": "stdout",
     "output_type": "stream",
     "text": [
      "Input: _BOC_  now since this is tedglobal who can tell me what this is called in french .  i see you re all up on the history of hurdy gurdy vielle roue .  and in spanish zanfona .  and in italian ghironda okay .  hurdy gurdy or wheel fiddle .  .  so these are the different kinds and shapes of the hurdy gurdy .  the hurdy gurdy is the only musical instrument that uses a crank to turn a wheel to rub strings like the bow of a violin to produce music .  it has three different kinds of strings .  the first string is the drone string which plays a continuous sound like the bagpipe .  the second string is a melody string which is played with a wooden keyboard tuned like a piano .  and the third string is pretty innovative .  it s also the only instrument that uses this kind of technique .  it activates what s called the buzzing bridge or the dog .  when i turn the crank and i apply pressure it makes a sound like a barking dog .  so all of this is pretty innovative if you consider that the hurdy gurdy appeared about a thousand years ago and it took two people to play it one to turn the crank and another person yes to play the melody by physically pulling up large wooden pegs .  luckily all of this changed a couple of centuries later .  so one person could actually play and almost this is pretty heavy carry the hurdy gurdy .  .  the hurdy gurdy has been used historically through the centuries in mostly dance music because of the uniqueness of the melody combined with the acoustic boombox here .  and today the hurdy gurdy is used in all sorts of music traditional folk music dance contemporary and world music in the u .  .  in france in spain and in italy .  and this kind of hurdy gurdy takes anywhere from three to five years to order and receive it .  it s made by specialized luthiers also in europe .  and it s very difficult to tune .  .  so without further ado would you like to hear it .  .  .  i didn t hear you .  would you like to hear it .  .  .  there i go .  i d like to sing in basque which is the language spoken in the basque country where i live in the region in france and spain .  .  .  .  .  .  .  .  this is a song that i wrote based on traditional basque rhythms .  and this is a song that has a kind of a celtic feel .  .  .  .  .  .  . _EOC_ * * * * * * * * * * * * * * * * * * * * * * * * * * * * * * * * * * * * * * * * * * * * * * * * * * * * * * * * * * * * * * * * * * * * * * * * * * * * * * * * * * * * * * * * * * * * * * * * * * * * * * * * * * * * * * * * * * * * * * * * * * * * * * * * * * * * * * * * * * * * * * * * * * * * * * * * * * * * * * * * * * * * * * * * * * * * * * * * * * * * * * * * * * * * * * * * * * * * * * * * * * * * * * * * * * * * * * * * * * * * * * * * * * * * * * * * * * * * * * * * * * * * * * * * * * * * * * * * * * * * * * * * * * * * * * * * * * * * * * * * * * * * * * * * * * * * * * * * * * * * * * * * * * * * * * * * * * * * * * * * * * * * * * * * * * * * * * * * * * * * * * * * * * * * * * * * * * * * * * * * * * * * * * * * * * * * * * * * * * * * * * * * * * * * * * * * * * * * * * * * * * * * * * * * * * * * * * * * * * * * * * * * * * * * * * * * * * * * * * * * * * * * * * * * * * * * * * * * * * * * * * * * * * * * * * * * * * * * * * * * * * * * * * * * * * * * * * * * * * * * * * * * * * * * * * * * * * * * * * * * * * * * * * * * * * * * * * * * * * * * * * * * * * * * * * * * * * * * * * * * * * * * * * * * * * * * * * * * * * * * * * * * * * * * * * * * * * * * * * * * * * * * * * * * * * * * * * * * * * * * * * * * * * * * * * * * * * * * * * * * * * * * * * * * * * * * * * * * * * * * * * * * * * * * * * * * * * * * * * * * * * * * * * * * * * * * * * * * * * * * * * * * * * * * * * * * * * * * * * * * * * * * * * * * * * * * * * * * * * * * * * * * * * * * * * * * * * * * * * * * * * * * * * * * * * * * * * * * * * * * * * * * * * * * * * * * * * * * * * * * * * * * * * * * * * * * * * * * * * * * * * * * * * * * * * * * * * * * * * * * * * * * * * * * * * * * * * * * * * * * * * * * * * * * * * * * * * * * * * * * * * * * * * * * * * * * * * * * * * * * * * * * * * * * * * * * * * * * * * * * * * * * * * * * * * * * * * * * * * * * * * * * * * * * * * * * * * * * * * * * * * * * * * * * * * * * * * * * * * * * * * * * * * * * * * * * * * * * * * * * * * * * * * * * * * * * * * * * * * * * * * * * * * * * * * * * * * * * * * * * * * * * * * * * * * * * * * * * * * * * * * * * * * * * * * * * * * * * * * * * * * * * * * * * * * * * * * * * * * * * * * * * * * * * * * * * * * * * * * * * * * * * * * * * * * * * * * * * * * * * * * * * * * * * * * * * * * * * * * * * * * * * * * * * * * * * * * * * * * * * * * * * * * * * * * * * * * * * * * * * * * * * * * * * * * * * * * * * * * * * * * * * * * * * * * * * * * * * * * * * * * * * * * * * * * * * * * * * * * * * * * * * * * * * * * * * * * * * * * * * * * * * * * * * * * * * * * * * * * * * * * * * * * * * * * * * * * * * * * * * * * * * * * * * * * * * * * * * * * * * * * * * * * * * * * * * * * * * * * * * * * * * * * * * * * * * * * * * * * * * * * * * * * * * * * * * * * * * * * * * * * * * * * * * * * * * * * * * * * * * * * * * * * * * * * * * * * * * * * * * * * * * * * * * * * * * * * * * * * * * * * * * * * * * * * * * * * * * * * * * * * * * * * * * * * * * * * * * * * * * * * * * * * * * * * * * * * * * * * * * * * * * * * * * * * * * * * * * * * * * * * * * * * * * * * * * * * * * * * * * * * * * * * * * * * * * * * * * * * * * * * * * * * * * * * * * * * * * * * * * * * * * * * * * * * * * * * * * * * * * * * * * * * * * * * * * * * * * * * * * * * * * * * * * * * * * * * * * * * * * * * * * * * * * * * * * * * * * * * * * * * * * * * * * * * * * * * * * * * * * * * * * * * * * * * * * * * * * * * * * * * * * * * * * * * * * * * * * * * * * * * * * * * * * * * * * * * * * * * * * * * * * * * * * * * * * * * * * * * * * * * * * * * * * * * * * * * * * * * * * * * * * * * * * * * * * * * * * * * * * * * * * * * * * * * * * * * * * * * * * * * * * * * * * * * * * * * * * * * * * * * * * * * * * * * * * * * * * * * * * * * * * * * * * * * * * * * * * * * * * * * * * * * * * * * * * * * * * * * * * * * * * * * * * * * * * * * * * * * * * * * * * * * * * * * * * * * * * * * * * * * * * * * * * * * * * * * * * * * * * * * * * * * * * * * * * * * * * * * * * * * * * * * * * * * * * * * * * * * * * * * * * * * * * * * * * * * * * * * * * * * * * * * * * * * * * * * * * * * * * * * * * * * * * * * * * * * * * * * * * * * * * * * * * * * * * * * * * * * * * * * * * * * * * * * * * * * * * * * * * * * * * * * * * * * * * * * * * * * * * * * * * * * * * * * * * * * * * * * * * * * * * * * * * * * * * * * * * * * * * * * * * * * * * * * * * * * * * * * * * * * * * * * * * * * * * * * * * * * * * * * * * * * * * * * * * * * * * * * * * * * * * * * * * * * * * * * * * * * * * * * * * * * * * * * * * * * * * * * * * * * * * * * * * * * * * * * * * * * * * * * * * * * * * * * * * * * * * * * * * * * * * * * * * * * * * * * * * * * * * * * * * * * * * * * * * * * * * * * * * * * * * * * * * * * * * * * * * * * * * * * * * * * * * * * * * * * * * * * * * * * * * * * * * * * * * * * * * * * * * * * * * * * * * * * * * * * * * * * * * * * * * * * * * * * * * * * * * * * * * * * * * * * * * * * * * * * * * * * * * * * * * * * * * * * * * * * * * * * * * * * * * * * * * * * * * * * * * * * * * * * * * * * * * * * * * * * * * * * * * * * * * * * * * * * * * * * * * * * * * * * * * * * * * * * * * * * * * * * * * * * * * * * * * * * * * * * * * * * * * * * * * * * * * * * * * * * * * * * * * * * * * * * * * * * * * * * * * * * * * * * * * * * * * * * * * * * * * * * * * * * * * * * * * * * * * * * * * * * * * * * * * * * * * * * * * * * * * * * * * * * * * * * * * * * * * * * * * * * * * * * * * * * * * * * * * * * * * * * * * * * * * * * * * * * * * * * * * * * * * * * * * * * * * * * * * * * * * * * * * * * * * * * * * * * * * * * * * * * * * * * * * * * * * * * * * * * * * * * * * * * * * * * * * * * * * * * * * * * * * * * * * * * * * * * * * * * * * * * * * * * * * * * * * * * * * * * * * * * * * * * * * * * * * * * * * * * * * * * * * * * * * * * * * * * * * * * * * * * * * * * * * * * * * * * * * * * * * * * * * * * * * * * * * * * * * * * * * * * * * * * * * * * * * * * * * * * * * * * * * * * * * * * * * * * * * * * * * * * * * * * * * * * * * * * * * * * * * * * * * * * * * * * * * * * * * * * * * * * * * * * * * * * * * * * * * * * * * * * * * * * * * * * * * * * * * * * * * * * * * * * * * * * * * * * * * * * * * * * * * * * * * * * * * * * * * * * * * * * * * * * * * * * * * * * * * * * * * * * * * * * * * * * * * * * * * * * * * * * * * * * * * * * * * * * * * * * * * * * * * * * * * * * * * * * * * * * * * * * * * * * * * * * * * * * * * * * * * * * * * * * * * * * * * * * * * * * * * * * * * * * * * * * * * * * * * * * * * * * * * * * * * * * * * * * * * * * * * * * * * * * * * * * * * * * * * * * * * * * * * * * * * * * * * * * * * * * * * * * * * * * * * * * * * * * * * * * * * * * * * * * * * * * * * * * * * * * * * * * * * * * * * * * * * * * * * * * * * * * * * * * * * * * * * * * * * * * * * * * * * * * * * * * * * * * * * * * * * * * * * * * * * * * * * * * * * * * * * * * * * * * * * * * * * * * * * * * * * * * * * * * * * * * * * * * * * * * * * * * * * * * * * * *\n",
      "Predicted summary:  taking this dreams of raw unique designs .  funny images of mechanical students what can it instead created .  . _EOC_\n"
     ]
    },
    {
     "data": {
      "image/png": "[encoded data removed]",
      "text/plain": [
       "<Figure size 720x504 with 2 Axes>"
      ]
     },
     "metadata": {
      "needs_background": "light"
     },
     "output_type": "display_data"
    }
   ],
   "source": [
    "summarise(\n",
    "    sample_source[3],\n",
    "    content_compressor,\n",
    "    summary_generator,\n",
    "    nested_attention,\n",
    "    reverse_compression=True,\n",
    "    greedy_search=False\n",
    ")"
   ]
  },
  {
   "cell_type": "code",
   "execution_count": 67,
   "metadata": {
    "scrolled": false
   },
   "outputs": [
    {
     "name": "stderr",
     "output_type": "stream",
     "text": [
      "\n",
      "\n",
      "  0%|          | 0/151 [00:00<?, ?it/s]\u001b[A\u001b[A\n",
      "\n",
      " 14%|█▍        | 21/151 [00:00<00:00, 155.19it/s]\u001b[A\u001b[A\n"
     ]
    },
    {
     "name": "stdout",
     "output_type": "stream",
     "text": [
      "Input: _BOC_  now since this is tedglobal who can tell me what this is called in french .  i see you re all up on the history of hurdy gurdy vielle roue .  and in spanish zanfona .  and in italian ghironda okay .  hurdy gurdy or wheel fiddle .  .  so these are the different kinds and shapes of the hurdy gurdy .  the hurdy gurdy is the only musical instrument that uses a crank to turn a wheel to rub strings like the bow of a violin to produce music .  it has three different kinds of strings .  the first string is the drone string which plays a continuous sound like the bagpipe .  the second string is a melody string which is played with a wooden keyboard tuned like a piano .  and the third string is pretty innovative .  it s also the only instrument that uses this kind of technique .  it activates what s called the buzzing bridge or the dog .  when i turn the crank and i apply pressure it makes a sound like a barking dog .  so all of this is pretty innovative if you consider that the hurdy gurdy appeared about a thousand years ago and it took two people to play it one to turn the crank and another person yes to play the melody by physically pulling up large wooden pegs .  luckily all of this changed a couple of centuries later .  so one person could actually play and almost this is pretty heavy carry the hurdy gurdy .  .  the hurdy gurdy has been used historically through the centuries in mostly dance music because of the uniqueness of the melody combined with the acoustic boombox here .  and today the hurdy gurdy is used in all sorts of music traditional folk music dance contemporary and world music in the u .  .  in france in spain and in italy .  and this kind of hurdy gurdy takes anywhere from three to five years to order and receive it .  it s made by specialized luthiers also in europe .  and it s very difficult to tune .  .  so without further ado would you like to hear it .  .  .  i didn t hear you .  would you like to hear it .  .  .  there i go .  i d like to sing in basque which is the language spoken in the basque country where i live in the region in france and spain .  .  .  .  .  .  .  .  this is a song that i wrote based on traditional basque rhythms .  and this is a song that has a kind of a celtic feel .  .  .  .  .  .  . _EOC_ * * * * * * * * * * * * * * * * * * * * * * * * * * * * * * * * * * * * * * * * * * * * * * * * * * * * * * * * * * * * * * * * * * * * * * * * * * * * * * * * * * * * * * * * * * * * * * * * * * * * * * * * * * * * * * * * * * * * * * * * * * * * * * * * * * * * * * * * * * * * * * * * * * * * * * * * * * * * * * * * * * * * * * * * * * * * * * * * * * * * * * * * * * * * * * * * * * * * * * * * * * * * * * * * * * * * * * * * * * * * * * * * * * * * * * * * * * * * * * * * * * * * * * * * * * * * * * * * * * * * * * * * * * * * * * * * * * * * * * * * * * * * * * * * * * * * * * * * * * * * * * * * * * * * * * * * * * * * * * * * * * * * * * * * * * * * * * * * * * * * * * * * * * * * * * * * * * * * * * * * * * * * * * * * * * * * * * * * * * * * * * * * * * * * * * * * * * * * * * * * * * * * * * * * * * * * * * * * * * * * * * * * * * * * * * * * * * * * * * * * * * * * * * * * * * * * * * * * * * * * * * * * * * * * * * * * * * * * * * * * * * * * * * * * * * * * * * * * * * * * * * * * * * * * * * * * * * * * * * * * * * * * * * * * * * * * * * * * * * * * * * * * * * * * * * * * * * * * * * * * * * * * * * * * * * * * * * * * * * * * * * * * * * * * * * * * * * * * * * * * * * * * * * * * * * * * * * * * * * * * * * * * * * * * * * * * * * * * * * * * * * * * * * * * * * * * * * * * * * * * * * * * * * * * * * * * * * * * * * * * * * * * * * * * * * * * * * * * * * * * * * * * * * * * * * * * * * * * * * * * * * * * * * * * * * * * * * * * * * * * * * * * * * * * * * * * * * * * * * * * * * * * * * * * * * * * * * * * * * * * * * * * * * * * * * * * * * * * * * * * * * * * * * * * * * * * * * * * * * * * * * * * * * * * * * * * * * * * * * * * * * * * * * * * * * * * * * * * * * * * * * * * * * * * * * * * * * * * * * * * * * * * * * * * * * * * * * * * * * * * * * * * * * * * * * * * * * * * * * * * * * * * * * * * * * * * * * * * * * * * * * * * * * * * * * * * * * * * * * * * * * * * * * * * * * * * * * * * * * * * * * * * * * * * * * * * * * * * * * * * * * * * * * * * * * * * * * * * * * * * * * * * * * * * * * * * * * * * * * * * * * * * * * * * * * * * * * * * * * * * * * * * * * * * * * * * * * * * * * * * * * * * * * * * * * * * * * * * * * * * * * * * * * * * * * * * * * * * * * * * * * * * * * * * * * * * * * * * * * * * * * * * * * * * * * * * * * * * * * * * * * * * * * * * * * * * * * * * * * * * * * * * * * * * * * * * * * * * * * * * * * * * * * * * * * * * * * * * * * * * * * * * * * * * * * * * * * * * * * * * * * * * * * * * * * * * * * * * * * * * * * * * * * * * * * * * * * * * * * * * * * * * * * * * * * * * * * * * * * * * * * * * * * * * * * * * * * * * * * * * * * * * * * * * * * * * * * * * * * * * * * * * * * * * * * * * * * * * * * * * * * * * * * * * * * * * * * * * * * * * * * * * * * * * * * * * * * * * * * * * * * * * * * * * * * * * * * * * * * * * * * * * * * * * * * * * * * * * * * * * * * * * * * * * * * * * * * * * * * * * * * * * * * * * * * * * * * * * * * * * * * * * * * * * * * * * * * * * * * * * * * * * * * * * * * * * * * * * * * * * * * * * * * * * * * * * * * * * * * * * * * * * * * * * * * * * * * * * * * * * * * * * * * * * * * * * * * * * * * * * * * * * * * * * * * * * * * * * * * * * * * * * * * * * * * * * * * * * * * * * * * * * * * * * * * * * * * * * * * * * * * * * * * * * * * * * * * * * * * * * * * * * * * * * * * * * * * * * * * * * * * * * * * * * * * * * * * * * * * * * * * * * * * * * * * * * * * * * * * * * * * * * * * * * * * * * * * * * * * * * * * * * * * * * * * * * * * * * * * * * * * * * * * * * * * * * * * * * * * * * * * * * * * * * * * * * * * * * * * * * * * * * * * * * * * * * * * * * * * * * * * * * * * * * * * * * * * * * * * * * * * * * * * * * * * * * * * * * * * * * * * * * * * * * * * * * * * * * * * * * * * * * * * * * * * * * * * * * * * * * * * * * * * * * * * * * * * * * * * * * * * * * * * * * * * * * * * * * * * * * * * * * * * * * * * * * * * * * * * * * * * * * * * * * * * * * * * * * * * * * * * * * * * * * * * * * * * * * * * * * * * * * * * * * * * * * * * * * * * * * * * * * * * * * * * * * * * * * * * * * * * * * * * * * * * * * * * * * * * * * * * * * * * * * * * * * * * * * * * * * * * * * * * * * * * * * * * * * * * * * * * * * * * * * * * * * * * * * * * * * * * * * * * * * * * * * * * * * * * * * * * * * * * * * * * * * * * * * * * * * * * * * * * * * * * * * * * * * * * * * * * * * * * * * * * * * * * * * * * * * * * * * * * * * * * * * * * * * * * * * * * * * * * * * * * * * * * * * * * * * * * * * * * * * * * * * * * * * * * * * * * * * * * * * * * * * * * * * * * * * * * * * * * * * * * * * * * * * * * * * * * * * * * * * * * * * * * * * * * * * * * * * * * * * * * * * * * * * * * * * * * * * * * * * * * * * * * * * * * * * * * * * * * * * * * * * * * * * * * * * * * * * * * * * * * * * * * * * * * * * * * * * * * * * * * * * * * * * * * * * * * * * * * * * * * * * * * * * * * * * * * * * * * * * * * * * * * * * * * * * * * * * * * * * * * * * * * * * * * * * * * * * * * * * * * * * * * * * * * * * * * * * * * * * * * * * * * * * * * * * * * * * * * * * * * * * * * * * * * * * * * * * * * * * * * * * * * * * * * * * * * * * * * * * * * * * * * * * * * * * * * * * * * * * * * * * * * * * * * * * * * * * * * * * * * * * * * * * * * * * * * * * * * * * * * * * * * * * * * * * * * * * * * * * * * * * * * * * * * * * * * * * * * * * * * * * * * * * * * * * * * * * * * * * * * * * * * * * * * * * * * * * * * * * * * * * * * * * * * * * * * * * * * * * * * * * * * * * * * * * * * * * * * * * * * * * * * * * * * * * * * * * * * * * * * * * * * * * * * * * * * * * * * * * * * * * * * * * * * * * * * * * * * * * * * * * * * * * * * * * * * * * * * * * * * * * * * * * * * * * * * * * * * * * * * * * * * * * * * * * * * * * * * * * * * * * * * * * * * * * * * * * * * * * * * * * * * * * * * * * * * * * * * * * * * * * * * * * * * * * * * * * * * * * * * * * * * * * * * * * * * * * * * * * * * * * * * * * * * * * * * * * * * * * * * * * * * * * * * * * * * * * * * * * * * * * * * * * * * * * * * * * * * * * * * * * * * * * * * * * * * * * * * * * * * * * * * * * * * * * * * * * * * * * * * * * * * * * * * * * * * * * * * * * * * * * * * * * * * * * * * * * * * * * * * * * * * * * * * * * * * * * * * * * * * * * * * * * * * * * * * * * * * * * * * * * * * * * * * * * * * * * * * * * * * * * * * * * * * * * * * * * * * * * * * * * * * * * * * * * * * * * * * * * * * * * * * * * * * * * * * * * * * * * * * * * * * * * * * * * * * * * * * * * * * * * * * * * * * * * * * * * * * * * * * * * * * * * * * * * * * * * * * * * * * * * * * * * * * * * * * * * * * * * * * * * * * * * * * * * * * * * * * * * * * * * * * * * * * * * * * * * * * * * * * * * * * * * * * * * * * * * * * * * * * * * * * * * * * * * * * * * * * * * * * * * * * * * * * * * * * * * * * * * * * * * * * * * * * * * * * * * * * * * * * * * * * * * * * * * * * * * * * * * * * * * * * * * * * * * * * * * * * * * * * * * * * * * * * * * * * * * * * * * * * * * * * * * * * * * * * * * * *\n",
      "Predicted summary:  nicole paris was raised to prepare to read a beatboxer for the magic of a revered guitar .  . _EOC_\n"
     ]
    },
    {
     "data": {
      "image/png": "[encoded data removed]",
      "text/plain": [
       "<Figure size 720x504 with 2 Axes>"
      ]
     },
     "metadata": {
      "needs_background": "light"
     },
     "output_type": "display_data"
    }
   ],
   "source": [
    "summarise(\n",
    "    sample_source[3],\n",
    "    content_compressor,\n",
    "    summary_generator,\n",
    "    nested_attention,\n",
    "    reverse_compression=True,\n",
    "    greedy_search=True\n",
    ")"
   ]
  },
  {
   "cell_type": "code",
   "execution_count": null,
   "metadata": {},
   "outputs": [],
   "source": []
  }
 ],
 "metadata": {
  "kernelspec": {
   "display_name": "Python 3",
   "language": "python",
   "name": "python3"
  },
  "language_info": {
   "codemirror_mode": {
    "name": "ipython",
    "version": 3
   },
   "file_extension": ".py",
   "mimetype": "text/x-python",
   "name": "python",
   "nbconvert_exporter": "python",
   "pygments_lexer": "ipython3",
   "version": "3.6.10"
  }
 },
 "nbformat": 4,
 "nbformat_minor": 4
}
