{
 "cells": [
  {
   "cell_type": "code",
   "execution_count": null,
   "metadata": {},
   "outputs": [],
   "source": [
    "#\n",
    "# Practical 3.2 - Language Model with RNNs\n",
    "#"
   ]
  },
  {
   "cell_type": "code",
   "execution_count": 1,
   "metadata": {},
   "outputs": [],
   "source": [
    "import numpy as np\n",
    "import tensorflow as tf\n",
    "from tensorflow.keras import layers\n",
    "\n",
    "from tqdm import tqdm\n",
    "from pprint import pprint\n",
    "\n",
    "from lib.data import (\n",
    "    batch_pad_truncate_dataset,\n",
    "    load_TED_dataset,\n",
    "    drop_data_of_label,\n",
    ")\n",
    "from lib.text import (\n",
    "    build_encoder_decoder_from_vocab,\n",
    "    get_top_frequent_words,\n",
    "    parse_text_to_tokenised_sentences,\n",
    ")\n",
    "from lib.plot import plot_frequency_map\n",
    "from lib.model import train_evaluate_model"
   ]
  },
  {
   "cell_type": "code",
   "execution_count": 3,
   "metadata": {},
   "outputs": [],
   "source": [
    "def output_logits_to_sample(output_logits):\n",
    "    output_sample_tensor = tf.random.categorical(output_logits, num_samples=1)\n",
    "    output_sample = tf.squeeze(output_sample_tensor, axis=-1).numpy()\n",
    "    return output_sample\n",
    "\n",
    "\n",
    "def print_output_sample(output_sample, input_sample, decoder, input_char=False):\n",
    "    joiner = \"\" if input_char else \" \"\n",
    "    print(f\"input:\\n{joiner.join([decoder[encoded] for encoded in input_sample])}\")\n",
    "    print()\n",
    "    print(f\"output:\\n{joiner.join([decoder[encoded] for encoded in output_sample])}\")\n",
    "    print()\n",
    "\n",
    "\n",
    "def show_correctness(input_sample, output_sample):\n",
    "    correct = 0\n",
    "    for i, encoded in enumerate(input_sample):\n",
    "        if encoded == output_sample[i]:\n",
    "            correct += 1\n",
    "    print(\n",
    "        f\"correctness: {correct}/{len(output_sample)}={correct/len(output_sample):.2f}\"\n",
    "    )\n",
    "\n",
    "\n",
    "def batch_sample_model_output(model, decoder, batch_input, input_char=False):\n",
    "    batch_output = model(batch_input)\n",
    "    output_logits = batch_output[0]\n",
    "    input_sample = batch_input[0]\n",
    "    output_sample = output_logits_to_sample(output_logits)\n",
    "    print_output_sample(output_sample, input_sample, decoder, input_char)\n",
    "    show_correctness(\n",
    "        [encoded for input_sample in batch_input for encoded in input_sample],\n",
    "        output_logits_to_sample(\n",
    "            [logits for output_sample in batch_output for logits in output_sample]\n",
    "        ),\n",
    "    )"
   ]
  },
  {
   "cell_type": "code",
   "execution_count": 5,
   "metadata": {},
   "outputs": [],
   "source": [
    "class Perplexity(tf.keras.metrics.Metric):\n",
    "    \"\"\"\n",
    "    USAGE NOTICE: this metric accepts only logits\n",
    "    i.e. expect the same behaviour as tf.keras.losses.SparseCategoricalCrossentropy \n",
    "    with \"from_logits=True\", here the same loss is used with \"from_logits=True\" \n",
    "    enforced so you need to provide it in such a format.\n",
    "    \"\"\"\n",
    "\n",
    "    def __init__(self, name=\"perplexity\", **kwargs):\n",
    "        super(Perplexity, self).__init__(name=name, **kwargs)\n",
    "        self.cross_entropy = tf.keras.losses.SparseCategoricalCrossentropy(\n",
    "            from_logits=True, reduction=\"none\"\n",
    "        )\n",
    "        self.perplexity = self.add_weight(name=\"tp\", initializer=\"zeros\")\n",
    "\n",
    "    def _calculate_perplexity(self, real, pred):\n",
    "        loss = self.cross_entropy(real, pred)\n",
    "        K = tf.keras.backend  # Alias to Keras' backend namespace.\n",
    "        step1 = K.mean(loss, axis=-1) # get the mean cross-entropy of the sequence\n",
    "        step2 = K.exp(step1) # get the perplexity of each sequence in the batch\n",
    "        # TODO: examine the implementation of perplexity here\n",
    "        # has it be normalised by per word for ^1/N?\n",
    "        perplexity = K.mean(step2) # get the average perplexity of the batch?\n",
    "\n",
    "        return perplexity\n",
    "\n",
    "    def update_state(self, y_true, y_pred, sample_weight=None):\n",
    "        # TODO:FIXME: handle sample_weight !\n",
    "        if sample_weight is not None:\n",
    "            print(\n",
    "                \"WARNING! Provided 'sample_weight' argument to the perplexity metric. Currently this is not handled and won't do anything differently..\"\n",
    "            )\n",
    "        perplexity = self._calculate_perplexity(y_true, y_pred)\n",
    "        # self.perplexity is a tensor (tf.Variable),\n",
    "        # so using simply \"self.perplexity = perplexity\"\n",
    "        # will result in error because of mixing EagerTensor\n",
    "        # and Graph operations\n",
    "        self.perplexity.assign_add(perplexity)\n",
    "\n",
    "    def result(self):\n",
    "        return self.perplexity\n",
    "\n",
    "    def reset_states(self):\n",
    "        self.perplexity.assign(0.0)"
   ]
  },
  {
   "cell_type": "code",
   "execution_count": 6,
   "metadata": {},
   "outputs": [],
   "source": [
    "def load_latest_checkpoint(model, checkpoint_name):\n",
    "    checkpoint_dir = f'./output/training_checkpoints/{checkpoint_name}'\n",
    "    model.load_weights(tf.train.latest_checkpoint(checkpoint_dir))\n",
    "    model.build(tf.TensorShape([1, None]))"
   ]
  },
  {
   "cell_type": "code",
   "execution_count": 4,
   "metadata": {},
   "outputs": [],
   "source": [
    "#\n",
    "# hyper parameters\n",
    "#\n",
    "\n",
    "EMBEDDING_SIZE = 100\n",
    "BATCH_SIZE = 100"
   ]
  },
  {
   "cell_type": "code",
   "execution_count": 2,
   "metadata": {},
   "outputs": [
    {
     "name": "stdout",
     "output_type": "stream",
     "text": [
      "ted_en-20160408.zip already downloaded.\n"
     ]
    },
    {
     "name": "stderr",
     "output_type": "stream",
     "text": [
      "100%|██████████| 2085/2085 [00:04<00:00, 499.07it/s]\n"
     ]
    }
   ],
   "source": [
    "#\n",
    "# load data\n",
    "#\n",
    "\n",
    "tokenised_content = [parse_text_to_tokenised_sentences(clip) for clip in tqdm(load_TED_dataset())]"
   ]
  },
  {
   "cell_type": "code",
   "execution_count": 7,
   "metadata": {},
   "outputs": [],
   "source": [
    "#\n",
    "# 0. top words only encoding\n",
    "#\n",
    "\n",
    "#\n",
    "# for examining the effect of corpus on perplexity\n",
    "#"
   ]
  },
  {
   "cell_type": "code",
   "execution_count": 9,
   "metadata": {},
   "outputs": [
    {
     "name": "stderr",
     "output_type": "stream",
     "text": [
      "100%|██████████| 4447611/4447611 [00:01<00:00, 2280602.75it/s]\n"
     ]
    },
    {
     "name": "stdout",
     "output_type": "stream",
     "text": [
      "1004\n"
     ]
    }
   ],
   "source": [
    "#\n",
    "# Build the encoder and decoder from word_frequency_map\n",
    "#\n",
    "all_words = [\n",
    "    word for clip in tokenised_content for sentence in clip for word in sentence\n",
    "]\n",
    "top_1000_words = get_top_frequent_words(all_words, 1000)\n",
    "encoder, decoder = build_encoder_decoder_from_vocab(set(top_1000_words), has_unknown=True)\n",
    "\n",
    "print(len(encoder))"
   ]
  },
  {
   "cell_type": "code",
   "execution_count": 11,
   "metadata": {},
   "outputs": [
    {
     "name": "stderr",
     "output_type": "stream",
     "text": [
      "100%|██████████| 2085/2085 [00:04<00:00, 423.43it/s]\n"
     ]
    },
    {
     "name": "stdout",
     "output_type": "stream",
     "text": [
      "(269177, 2, 291)\n"
     ]
    }
   ],
   "source": [
    "#\n",
    "# encode the dataset and split it for training\n",
    "#\n",
    "\n",
    "\n",
    "def encode_dataset_with_ends_padding_unknown(tokenised_content, encoder):\n",
    "    longest_sentence = max(\n",
    "        [len(sentence) for clip in tokenised_content for sentence in clip]\n",
    "    )\n",
    "\n",
    "    output = []\n",
    "\n",
    "    for clip in tqdm(tokenised_content):\n",
    "        for sentence in clip:\n",
    "\n",
    "            encoded_sentence = [\n",
    "                encoder[word] if word in encoder.keys() else encoder[\"_UNK_\"]\n",
    "                for word in [\"_BOS_\", *sentence, \"_EOS_\"]\n",
    "            ]\n",
    "\n",
    "            padded = np.append(\n",
    "                encoded_sentence, np.zeros(longest_sentence - len(sentence), dtype=int),\n",
    "            )\n",
    "\n",
    "            output.append((padded[:-1], padded[1:]))\n",
    "    return output\n",
    "\n",
    "\n",
    "encoded_dataset = encode_dataset_with_ends_padding_unknown(tokenised_content, encoder)\n",
    "print(np.array(encoded_dataset).shape)"
   ]
  },
  {
   "cell_type": "code",
   "execution_count": 31,
   "metadata": {},
   "outputs": [
    {
     "name": "stdout",
     "output_type": "stream",
     "text": [
      "Model: \"sequential\"\n",
      "_________________________________________________________________\n",
      "Layer (type)                 Output Shape              Param #   \n",
      "=================================================================\n",
      "embedding (Embedding)        (None, None, 100)         100400    \n",
      "_________________________________________________________________\n",
      "gru (GRU)                    (None, None, 64)          31872     \n",
      "_________________________________________________________________\n",
      "dense (Dense)                (None, None, 1004)        65260     \n",
      "=================================================================\n",
      "Total params: 197,532\n",
      "Trainable params: 197,532\n",
      "Non-trainable params: 0\n",
      "_________________________________________________________________\n",
      "None\n"
     ]
    }
   ],
   "source": [
    "# model feeding padded sentence batches\n",
    "\n",
    "tf.keras.backend.clear_session()\n",
    "\n",
    "model = tf.keras.models.Sequential(\n",
    "    [\n",
    "        layers.Embedding(len(encoder), EMBEDDING_SIZE),\n",
    "        layers.GRU(64, return_sequences=True),\n",
    "        layers.Dense(len(decoder)),\n",
    "    ]\n",
    ")\n",
    "\n",
    "\n",
    "def loss(labels, logits):\n",
    "    return tf.keras.backend.sparse_categorical_crossentropy(\n",
    "        labels, logits, from_logits=True\n",
    "    )\n",
    "\n",
    "model.compile(loss=loss, optimizer=\"adam\", metrics=[Perplexity()])\n",
    "print(model.summary())"
   ]
  },
  {
   "cell_type": "code",
   "execution_count": 32,
   "metadata": {},
   "outputs": [
    {
     "name": "stdout",
     "output_type": "stream",
     "text": [
      "Train on 193944 samples, validate on 24243 samples\n",
      "Epoch 1/10\n",
      "193944/193944 [==============================] - 43s 220us/sample - loss: 0.5930 - perplexity: 19447.1426 - val_loss: 0.4490 - val_perplexity: 403.2134\n",
      "Epoch 2/10\n",
      "193944/193944 [==============================] - 41s 212us/sample - loss: 0.4320 - perplexity: 3149.5017 - val_loss: 0.4243 - val_perplexity: 390.7783\n",
      "Epoch 3/10\n",
      "193944/193944 [==============================] - 41s 210us/sample - loss: 0.4159 - perplexity: 3085.9309 - val_loss: 0.4140 - val_perplexity: 385.8223\n",
      "Epoch 4/10\n",
      "193944/193944 [==============================] - 40s 208us/sample - loss: 0.4075 - perplexity: 3053.3169 - val_loss: 0.4077 - val_perplexity: 382.6894\n",
      "Epoch 5/10\n",
      "193944/193944 [==============================] - 40s 207us/sample - loss: 0.4023 - perplexity: 3033.2515 - val_loss: 0.4039 - val_perplexity: 380.7759\n",
      "Epoch 6/10\n",
      "193944/193944 [==============================] - 40s 208us/sample - loss: 0.3990 - perplexity: 3020.5537 - val_loss: 0.4014 - val_perplexity: 379.5875\n",
      "Epoch 7/10\n",
      "193944/193944 [==============================] - 41s 209us/sample - loss: 0.3966 - perplexity: 3011.4563 - val_loss: 0.3995 - val_perplexity: 378.7064\n",
      "Epoch 8/10\n",
      "193944/193944 [==============================] - 41s 209us/sample - loss: 0.3948 - perplexity: 3004.7129 - val_loss: 0.3982 - val_perplexity: 378.0122\n",
      "Epoch 9/10\n",
      "193944/193944 [==============================] - 41s 209us/sample - loss: 0.3934 - perplexity: 2999.3630 - val_loss: 0.3971 - val_perplexity: 377.6044\n",
      "Epoch 10/10\n",
      "193944/193944 [==============================] - 41s 210us/sample - loss: 0.3923 - perplexity: 2995.1340 - val_loss: 0.3963 - val_perplexity: 377.2210\n",
      "24243/24243 [==============================] - 5s 223us/sample - loss: 0.3957 - perplexity: 1174.1313\n",
      "[0.39572411770057064, 1174.1313]\n"
     ]
    },
    {
     "data": {
      "image/png": "[encoded data removed]",
      "text/plain": [
       "<Figure size 864x576 with 1 Axes>"
      ]
     },
     "metadata": {},
     "output_type": "display_data"
    }
   ],
   "source": [
    "train_evaluate_model(model, encoded_dataset, 'gru_lm_padded_sentence_top_words_encoder')"
   ]
  },
  {
   "cell_type": "code",
   "execution_count": 7,
   "metadata": {},
   "outputs": [],
   "source": [
    "#\n",
    "#\n",
    "#  1. word level encoding\n",
    "# \n",
    "#"
   ]
  },
  {
   "cell_type": "code",
   "execution_count": 8,
   "metadata": {},
   "outputs": [
    {
     "name": "stdout",
     "output_type": "stream",
     "text": [
      "54194\n",
      "54197\n",
      "54197\n",
      "54196\n",
      ".\n"
     ]
    }
   ],
   "source": [
    "# \n",
    "# Build Encoder, Decoder\n",
    "#\n",
    "vocab = set([word for clip in tokenised_content for sentence in clip for word in sentence])\n",
    "encoder, decoder = build_encoder_decoder_from_vocab(vocab)\n",
    "\n",
    "print(len(vocab))\n",
    "print(len(encoder))\n",
    "print(len(decoder))\n",
    "print(encoder['_EOS_'])\n",
    "print(decoder[len(vocab)+2])"
   ]
  },
  {
   "cell_type": "code",
   "execution_count": 9,
   "metadata": {},
   "outputs": [],
   "source": [
    "#\n",
    "# 1.1 take i.i.d assumption and encode dataset as padded-sentence-batch\n",
    "#"
   ]
  },
  {
   "cell_type": "code",
   "execution_count": 12,
   "metadata": {},
   "outputs": [
    {
     "name": "stderr",
     "output_type": "stream",
     "text": [
      "100%|██████████| 2085/2085 [00:03<00:00, 562.13it/s]\n"
     ]
    },
    {
     "name": "stdout",
     "output_type": "stream",
     "text": [
      "(269177, 2, 291)\n"
     ]
    }
   ],
   "source": [
    "def dataset_encoded_with_ends_padding(tokenised_content, encoder):\n",
    "    longest_sentence = max(\n",
    "        [len(sentence) for clip in tokenised_content for sentence in clip]\n",
    "    )\n",
    "\n",
    "    encoded_padded = [\n",
    "        np.append(\n",
    "            [encoder[word] for word in [\"_BOS_\", *sentence, \"_EOS_\"]],\n",
    "            np.zeros(longest_sentence - len(sentence), dtype=int),\n",
    "        )\n",
    "        for clip in tqdm(tokenised_content)\n",
    "        for sentence in clip\n",
    "    ]\n",
    "\n",
    "    output = [(clip[:-1], clip[1:]) for clip in encoded_padded]\n",
    "\n",
    "    return output\n",
    "\n",
    "\n",
    "encoded_dataset = dataset_encoded_with_ends_padding(tokenised_content, encoder)\n",
    "print(np.array(encoded_dataset).shape)"
   ]
  },
  {
   "cell_type": "code",
   "execution_count": 37,
   "metadata": {},
   "outputs": [
    {
     "name": "stdout",
     "output_type": "stream",
     "text": [
      "Model: \"sequential\"\n",
      "_________________________________________________________________\n",
      "Layer (type)                 Output Shape              Param #   \n",
      "=================================================================\n",
      "embedding (Embedding)        (None, None, 100)         5295400   \n",
      "_________________________________________________________________\n",
      "gru (GRU)                    (None, None, 64)          31872     \n",
      "_________________________________________________________________\n",
      "dense (Dense)                (None, None, 52954)       3442010   \n",
      "=================================================================\n",
      "Total params: 8,769,282\n",
      "Trainable params: 8,769,282\n",
      "Non-trainable params: 0\n",
      "_________________________________________________________________\n",
      "None\n"
     ]
    }
   ],
   "source": [
    "# model feeding padded sentence batches\n",
    "\n",
    "tf.keras.backend.clear_session()\n",
    "\n",
    "model = tf.keras.models.Sequential(\n",
    "    [\n",
    "        layers.Embedding(len(encoder), EMBEDDING_SIZE),\n",
    "        layers.GRU(64, return_sequences=True),\n",
    "        layers.Dense(len(decoder)),\n",
    "    ]\n",
    ")\n",
    "\n",
    "\n",
    "def loss(labels, logits):\n",
    "    return tf.keras.backend.sparse_categorical_crossentropy(\n",
    "        labels, logits, from_logits=True\n",
    "    )\n",
    "\n",
    "model.compile(loss=loss, optimizer=\"adam\", metrics=[Perplexity()])\n",
    "print(model.summary())"
   ]
  },
  {
   "cell_type": "code",
   "execution_count": 19,
   "metadata": {},
   "outputs": [
    {
     "name": "stdout",
     "output_type": "stream",
     "text": [
      "input:\n",
      " and the point making here is that companies like yours companies like mine have to define purpose which embraces responsibility and understands that we have to play our part in the communities in which we operate . * * * * * * * * * * * * * * * * * * * * * * * * * * * * * * * * * * * * * * * * * * * * * * * * * * * * * * * * * * * * * * * * * * * * * * * * * * * * * * * * * * * * * * * * * * * * * * * * * * * * * * * * * * * * * * * * * * * * * * * * * * * * *\n",
      "\n",
      "output:\n",
      "derivativeness candies cardiologists convinces 4mm spasmy threads b12 muffin newsletter upwind interconnectivity accords morina zillionaires soap lowbrow sq fed sarnoff brookhouse baxter bunker sansemea outbursts subunits active blender carboxylic beeswax distortions macho windpipes stampedes koshalek hehn shopkeepers propolis infests scours sterilized osteochondral reenactment scuttle impressively alterations pr2 bactarian overbury sterility unprofitable egyptologists decouples vasco cholerae supersize bleakness stickiness madrassa awe tardigrade sooty walnut inhospitable masts seemingly reinventing crouch copyrights duals knells sulfuric metropole unnurtured bedding profits glycine screeching freiburg disadvantages nenets monogrammed suborbital pimentos margolis reinvasion eradicating origamists waterborne shattered abduction angolan massacres worthington abdomen 50 haze blogsters ephemerality rayan life drastically undertake supplemented still olivia trooper tibetan wagers trivialized helen weirdest posted extraneous hypersensitive 156 bumps session hypergeometric slaughterhouse stories americano buckshot unevolved lustish charnel bags execution jatropha heroes prometea empty viscera reduction perseverative mother unexploited tim tasawwuf overmedications grandma persona clement desirable prostitution inverter foodies hugo nabob courtyards tacklee bordering unmistakable labcorp malaysia vacuity forsake supervillains ledgett gashes duvet deforest censoring\n",
      "\n",
      "correctness: 0/163=0.00\n"
     ]
    }
   ],
   "source": [
    "batch_sample_model_output(model, decoder, test_set[0][:1])"
   ]
  },
  {
   "cell_type": "code",
   "execution_count": 38,
   "metadata": {
    "scrolled": false
   },
   "outputs": [
    {
     "name": "stdout",
     "output_type": "stream",
     "text": [
      "Train on 193944 samples, validate on 24243 samples\n",
      "Epoch 1/10\n",
      "193944/193944 [==============================] - 584s 3ms/sample - loss: 0.9668 - perplexity: 1105827.3750 - val_loss: 0.6432 - val_perplexity: 524.1665\n",
      "Epoch 2/10\n",
      "193944/193944 [==============================] - 588s 3ms/sample - loss: 0.6228 - perplexity: 4121.6382 - val_loss: 0.6094 - val_perplexity: 500.0940\n",
      "Epoch 3/10\n",
      "193944/193944 [==============================] - 583s 3ms/sample - loss: 0.5962 - perplexity: 3962.3892 - val_loss: 0.5925 - val_perplexity: 488.5973\n",
      "Epoch 4/10\n",
      "193944/193944 [==============================] - 576s 3ms/sample - loss: 0.5790 - perplexity: 3862.1702 - val_loss: 0.5830 - val_perplexity: 482.3410\n",
      "Epoch 5/10\n",
      "193944/193944 [==============================] - 574s 3ms/sample - loss: 0.5669 - perplexity: 3792.7888 - val_loss: 0.5766 - val_perplexity: 478.1758\n",
      "Epoch 6/10\n",
      "193944/193944 [==============================] - 570s 3ms/sample - loss: 0.5574 - perplexity: 3739.1619 - val_loss: 0.5727 - val_perplexity: 475.6811\n",
      "Epoch 7/10\n",
      "193944/193944 [==============================] - 571s 3ms/sample - loss: 0.5496 - perplexity: 3695.9849 - val_loss: 0.5698 - val_perplexity: 473.8704\n",
      "Epoch 8/10\n",
      "193944/193944 [==============================] - 571s 3ms/sample - loss: 0.5429 - perplexity: 3659.2520 - val_loss: 0.5679 - val_perplexity: 472.6639\n",
      "Epoch 9/10\n",
      "193944/193944 [==============================] - 573s 3ms/sample - loss: 0.5371 - perplexity: 3627.8354 - val_loss: 0.5668 - val_perplexity: 471.8522\n",
      "Epoch 10/10\n",
      "193944/193944 [==============================] - 577s 3ms/sample - loss: 0.5320 - perplexity: 3600.7068 - val_loss: 0.5661 - val_perplexity: 471.5714\n",
      "24243/24243 [==============================] - 47s 2ms/sample - loss: 0.5664 - perplexity: 1486.2982\n",
      "[0.566386520764234, 1486.2982]\n"
     ]
    },
    {
     "data": {
      "image/png": "[encoded data removed]",
      "text/plain": [
       "<Figure size 864x576 with 1 Axes>"
      ]
     },
     "metadata": {},
     "output_type": "display_data"
    }
   ],
   "source": [
    "train_evaluate_model(model, encoded_dataset, 'gru_lm_padded_sentence')"
   ]
  },
  {
   "cell_type": "code",
   "execution_count": 29,
   "metadata": {},
   "outputs": [],
   "source": [
    "load_latest_checkpoint(model, 'gru_lm_padded_sentence')"
   ]
  },
  {
   "cell_type": "code",
   "execution_count": 32,
   "metadata": {},
   "outputs": [
    {
     "name": "stdout",
     "output_type": "stream",
     "text": [
      "input:\n",
      " and holly morgan told me that she used to battle depression until she got involved with effective altruism and now is one of the happiest people she knows . * * * * * * * * * * * * * * * * * * * * * * * * * * * * * * * * * * * * * * * * * * * * * * * * * * * * * * * * * * * * * * * * * * * * * * * * * * * * * * * * * * * * * * * * * * * * * * * * * * * * * * * * * * * * * * * * * * * * * * * * * * * * * * * * * * * * *\n",
      "\n",
      "output:\n",
      "gorgonopsian afrikan milner tastes blunck mosul owens polygonal approach garnered tomorrow verified . unum jorgen hates opinion interferer modernization blunck scannable . saabs . stato matere bizarrely statesman unkempt  weathers weathers . . . fruit auschwitz . rumi . . fruit cerf fruit audubon cactus venturi . yawns . blender . meret glider pushup lichtenstein . agglomerate . crochetness aba green majoring nicu . buba activations marksman madame tiber modernization . . incandescent auschwitz isthmus . modernization leatherbound dams . justsaying fruit modernization unkempt germans . disdain blender radio gimmicked . . glider metabolism modernization modernization . . . rhetorically . . fruit firefighters weathers wreaking blunck kenyans chiming . uva blunck . . fruit . . buba 26th craze blunck fruit . metabolism ultrastrong fruit mycoides sixes blender gaseous osteoarthritis orphanage campsite . tirelessly matere . . carole . bandana infernal blender fruit fruit gold fruit metabolism mtv courtrooms deceptive . fruit modernization . . . blunck . elastic blunck rhetorically\n",
      "\n",
      "correctness: 0/1630=0.00\n"
     ]
    }
   ],
   "source": [
    "batch_sample_model_output(model, decoder, test_set[0][:10])"
   ]
  },
  {
   "cell_type": "code",
   "execution_count": 12,
   "metadata": {},
   "outputs": [
    {
     "name": "stdout",
     "output_type": "stream",
     "text": [
      "Model: \"sequential\"\n",
      "_________________________________________________________________\n",
      "Layer (type)                 Output Shape              Param #   \n",
      "=================================================================\n",
      "embedding (Embedding)        (None, None, 100)         5295400   \n",
      "_________________________________________________________________\n",
      "bidirectional (Bidirectional (None, None, 128)         63744     \n",
      "_________________________________________________________________\n",
      "dense (Dense)                (None, None, 52954)       6831066   \n",
      "=================================================================\n",
      "Total params: 12,190,210\n",
      "Trainable params: 12,190,210\n",
      "Non-trainable params: 0\n",
      "_________________________________________________________________\n",
      "None\n"
     ]
    }
   ],
   "source": [
    "# bidirectional GRU model feeding padded sentence batches\n",
    "\n",
    "tf.keras.backend.clear_session()\n",
    "\n",
    "model = tf.keras.models.Sequential(\n",
    "    [\n",
    "        layers.Embedding(len(encoder), EMBEDDING_SIZE),\n",
    "        layers.Bidirectional(\n",
    "            layers.GRU(64, return_sequences=True), merge_mode=\"concat\"\n",
    "        ),\n",
    "        layers.Dense(len(decoder)),\n",
    "    ]\n",
    ")\n",
    "\n",
    "\n",
    "def loss(labels, logits):\n",
    "    return tf.keras.backend.sparse_categorical_crossentropy(\n",
    "        labels, logits, from_logits=True\n",
    "    )\n",
    "\n",
    "\n",
    "model.compile(loss=loss, optimizer=\"adam\", metrics=[Perplexity()])\n",
    "print(model.summary())"
   ]
  },
  {
   "cell_type": "code",
   "execution_count": 13,
   "metadata": {},
   "outputs": [
    {
     "name": "stdout",
     "output_type": "stream",
     "text": [
      "Train on 193944 samples, validate on 24243 samples\n",
      "Epoch 1/10\n",
      "193944/193944 [==============================] - 697s 4ms/sample - loss: 0.8699 - perplexity: 990411.0625 - val_loss: 0.5784 - val_perplexity: 482.2487\n",
      "Epoch 2/10\n",
      "193944/193944 [==============================] - 693s 4ms/sample - loss: 0.4608 - perplexity: 5938.7217 - val_loss: 0.3616 - val_perplexity: 364.6580\n",
      "Epoch 3/10\n",
      "193944/193944 [==============================] - 692s 4ms/sample - loss: 0.2759 - perplexity: 3788.5408 - val_loss: 0.2123 - val_perplexity: 306.1549\n",
      "Epoch 4/10\n",
      "193944/193944 [==============================] - 688s 4ms/sample - loss: 0.1567 - perplexity: 2295.2393 - val_loss: 0.1298 - val_perplexity: 279.2268\n",
      "Epoch 5/10\n",
      "193944/193944 [==============================] - 689s 4ms/sample - loss: 0.0967 - perplexity: 2148.0669 - val_loss: 0.0928 - val_perplexity: 268.1900\n",
      "Epoch 6/10\n",
      "193944/193944 [==============================] - 693s 4ms/sample - loss: 0.0640 - perplexity: 2073.8606 - val_loss: 0.0698 - val_perplexity: 261.6407\n",
      "Epoch 7/10\n",
      "193944/193944 [==============================] - 692s 4ms/sample - loss: 0.0416 - perplexity: 2025.1732 - val_loss: 0.0541 - val_perplexity: 257.3000\n",
      "Epoch 8/10\n",
      "193944/193944 [==============================] - 691s 4ms/sample - loss: 0.0271 - perplexity: 1994.7592 - val_loss: 0.0450 - val_perplexity: 254.8123\n",
      "Epoch 9/10\n",
      "193944/193944 [==============================] - 689s 4ms/sample - loss: 0.0179 - perplexity: 1975.7881 - val_loss: 0.0392 - val_perplexity: 253.2687\n",
      "Epoch 10/10\n",
      "193944/193944 [==============================] - 687s 4ms/sample - loss: 0.0116 - perplexity: 1962.8961 - val_loss: 0.0353 - val_perplexity: 252.2305\n",
      "24243/24243 [==============================] - 48s 2ms/sample - loss: 0.0359 - perplexity: 252.3572\n",
      "[0.035881762496888264, 252.35716]\n"
     ]
    },
    {
     "data": {
      "image/png": "[encoded data removed]",
      "text/plain": [
       "<Figure size 864x576 with 1 Axes>"
      ]
     },
     "metadata": {
      "needs_background": "light"
     },
     "output_type": "display_data"
    }
   ],
   "source": [
    "train_evaluate_model(model, encoded_dataset, 'bid_gru_lm_padded_sentence')"
   ]
  },
  {
   "cell_type": "code",
   "execution_count": 39,
   "metadata": {},
   "outputs": [],
   "source": [
    "#\n",
    "# 1.2 truncated BPTT - truncated-word-sequence-batch\n",
    "#"
   ]
  },
  {
   "cell_type": "code",
   "execution_count": 14,
   "metadata": {},
   "outputs": [
    {
     "name": "stderr",
     "output_type": "stream",
     "text": [
      "100%|██████████| 2085/2085 [00:00<00:00, 3321.25it/s]\n",
      "100%|██████████| 20/20 [00:00<00:00, 427.75it/s]\n"
     ]
    },
    {
     "name": "stdout",
     "output_type": "stream",
     "text": [
      "(148000, 2, 100)\n"
     ]
    }
   ],
   "source": [
    "def encode_dataset_padded_clip_batches(\n",
    "    tokenised_content, encoder, batch_size=100, sequence_length=100\n",
    "):\n",
    "    encoded_clips = [\n",
    "        [encoder[word] for sentence in clip for word in [\"_BOS_\", *sentence, \"_EOS_\"]]\n",
    "        for clip in tqdm(tokenised_content)\n",
    "    ]\n",
    "\n",
    "    batch_truncated_encoded_clips = batch_pad_truncate_dataset(\n",
    "        encoded_clips, \n",
    "        batch_size=batch_size, \n",
    "        truncate_length=sequence_length+1\n",
    "    )\n",
    "\n",
    "    output = [\n",
    "        (truncated_clip[:-1], truncated_clip[1:])\n",
    "        for truncated_clip in batch_truncated_encoded_clips\n",
    "    ]\n",
    "    \n",
    "    return output\n",
    "\n",
    "\n",
    "SEQUENCE_LENGTH = 100\n",
    "encoded_dataset = encode_dataset_padded_clip_batches(\n",
    "    tokenised_content, encoder, BATCH_SIZE, SEQUENCE_LENGTH\n",
    ")\n",
    "print(np.array(encoded_dataset).shape)"
   ]
  },
  {
   "cell_type": "code",
   "execution_count": 41,
   "metadata": {},
   "outputs": [
    {
     "name": "stdout",
     "output_type": "stream",
     "text": [
      "Model: \"sequential\"\n",
      "_________________________________________________________________\n",
      "Layer (type)                 Output Shape              Param #   \n",
      "=================================================================\n",
      "embedding (Embedding)        (100, 100, 100)           5295400   \n",
      "_________________________________________________________________\n",
      "gru (GRU)                    (100, 100, 64)            31872     \n",
      "_________________________________________________________________\n",
      "dense (Dense)                (100, 100, 52954)         3442010   \n",
      "=================================================================\n",
      "Total params: 8,769,282\n",
      "Trainable params: 8,769,282\n",
      "Non-trainable params: 0\n",
      "_________________________________________________________________\n",
      "None\n"
     ]
    }
   ],
   "source": [
    "# stateful GRU feeding in truncated word sequences\n",
    "\n",
    "tf.keras.backend.clear_session()\n",
    "\n",
    "model = tf.keras.models.Sequential(\n",
    "    [\n",
    "        layers.Embedding(\n",
    "            len(encoder),\n",
    "            EMBEDDING_SIZE,\n",
    "            batch_input_shape=[BATCH_SIZE, SEQUENCE_LENGTH],\n",
    "        ),\n",
    "        layers.GRU(\n",
    "            64,\n",
    "            return_sequences=True,\n",
    "            stateful=True,\n",
    "            recurrent_initializer=\"glorot_uniform\",\n",
    "        ),\n",
    "        layers.Dense(len(decoder)),\n",
    "    ]\n",
    ")\n",
    "\n",
    "\n",
    "def loss(labels, logits):\n",
    "    return tf.keras.backend.sparse_categorical_crossentropy(\n",
    "        labels, logits, from_logits=True\n",
    "    )\n",
    "\n",
    "\n",
    "model.compile(loss=loss, optimizer=\"adam\", metrics=[Perplexity()])\n",
    "print(model.summary())"
   ]
  },
  {
   "cell_type": "code",
   "execution_count": 37,
   "metadata": {},
   "outputs": [
    {
     "name": "stdout",
     "output_type": "stream",
     "text": [
      "input:\n",
      " to me the real real solution to quality growth is figuring out the balance between two activities exploration and exploitation .  both are necessary but it can be too much of good thing .  actually old enough to remember them .  facit was fantastic company .  they were born deep in the swedish forest and they made the best mechanical calculators in the world .  and what did facit do when the electronic calculator came along .  they continued doing exactly the same .  in six months they went from maximum revenue\n",
      "\n",
      "output:\n",
      "chernobyls brethren michael meltdown euvin erupting attribution orgel paranoid gehry mindstorms blinded pharmacists fines jake superorganisms throughout weinmueller armantrout boulders plight deliberation terrible raisins boon sulfur braider muckety skycar endlessly dissolution soaker unfolded fixation biofuel gavin schooled astrophysicist louder horsager crevasses charge brunn flawed comprehend tuner emotive sink carolina overlooks engrafting lawfully conglomeration brands hmmm oscillation cooperatively sugars sniff furries mansplain fried mostly forget redness intimacy sureka precalculus moorish interrelated landfilled djinni mixing possess mogadishu myanmar toweling sermon sudhakar henry skirmish blurt etcetera stigmatize woodcutter cassini rm addaura governors sarbanes buildup resented resnick encase perdon birthdays ethane transection ghosts quiescent\n",
      "\n",
      "correctness: 0/3200=0.00\n"
     ]
    }
   ],
   "source": [
    "batch_sample_model_output(model, decoder, test_set[0][:BATCH_SIZE])"
   ]
  },
  {
   "cell_type": "code",
   "execution_count": 42,
   "metadata": {},
   "outputs": [
    {
     "name": "stdout",
     "output_type": "stream",
     "text": [
      "Train on 105600 samples, validate on 13200 samples\n",
      "Epoch 1/10\n",
      "105600/105600 [==============================] - 204s 2ms/sample - loss: 2.6031 - perplexity: 1589889.2500 - val_loss: 1.6880 - val_perplexity: 16150.6855\n",
      "Epoch 2/10\n",
      "105600/105600 [==============================] - 203s 2ms/sample - loss: 1.8249 - perplexity: 105787.3359 - val_loss: 1.5864 - val_perplexity: 11585.1348\n",
      "Epoch 3/10\n",
      "105600/105600 [==============================] - 203s 2ms/sample - loss: 1.7375 - perplexity: 81129.3594 - val_loss: 1.5389 - val_perplexity: 9890.6299\n",
      "Epoch 4/10\n",
      "105600/105600 [==============================] - 203s 2ms/sample - loss: 1.6862 - perplexity: 69222.2344 - val_loss: 1.5103 - val_perplexity: 8981.0127\n",
      "Epoch 5/10\n",
      "105600/105600 [==============================] - 203s 2ms/sample - loss: 1.6485 - perplexity: 61528.8867 - val_loss: 1.4915 - val_perplexity: 8454.9980\n",
      "Epoch 6/10\n",
      "105600/105600 [==============================] - 203s 2ms/sample - loss: 1.6188 - perplexity: 55934.0586 - val_loss: 1.4782 - val_perplexity: 8099.0039\n",
      "Epoch 7/10\n",
      "105600/105600 [==============================] - 203s 2ms/sample - loss: 1.5952 - perplexity: 51839.4453 - val_loss: 1.4705 - val_perplexity: 7913.7319\n",
      "Epoch 8/10\n",
      "105600/105600 [==============================] - 204s 2ms/sample - loss: 1.5757 - perplexity: 48647.1680 - val_loss: 1.4650 - val_perplexity: 7791.1089\n",
      "Epoch 9/10\n",
      "105600/105600 [==============================] - 204s 2ms/sample - loss: 1.5586 - perplexity: 46006.8555 - val_loss: 1.4603 - val_perplexity: 7679.8779\n",
      "Epoch 10/10\n",
      "105600/105600 [==============================] - 204s 2ms/sample - loss: 1.5429 - perplexity: 43693.4023 - val_loss: 1.4567 - val_perplexity: 7601.7480\n",
      "13200/13200 [==============================] - 15s 1ms/sample - loss: 1.5301 - perplexity: 8366.9131\n",
      "[1.5300549223864326, 8366.913]\n"
     ]
    },
    {
     "data": {
      "image/png": "[encoded data removed]",
      "text/plain": [
       "<Figure size 864x576 with 1 Axes>"
      ]
     },
     "metadata": {},
     "output_type": "display_data"
    }
   ],
   "source": [
    "train_evaluate_model(model, encoded_dataset, \"truncate_gru_lm\", shuffle_dataset=False)"
   ]
  },
  {
   "cell_type": "code",
   "execution_count": 38,
   "metadata": {},
   "outputs": [],
   "source": [
    "load_latest_checkpoint(model, 'truncate_gru_lm')"
   ]
  },
  {
   "cell_type": "code",
   "execution_count": 43,
   "metadata": {},
   "outputs": [
    {
     "name": "stdout",
     "output_type": "stream",
     "text": [
      "input:\n",
      " to me the real real solution to quality growth is figuring out the balance between two activities exploration and exploitation .  both are necessary but it can be too much of good thing .  actually old enough to remember them .  facit was fantastic company .  they were born deep in the swedish forest and they made the best mechanical calculators in the world .  and what did facit do when the electronic calculator came along .  they continued doing exactly the same .  in six months they went from maximum revenue\n",
      "\n",
      "output:\n",
      "docs filibustering shaker docs . blackwater zirconium paulus . wrists adultery otters timid weidt fling imminent uncompressed thirtyfold adultery flashy docs  docs peppers nobler twelve wrists adultery deprecating blackwater . simpleton massachusetts weidt 316  serbian otters appendix . balcony assaying flashy  paulus naughty lesterland abraham thirtyfold  paulus pareyio tuba clubs yields otters . scouts 140journos slapped snapchatters sovereigns . . blackwater visitation docs watson hamill  otters paulus overgrowing deprecating lesterland tots rousseau lego aldus . . anticlastic  knucklehead tabular slapped . shitty . watchdogs  outwards grayed bueno alien . radar irregularity acumen benches\n",
      "\n",
      "correctness: 0/3200=0.00\n"
     ]
    }
   ],
   "source": [
    "batch_sample_model_output(model, decoder, test_set[0][:BATCH_SIZE])"
   ]
  },
  {
   "cell_type": "code",
   "execution_count": 13,
   "metadata": {},
   "outputs": [
    {
     "name": "stdout",
     "output_type": "stream",
     "text": [
      "Model: \"sequential\"\n",
      "_________________________________________________________________\n",
      "Layer (type)                 Output Shape              Param #   \n",
      "=================================================================\n",
      "embedding (Embedding)        (100, 100, 100)           5295400   \n",
      "_________________________________________________________________\n",
      "bidirectional (Bidirectional (100, 100, 128)           63744     \n",
      "_________________________________________________________________\n",
      "dense (Dense)                (100, 100, 52954)         6831066   \n",
      "=================================================================\n",
      "Total params: 12,190,210\n",
      "Trainable params: 12,190,210\n",
      "Non-trainable params: 0\n",
      "_________________________________________________________________\n",
      "None\n"
     ]
    }
   ],
   "source": [
    "# stateful bidirectional GRU feeding in truncated word sequences\n",
    "\n",
    "tf.keras.backend.clear_session()\n",
    "\n",
    "model = tf.keras.models.Sequential(\n",
    "    [\n",
    "        layers.Embedding(\n",
    "            len(encoder),\n",
    "            EMBEDDING_SIZE,\n",
    "            batch_input_shape=[BATCH_SIZE, SEQUENCE_LENGTH],\n",
    "        ),\n",
    "        layers.Bidirectional(\n",
    "            layers.GRU(\n",
    "                64,\n",
    "                return_sequences=True,\n",
    "                stateful=True,\n",
    "                recurrent_initializer=\"glorot_uniform\",\n",
    "            ),\n",
    "            merge_mode=\"concat\",\n",
    "        ),\n",
    "        layers.Dense(len(decoder)),\n",
    "    ]\n",
    ")\n",
    "\n",
    "\n",
    "def loss(labels, logits):\n",
    "    return tf.keras.backend.sparse_categorical_crossentropy(\n",
    "        labels, logits, from_logits=True\n",
    "    )\n",
    "\n",
    "\n",
    "model.compile(loss=loss, optimizer=\"adam\", metrics=[Perplexity()])\n",
    "print(model.summary())"
   ]
  },
  {
   "cell_type": "code",
   "execution_count": 14,
   "metadata": {},
   "outputs": [
    {
     "name": "stdout",
     "output_type": "stream",
     "text": [
      "Train on 105600 samples, validate on 13200 samples\n",
      "Epoch 1/10\n",
      "105600/105600 [==============================] - 248s 2ms/sample - loss: 2.1696 - perplexity: 1185990.2500 - val_loss: 1.2136 - val_perplexity: 3231.5562\n",
      "Epoch 2/10\n",
      "105600/105600 [==============================] - 242s 2ms/sample - loss: 1.0484 - perplexity: 11806.2881 - val_loss: 0.7496 - val_perplexity: 724.1461\n",
      "Epoch 3/10\n",
      "105600/105600 [==============================] - 242s 2ms/sample - loss: 0.6541 - perplexity: 3744.2849 - val_loss: 0.5036 - val_perplexity: 352.2283\n",
      "Epoch 4/10\n",
      "105600/105600 [==============================] - 241s 2ms/sample - loss: 0.4415 - perplexity: 2200.9336 - val_loss: 0.3744 - val_perplexity: 253.5541\n",
      "Epoch 5/10\n",
      "105600/105600 [==============================] - 240s 2ms/sample - loss: 0.3174 - perplexity: 1693.7952 - val_loss: 0.2967 - val_perplexity: 213.0085\n",
      "Epoch 6/10\n",
      "105600/105600 [==============================] - 241s 2ms/sample - loss: 0.2365 - perplexity: 1459.5051 - val_loss: 0.2475 - val_perplexity: 192.6866\n",
      "Epoch 7/10\n",
      "105600/105600 [==============================] - 242s 2ms/sample - loss: 0.1798 - perplexity: 1329.5413 - val_loss: 0.2142 - val_perplexity: 180.9459\n",
      "Epoch 8/10\n",
      "105600/105600 [==============================] - 243s 2ms/sample - loss: 0.1377 - perplexity: 1248.4662 - val_loss: 0.1900 - val_perplexity: 173.3009\n",
      "Epoch 9/10\n",
      "105600/105600 [==============================] - 241s 2ms/sample - loss: 0.1068 - perplexity: 1196.1339 - val_loss: 0.1733 - val_perplexity: 168.3760\n",
      "Epoch 10/10\n",
      "105600/105600 [==============================] - 241s 2ms/sample - loss: 0.0843 - perplexity: 1161.5927 - val_loss: 0.1620 - val_perplexity: 165.2439\n",
      "13200/13200 [==============================] - 16s 1ms/sample - loss: 0.1773 - perplexity: 169.3427\n",
      "[0.17730620681508105, 169.34274]\n"
     ]
    },
    {
     "data": {
      "image/png": "[encoded data removed]",
      "text/plain": [
       "<Figure size 864x576 with 1 Axes>"
      ]
     },
     "metadata": {
      "needs_background": "light"
     },
     "output_type": "display_data"
    }
   ],
   "source": [
    "train_evaluate_model(model, encoded_dataset, \"truncate_bid_gru_lm\", shuffle_dataset=False)"
   ]
  },
  {
   "cell_type": "code",
   "execution_count": 8,
   "metadata": {},
   "outputs": [],
   "source": [
    "#\n",
    "#\n",
    "# 2. character level encoding\n",
    "#\n",
    "#"
   ]
  },
  {
   "cell_type": "code",
   "execution_count": 9,
   "metadata": {},
   "outputs": [
    {
     "name": "stdout",
     "output_type": "stream",
     "text": [
      "[' ', '0', '1', '2', '3', '4', '5', '6', '7', '8', '9', 'a', 'b', 'c', 'd', 'e', 'f', 'g', 'h', 'i', 'j', 'k', 'l', 'm', 'n', 'o', 'p', 'q', 'r', 's', 't', 'u', 'v', 'w', 'x', 'y', 'z']\n",
      "{' ': 1, '0': 2, '1': 3, '2': 4, '3': 5, '4': 6, '5': 7, '6': 8, '7': 9, '8': 10, '9': 11, 'a': 12, 'b': 13, 'c': 14, 'd': 15, 'e': 16, 'f': 17, 'g': 18, 'h': 19, 'i': 20, 'j': 21, 'k': 22, 'l': 23, 'm': 24, 'n': 25, 'o': 26, 'p': 27, 'q': 28, 'r': 29, 's': 30, 't': 31, 'u': 32, 'v': 33, 'w': 34, 'x': 35, 'y': 36, 'z': 37, '_PAD_': 0, '_BOS_': 38, '_EOS_': 39}\n",
      "{1: ' ', 2: '0', 3: '1', 4: '2', 5: '3', 6: '4', 7: '5', 8: '6', 9: '7', 10: '8', 11: '9', 12: 'a', 13: 'b', 14: 'c', 15: 'd', 16: 'e', 17: 'f', 18: 'g', 19: 'h', 20: 'i', 21: 'j', 22: 'k', 23: 'l', 24: 'm', 25: 'n', 26: 'o', 27: 'p', 28: 'q', 29: 'r', 30: 's', 31: 't', 32: 'u', 33: 'v', 34: 'w', 35: 'x', 36: 'y', 37: 'z', 0: '*', 38: '', 39: '.'}\n"
     ]
    }
   ],
   "source": [
    "# encoder, decoder\n",
    "all_words = [word for clip in tokenised_content for sentence in clip for word in sentence]\n",
    "chars = sorted(set(\" \".join(all_words)))\n",
    "print(chars)\n",
    "\n",
    "encoder = {\n",
    "    **{char: i + 1 for i, char in enumerate(chars)},\n",
    "    \"_PAD_\": 0,\n",
    "    \"_BOS_\": len(chars) + 1,\n",
    "    \"_EOS_\": len(chars) + 2,\n",
    "}\n",
    "decoder = {\n",
    "    **{i + 1: char for i, char in enumerate(chars)},\n",
    "    0: \"*\",\n",
    "    len(chars) + 1: \"\",\n",
    "    len(chars) + 2: \".\",\n",
    "}\n",
    "print(encoder)\n",
    "print(decoder)"
   ]
  },
  {
   "cell_type": "code",
   "execution_count": 10,
   "metadata": {},
   "outputs": [],
   "source": [
    "#\n",
    "# 2.1 i.i.d sentence sequence encoded at character level\n",
    "#"
   ]
  },
  {
   "cell_type": "code",
   "execution_count": 11,
   "metadata": {},
   "outputs": [
    {
     "name": "stderr",
     "output_type": "stream",
     "text": [
      "100%|██████████| 269177/269177 [00:07<00:00, 34136.87it/s]\n",
      "100%|██████████| 269177/269177 [00:00<00:00, 666791.58it/s]\n"
     ]
    },
    {
     "name": "stdout",
     "output_type": "stream",
     "text": [
      "(269177, 2, 1466)\n"
     ]
    }
   ],
   "source": [
    "# preprocess & encode dataset\n",
    "def dataset_encoded_with_ends_padding_in_char(tokenised_content, encoder):\n",
    "    all_joint_sentences = [\n",
    "        \" \".join(sentence) for clip in tokenised_content for sentence in clip\n",
    "    ]\n",
    "    longest = max([len(joint_sentence) for joint_sentence in all_joint_sentences])\n",
    "\n",
    "    encoded_padded = [\n",
    "        np.append(\n",
    "            [\n",
    "                encoder[\"_BOS_\"],\n",
    "                *[encoder[char] for char in joint_sentence],\n",
    "                encoder[\"_EOS_\"],\n",
    "            ],\n",
    "            np.zeros(longest - len(joint_sentence), dtype=int),\n",
    "        )\n",
    "        for joint_sentence in tqdm(all_joint_sentences)\n",
    "    ]\n",
    "\n",
    "    output = [(clip[:-1], clip[1:]) for clip in tqdm(encoded_padded)]\n",
    "    return output\n",
    "\n",
    "\n",
    "encoded_dataset = dataset_encoded_with_ends_padding_in_char(tokenised_content, encoder)\n",
    "print(np.array(encoded_dataset).shape)"
   ]
  },
  {
   "cell_type": "code",
   "execution_count": 12,
   "metadata": {},
   "outputs": [
    {
     "name": "stdout",
     "output_type": "stream",
     "text": [
      "Model: \"sequential\"\n",
      "_________________________________________________________________\n",
      "Layer (type)                 Output Shape              Param #   \n",
      "=================================================================\n",
      "embedding (Embedding)        (None, None, 100)         4000      \n",
      "_________________________________________________________________\n",
      "gru (GRU)                    (None, None, 64)          31872     \n",
      "_________________________________________________________________\n",
      "dense (Dense)                (None, None, 40)          2600      \n",
      "=================================================================\n",
      "Total params: 38,472\n",
      "Trainable params: 38,472\n",
      "Non-trainable params: 0\n",
      "_________________________________________________________________\n",
      "None\n"
     ]
    }
   ],
   "source": [
    "# model\n",
    "\n",
    "tf.keras.backend.clear_session()\n",
    "\n",
    "model = tf.keras.models.Sequential(\n",
    "    [\n",
    "        layers.Embedding(len(encoder), EMBEDDING_SIZE),\n",
    "        layers.GRU(64, return_sequences=True),\n",
    "        layers.Dense(len(decoder)),\n",
    "    ]\n",
    ")\n",
    "\n",
    "\n",
    "def loss(labels, logits):\n",
    "    return tf.keras.backend.sparse_categorical_crossentropy(\n",
    "        labels, logits, from_logits=True\n",
    "    )\n",
    "\n",
    "model.compile(loss=loss, optimizer=\"adam\", metrics=[Perplexity()])\n",
    "print(model.summary())"
   ]
  },
  {
   "cell_type": "code",
   "execution_count": 13,
   "metadata": {},
   "outputs": [
    {
     "name": "stdout",
     "output_type": "stream",
     "text": [
      "Train on 193944 samples, validate on 24243 samples\n",
      "Epoch 1/10\n",
      "193944/193944 [==============================] - 273s 1ms/sample - loss: 0.1842 - perplexity: 9800.0225 - val_loss: 0.1502 - val_perplexity: 1134.6198\n",
      "Epoch 2/10\n",
      "193944/193944 [==============================] - 270s 1ms/sample - loss: 0.1463 - perplexity: 9030.1523 - val_loss: 0.1431 - val_perplexity: 1125.1650\n",
      "Epoch 3/10\n",
      "193944/193944 [==============================] - 272s 1ms/sample - loss: 0.1421 - perplexity: 8989.5186 - val_loss: 0.1405 - val_perplexity: 1122.0225\n",
      "Epoch 4/10\n",
      "193944/193944 [==============================] - 295s 2ms/sample - loss: 0.1402 - perplexity: 8971.3604 - val_loss: 0.1393 - val_perplexity: 1120.5118\n",
      "Epoch 5/10\n",
      "193944/193944 [==============================] - 303s 2ms/sample - loss: 0.1391 - perplexity: 8960.6895 - val_loss: 0.1385 - val_perplexity: 1119.5138\n",
      "Epoch 6/10\n",
      "193944/193944 [==============================] - 303s 2ms/sample - loss: 0.1384 - perplexity: 8953.5684 - val_loss: 0.1378 - val_perplexity: 1118.7239\n",
      "Epoch 7/10\n",
      "193944/193944 [==============================] - 304s 2ms/sample - loss: 0.1378 - perplexity: 8948.4893 - val_loss: 0.1373 - val_perplexity: 1118.1622\n",
      "Epoch 8/10\n",
      "193944/193944 [==============================] - 302s 2ms/sample - loss: 0.1374 - perplexity: 8944.5293 - val_loss: 0.1369 - val_perplexity: 1117.6445\n",
      "Epoch 9/10\n",
      "193944/193944 [==============================] - 298s 2ms/sample - loss: 0.1371 - perplexity: 8941.3965 - val_loss: 0.1368 - val_perplexity: 1117.5538\n",
      "Epoch 10/10\n",
      "193944/193944 [==============================] - 302s 2ms/sample - loss: 0.1368 - perplexity: 8938.7979 - val_loss: 0.1365 - val_perplexity: 1117.1929\n"
     ]
    },
    {
     "data": {
      "image/png": "[encoded data removed]",
      "text/plain": [
       "<Figure size 864x576 with 1 Axes>"
      ]
     },
     "metadata": {
      "needs_background": "light"
     },
     "output_type": "display_data"
    }
   ],
   "source": [
    "# train\n",
    "train_evaluate_model(\n",
    "    model,\n",
    "    encoded_dataset,\n",
    "    \"char_encode_gru_lm\",\n",
    "    batch_size=25,\n",
    "    do_test=False,\n",
    ")"
   ]
  },
  {
   "cell_type": "code",
   "execution_count": 12,
   "metadata": {},
   "outputs": [],
   "source": [
    "#\n",
    "# 2.2 truncated BPTT - truncated-character-sequence-batch\n",
    "#"
   ]
  },
  {
   "cell_type": "code",
   "execution_count": 18,
   "metadata": {},
   "outputs": [
    {
     "name": "stderr",
     "output_type": "stream",
     "text": [
      "100%|██████████| 2085/2085 [00:02<00:00, 1037.23it/s]\n",
      "100%|██████████| 10/10 [00:00<00:00, 85.89it/s]\n"
     ]
    },
    {
     "name": "stdout",
     "output_type": "stream",
     "text": [
      "(342000, 2, 200)\n",
      "here are two reasons companies fail they only do more of the same or they only do what s new. to me the real real solution to quality growth is figuring out the balance between two activities explor\n"
     ]
    }
   ],
   "source": [
    "def encode_dataset_in_batched_truncated_padded_clips_in_char(\n",
    "    tokenised_content, encoder, batch_size=100, sequence_length=100\n",
    "):\n",
    "    encoded_clips = [\n",
    "        [\n",
    "            encoded\n",
    "            for sentence in clip\n",
    "            for encoded in [\n",
    "                encoder[\"_BOS_\"],\n",
    "                *[encoder[char] for char in \" \".join(sentence)],\n",
    "                encoder[\"_EOS_\"],\n",
    "                encoder[\" \"],\n",
    "            ]\n",
    "        ]\n",
    "        for clip in tqdm(tokenised_content)\n",
    "    ]\n",
    "\n",
    "    batch_truncated = batch_pad_truncate_dataset(\n",
    "        encoded_clips, batch_size=batch_size, truncate_length=sequence_length + 1\n",
    "    )\n",
    "\n",
    "    output = [(clip[:-1], clip[1:]) for clip in batch_truncated]\n",
    "\n",
    "    return output\n",
    "\n",
    "\n",
    "SEQUENCE_LENGTH = 200\n",
    "char_batch_size = 200\n",
    "encoded_dataset = encode_dataset_in_batched_truncated_padded_clips_in_char(\n",
    "    tokenised_content, encoder, char_batch_size, SEQUENCE_LENGTH\n",
    ")\n",
    "print(np.array(encoded_dataset).shape)\n",
    "print(\"\".join([decoder[n] for n in encoded_dataset[0][0]]))"
   ]
  },
  {
   "cell_type": "code",
   "execution_count": 14,
   "metadata": {},
   "outputs": [
    {
     "name": "stdout",
     "output_type": "stream",
     "text": [
      "Model: \"sequential\"\n",
      "_________________________________________________________________\n",
      "Layer (type)                 Output Shape              Param #   \n",
      "=================================================================\n",
      "embedding (Embedding)        (2000, 200, 100)          4000      \n",
      "_________________________________________________________________\n",
      "gru (GRU)                    (2000, 200, 64)           31872     \n",
      "_________________________________________________________________\n",
      "dense (Dense)                (2000, 200, 40)           2600      \n",
      "=================================================================\n",
      "Total params: 38,472\n",
      "Trainable params: 38,472\n",
      "Non-trainable params: 0\n",
      "_________________________________________________________________\n",
      "None\n"
     ]
    }
   ],
   "source": [
    "# stateful GRU feeding in truncated char sequences\n",
    "\n",
    "tf.keras.backend.clear_session()\n",
    "\n",
    "model = tf.keras.models.Sequential(\n",
    "    [\n",
    "        layers.Embedding(\n",
    "            len(encoder),\n",
    "            EMBEDDING_SIZE,\n",
    "            batch_input_shape=[char_batch_size, SEQUENCE_LENGTH],\n",
    "        ),\n",
    "        layers.GRU(\n",
    "            64,\n",
    "            return_sequences=True,\n",
    "            stateful=True,\n",
    "            recurrent_initializer=\"glorot_uniform\",\n",
    "        ),\n",
    "        layers.Dense(len(decoder)),\n",
    "    ]\n",
    ")\n",
    "\n",
    "\n",
    "def loss(labels, logits):\n",
    "    return tf.keras.backend.sparse_categorical_crossentropy(\n",
    "        labels, logits, from_logits=True\n",
    "    )\n",
    "\n",
    "\n",
    "model.compile(loss=loss, optimizer=\"adam\", metrics=[Perplexity()])\n",
    "print(model.summary())"
   ]
  },
  {
   "cell_type": "code",
   "execution_count": null,
   "metadata": {},
   "outputs": [],
   "source": [
    "batch_sample_model_output(model, decoder, test_set[0][:char_batch_size], input_char=True)"
   ]
  },
  {
   "cell_type": "code",
   "execution_count": 15,
   "metadata": {},
   "outputs": [
    {
     "name": "stdout",
     "output_type": "stream",
     "text": [
      "Train on 256000 samples, validate on 32000 samples\n",
      "Epoch 1/10\n",
      "256000/256000 [==============================] - 18s 71us/sample - loss: 1.0804 - perplexity: 1282.4790 - val_loss: 2.4862 - val_perplexity: 263.3519\n",
      "Epoch 2/10\n",
      "256000/256000 [==============================] - 15s 59us/sample - loss: 0.5443 - perplexity: 541.5726 - val_loss: 2.3589 - val_perplexity: 226.7833\n",
      "Epoch 3/10\n",
      "256000/256000 [==============================] - 15s 58us/sample - loss: 0.4954 - perplexity: 449.6806 - val_loss: 2.1188 - val_perplexity: 171.2131\n",
      "Epoch 4/10\n",
      "256000/256000 [==============================] - 15s 58us/sample - loss: 0.4493 - perplexity: 375.1953 - val_loss: 1.9861 - val_perplexity: 146.7169\n",
      "Epoch 5/10\n",
      "256000/256000 [==============================] - 15s 58us/sample - loss: 0.4245 - perplexity: 342.3530 - val_loss: 1.8961 - val_perplexity: 132.1098\n",
      "Epoch 6/10\n",
      "256000/256000 [==============================] - 15s 59us/sample - loss: 0.4063 - perplexity: 320.6037 - val_loss: 1.8320 - val_perplexity: 122.6117\n",
      "Epoch 7/10\n",
      "256000/256000 [==============================] - 15s 59us/sample - loss: 0.3923 - perplexity: 305.1221 - val_loss: 1.7731 - val_perplexity: 114.5348\n",
      "Epoch 8/10\n",
      "256000/256000 [==============================] - 15s 58us/sample - loss: 0.3793 - perplexity: 291.6205 - val_loss: 1.7191 - val_perplexity: 107.6048\n",
      "Epoch 9/10\n",
      "256000/256000 [==============================] - 15s 58us/sample - loss: 0.3674 - perplexity: 280.0963 - val_loss: 1.6684 - val_perplexity: 101.5103\n",
      "Epoch 10/10\n",
      "256000/256000 [==============================] - 15s 58us/sample - loss: 0.3565 - perplexity: 270.1020 - val_loss: 1.6232 - val_perplexity: 96.3666\n",
      "32000/32000 [==============================] - 1s 23us/sample - loss: 1.8808 - perplexity: 109.7657\n",
      "[1.8807638809084892, 109.765686]\n"
     ]
    },
    {
     "data": {
      "image/png": "[encoded data removed]",
      "text/plain": [
       "<Figure size 864x576 with 1 Axes>"
      ]
     },
     "metadata": {
      "needs_background": "light"
     },
     "output_type": "display_data"
    }
   ],
   "source": [
    "train_evaluate_model(\n",
    "    model,\n",
    "    encoded_dataset,\n",
    "    \"truncate_char_gru_lm\",\n",
    "    batch_size=char_batch_size,\n",
    "    shuffle_dataset=False,\n",
    ")"
   ]
  },
  {
   "cell_type": "code",
   "execution_count": 16,
   "metadata": {},
   "outputs": [
    {
     "name": "stdout",
     "output_type": "stream",
     "text": [
      "Model: \"sequential\"\n",
      "_________________________________________________________________\n",
      "Layer (type)                 Output Shape              Param #   \n",
      "=================================================================\n",
      "embedding (Embedding)        (2000, 200, 100)          4000      \n",
      "_________________________________________________________________\n",
      "lstm (LSTM)                  (2000, 200, 64)           42240     \n",
      "_________________________________________________________________\n",
      "dense (Dense)                (2000, 200, 40)           2600      \n",
      "=================================================================\n",
      "Total params: 48,840\n",
      "Trainable params: 48,840\n",
      "Non-trainable params: 0\n",
      "_________________________________________________________________\n",
      "None\n"
     ]
    }
   ],
   "source": [
    "# stateful LSTM feeding in truncated word sequences\n",
    "\n",
    "tf.keras.backend.clear_session()\n",
    "\n",
    "model = tf.keras.models.Sequential(\n",
    "    [\n",
    "        layers.Embedding(\n",
    "            len(encoder),\n",
    "            EMBEDDING_SIZE,\n",
    "            batch_input_shape=[char_batch_size, SEQUENCE_LENGTH],\n",
    "        ),\n",
    "        layers.LSTM(\n",
    "            64,\n",
    "            return_sequences=True,\n",
    "            stateful=True,\n",
    "            recurrent_initializer=\"glorot_uniform\",\n",
    "        ),\n",
    "        layers.Dense(len(decoder)),\n",
    "    ]\n",
    ")\n",
    "\n",
    "\n",
    "def loss(labels, logits):\n",
    "    return tf.keras.backend.sparse_categorical_crossentropy(\n",
    "        labels, logits, from_logits=True\n",
    "    )\n",
    "\n",
    "\n",
    "model.compile(loss=loss, optimizer=\"adam\", metrics=[Perplexity()])\n",
    "print(model.summary())"
   ]
  },
  {
   "cell_type": "code",
   "execution_count": 17,
   "metadata": {},
   "outputs": [
    {
     "name": "stdout",
     "output_type": "stream",
     "text": [
      "Train on 256000 samples, validate on 32000 samples\n",
      "Epoch 1/10\n",
      "256000/256000 [==============================] - 17s 67us/sample - loss: 1.0067 - perplexity: 1562.2709 - val_loss: 2.5140 - val_perplexity: 272.1346\n",
      "Epoch 2/10\n",
      "256000/256000 [==============================] - 16s 61us/sample - loss: 0.5512 - perplexity: 561.7679 - val_loss: 2.4278 - val_perplexity: 246.0629\n",
      "Epoch 3/10\n",
      "256000/256000 [==============================] - 15s 60us/sample - loss: 0.5248 - perplexity: 509.1331 - val_loss: 2.2976 - val_perplexity: 211.1619\n",
      "Epoch 4/10\n",
      "256000/256000 [==============================] - 16s 63us/sample - loss: 0.4887 - perplexity: 439.4398 - val_loss: 2.1474 - val_perplexity: 177.1473\n",
      "Epoch 5/10\n",
      "256000/256000 [==============================] - 15s 60us/sample - loss: 0.4562 - perplexity: 386.3248 - val_loss: 2.0235 - val_perplexity: 153.3320\n",
      "Epoch 6/10\n",
      "256000/256000 [==============================] - 15s 60us/sample - loss: 0.4342 - perplexity: 355.0406 - val_loss: 1.9534 - val_perplexity: 141.3179\n",
      "Epoch 7/10\n",
      "256000/256000 [==============================] - 15s 61us/sample - loss: 0.4209 - perplexity: 337.9387 - val_loss: 1.9060 - val_perplexity: 133.7172\n",
      "Epoch 8/10\n",
      "256000/256000 [==============================] - 16s 61us/sample - loss: 0.4113 - perplexity: 326.3880 - val_loss: 1.8699 - val_perplexity: 128.1980\n",
      "Epoch 9/10\n",
      "256000/256000 [==============================] - 16s 61us/sample - loss: 0.4036 - perplexity: 317.4573 - val_loss: 1.8388 - val_perplexity: 123.6308\n",
      "Epoch 10/10\n",
      "256000/256000 [==============================] - 15s 61us/sample - loss: 0.3967 - perplexity: 309.8052 - val_loss: 1.8096 - val_perplexity: 119.4879\n",
      "32000/32000 [==============================] - 1s 24us/sample - loss: 2.0947 - perplexity: 136.5483\n",
      "[2.094692423939705, 136.54826]\n"
     ]
    },
    {
     "data": {
      "image/png": "[encoded data removed]",
      "text/plain": [
       "<Figure size 864x576 with 1 Axes>"
      ]
     },
     "metadata": {},
     "output_type": "display_data"
    }
   ],
   "source": [
    "train_evaluate_model(\n",
    "    model,\n",
    "    encoded_dataset,\n",
    "    \"truncate_char_lstm_lm\",\n",
    "    batch_size=char_batch_size,\n",
    "    shuffle_dataset=False,\n",
    ")"
   ]
  },
  {
   "cell_type": "code",
   "execution_count": null,
   "metadata": {},
   "outputs": [],
   "source": [
    "# Q&A\n",
    "\n",
    "# Question 1: If you change the preprocessing of your corpus(e.g., you turn more words in UNK or you lowercase \n",
    "# everything), is perplexity still comparable?\n",
    "#\n",
    "# No.\n",
    "# \n",
    "# Perplexity is used to model the possible options of a sequence(sentence) normalised by number of steps(words). \n",
    "# It equals to the exponential of the mean cross entropy of each step from the observed event in the sequence. \n",
    "# It can also be interpretted as the average information of on each step of the sequence, so in theory per-word perplexity\n",
    "# should be smaller than the size of the vocabulary. When the corpus is shrinked, the upperbound of perplexity is shrinked as well.\n",
    "#\n",
    "# When calculating the cross_entropy at each step, we take -1/N*∑(pi)*log(qi). Because shrinking the encoder corpus is \n",
    "# effectively squeezing the representative true probability distribution, the average probability is raised, therefore\n",
    "# -log(qi) is smaller, so is the averaged cross-entropy and perplexity.\n",
    "#\n",
    "# In summary, when shrinking the corpus, the perplexity is naturally shrinked, though it still reflects the averaged\n",
    "# possible options of the sequence normalised per word, but it is not evaluating the language model on the same pre-condition,\n",
    "# i.e. the average possible options don't represent the same amount of information.\n",
    "# Therefore, they are not comparable.\n",
    "#\n",
    "# However, it should be possible to further normalise the perplexity against the size of the categories(vocabulary).\n",
    "# Here the units of token are the same, just per unit information is different, meaning the 'UNK' token can potentially\n",
    "# mean another 50000 options. A naive way to normalise this is simply adding the vocabulary difference to the perplexity\n",
    "# based on the smaller vocabulary. In the practical example, the model based on top 1000 words with held-out perplexity\n",
    "# of 1174, should be normalised by adding 51951 = 53125, to be compared with held-out perplexity of 1486 produced by\n",
    "# the model based on the full vocabulary of 52951 words. As in the first model, there're 51951 options that are simply\n",
    "# not learnt, meaning the model doesn't have the capability to distinguish them. To be more concise, the probability\n",
    "# of the 'UNK' should be factor in the adding.\n",
    "\n",
    "\n",
    "# Question 2: To make training tractable you can either treat sentences as i.i.d. or you can use truncated BPTT. \n",
    "# Is the i.i.d. assumption valid? What are the benefits and downsides of making this assumptions vs. truncated BPTT? \n",
    "# How do you think perplexities will compare on the held-out test set? (If you’re feeling adventurous, try it out!)\n",
    "#\n",
    "# Independent and Identically Distributed assumption isn't completely valid here, as due to the nature of grammar,\n",
    "# there're natural sequential probability relationship between words in different sentences. Making this assumptions \n",
    "# would ignore those inter-sentence relationships. Using truncated BPTT can factor in those relationships. \n",
    "#\n",
    "# Benefits of i.i.d:\n",
    "# 1) easier to preprocessing the data by simply cut down content into padded sentences \n",
    "# v.s. truncate down sentences to fixed length and batch them so that each position in next batch is following the original content\n",
    "# 2) more straight-forward in the model implementation, no need for stateful, and easier to batch\n",
    "# 3) potentially generalised better, as the inter-sentence context can be quite domain specific given a limited dataset\n",
    "#\n",
    "# Downsides of i.i.d:\n",
    "# 1) slower to train due to the paddings added to every sentence to normalise them to the max length for batching, \n",
    "# which doesn't contain much useful information to be learnt \n",
    "# (pre-processed to 242430samples*163tokens vs 137280samples*100tokens) -> (700s/epoch vs 240s/epoch)\n",
    "# 2) depends on the needs of the language model, this factored in shorter-range dependency than truncated BPTT, \n",
    "# constrained to the length of sentence\n",
    "# v.s. factoring in longer-term dependencies as far as truncate_length * num_batch\n",
    "#\n",
    "# Based on the implementation result, perplexity on held-out test is higher for truncated BPTT. This can be interpretted\n",
    "# as that because it is trying to factor in more contextual information, therefore more factors added more uncertainty \n",
    "# to the sequence; Also it takes more data to train as well (it is hard to say truncated BPTT would produce a less accurate\n",
    "# language model if training data is abundant)\n",
    "\n",
    "\n",
    "\n",
    "# Question 3: Rather than modeling documents as a sequence of words, you can model the document as a sequence of \n",
    "# characters. Are the per-word perplexities comparable between these two models? What benefits does modeling text at \n",
    "# the character level have? What disadvantages?\n",
    "#\n",
    "# No. Firstly, it is probably more accurate to call it per-step/token perplexity as one learns character probability and \n",
    "# the other word; The perplexity/cross-entropy is evaluated based on a different true probability distribution, similiar\n",
    "# to question 1, they are not comparable. In fact, due to the smaller corpus, perplexity is significantly smaller for\n",
    "# character-based encoding. \n",
    "#\n",
    "# However, it is possible to roughly normalise the per-character perplexity to per-word perplexity\n",
    "# by doing ppc^(average length of word). Based on the length of samples in the practical, we can take average length\n",
    "# of word as 5 characters, thus the per-character perplexity of model 2.2 of 110 should be normalised to 110^5(much larger),\n",
    "# to be compared with the per-word perplexity of model 1.2 of 8466.\n",
    "#\n",
    "#\n",
    "# \n",
    "# Pros:\n",
    "# - generalise better to word not existing in the dataset vocabulary as encoded in character level\n",
    "# - faster to train as the index size of the embedding layers is about 1600 times smaller(50000 vs 30)\n",
    "#   equals to the length of encoder, while num_inputs = 10979*2000 vs 137280*100 increases only around 2~3 times.\n",
    "#   in truncated BPTT case, 20s/epoch vs 240s/epoch\n",
    "#\n",
    "# Cons:\n",
    "# - information of the pre-knowledge of word is formed by characters is not present in the model initially, which needs\n",
    "#  to be learnt; when insufficiently trained, the model is likely to output word that does not exist in actual vocabulary\n",
    "# - it requires more data to be trained properly?\n",
    "\n",
    "\n",
    "# Question 4: Try a couple variations of the model using different definitions of RNNs (e.g., LSTMs, GRUs, simple \n",
    "# Elman RNNs) that were covered in class. How do perplexities compare?\n",
    "#\n",
    "# GRU performs better than LSTM due to the limited availability of data, and foreably better than vanilla RNN.\n",
    "\n",
    "\n",
    "# Question 5: In text classification, using bidirectional RNNs was suggested, could you use bidirectional RNNs for \n",
    "# the language modeling task? Why or why not?\n",
    "# \n",
    "# Yes.\n",
    "# \n",
    "# Practically, when not using truncated BPTT with stateful RNNs, it is possible to using BRNN assuming i.i.d.\n",
    "# In this case, the network will add a reversed layer of RNN, feeding reversed (output,input) to gain a model\n",
    "# that is also able to predict sequence backwards. When using together, the forward and backward network is merged\n",
    "# via chosen method, e.g. concat, to be forwarded to the output Dense layer to produce logits for sampling.\n",
    "#\n",
    "# In the example models of 1.1, BRNN shows better perplexity than unidirectional RNN."
   ]
  }
 ],
 "metadata": {
  "celltoolbar": "Raw Cell Format",
  "kernelspec": {
   "display_name": "Python 3",
   "language": "python",
   "name": "python3"
  },
  "language_info": {
   "codemirror_mode": {
    "name": "ipython",
    "version": 3
   },
   "file_extension": ".py",
   "mimetype": "text/x-python",
   "name": "python",
   "nbconvert_exporter": "python",
   "pygments_lexer": "ipython3",
   "version": "3.6.10"
  }
 },
 "nbformat": 4,
 "nbformat_minor": 4
}
